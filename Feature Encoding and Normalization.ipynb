{
 "cells": [
  {
   "cell_type": "markdown",
   "id": "fbde8fce",
   "metadata": {},
   "source": [
    "# Encoding\n",
    "\n",
    "It is no news that Machines only understand numbers, So when trying to make machine to learn, One has to always provide it with numbers to learn from, which makes it impossible for machine to learn from categorical features without some special process, one popular process as such is called **Encoding**. which helps in converting categorical columns to numerical.\n",
    "\n",
    "\n",
    "As the name implies, Encoding in Machine Learning is when one changes the representation in a data feature following some laid down conditions in order to make our algorithms make predictions with it, Since most machine learning algorithms can not learn from Categorical features which are mostly important features in our dataset to build model with.\n",
    "\n",
    "Due to these conditions, we have numerous methods of encoding and will try to discuss some of its methods in this class.\n",
    "\n",
    "**Types of Encoding**\n",
    "- **Label and Ordinal Encoding** : In label encoding,It is used to encode Ordered categorical features the classes in the features will be given discrete numbers increasing by Order, for instance, a feature with three classes of data will be encoded to have, 0,1,2 discrete values. It is not suitable to use for Nominal data because it adds weight to classes.\n",
    "\n",
    "- **One hot encoding and Dommying Encoding** : This two encodings works similarly with just a slight difference, It is best used on Nominal Categorical features. It represents the classes as 1s and 0s and create additional features, of N (number of classes) for One hot encoding and N-1 for Dummying. and represents with 0 if the class in the particular Instance does not fall under the class feature and 1 if it does.\n",
    "\n",
    "- **Frequency Encoding** : This is encoded with regards to how many times a class appears in the feature, then the frequency value of each class is used to replace the class in the column.\n",
    "\n",
    "- **Target Encoding** : This method of encoding takes to account the Target / Label variable, It maps every class instance with its corresponding target variable then gets total sum for each class and use that to find the mean of the class by diving the total sum for each class by corresponding frequency for the class and uses the  mean value to represent the class\n",
    "\n",
    "We will be practicing these methods using two techniques. \n",
    "**Use of  Category_encoders python package**. Which you can install on your notebooks using internet with \n",
    "**!pip install category_encoders**.\n",
    "\n",
    "**We Use Scikit libraries** .\n",
    "\n",
    "### Lets Practice!!!"
   ]
  },
  {
   "cell_type": "code",
   "execution_count": 1,
   "id": "497a2708",
   "metadata": {},
   "outputs": [],
   "source": [
    "### Lets import our needed libraries\n",
    "import numpy as np\n",
    "import pandas as pd\n",
    "import matplotlib.pyplot as plt\n",
    "import seaborn as sns\n",
    "import random\n",
    "import category_encoders as ce ## If you already have it installed.\n",
    "from sklearn.preprocessing import LabelEncoder\n",
    "from sklearn.preprocessing import OneHotEncoder"
   ]
  },
  {
   "cell_type": "code",
   "execution_count": 2,
   "id": "141b7821",
   "metadata": {},
   "outputs": [
    {
     "data": {
      "text/html": [
       "<div>\n",
       "<style scoped>\n",
       "    .dataframe tbody tr th:only-of-type {\n",
       "        vertical-align: middle;\n",
       "    }\n",
       "\n",
       "    .dataframe tbody tr th {\n",
       "        vertical-align: top;\n",
       "    }\n",
       "\n",
       "    .dataframe thead th {\n",
       "        text-align: right;\n",
       "    }\n",
       "</style>\n",
       "<table border=\"1\" class=\"dataframe\">\n",
       "  <thead>\n",
       "    <tr style=\"text-align: right;\">\n",
       "      <th></th>\n",
       "      <th>Languages</th>\n",
       "      <th>Levels</th>\n",
       "      <th>Salaries</th>\n",
       "    </tr>\n",
       "  </thead>\n",
       "  <tbody>\n",
       "    <tr>\n",
       "      <th>0</th>\n",
       "      <td>C++</td>\n",
       "      <td>Experienced Level</td>\n",
       "      <td>1139433</td>\n",
       "    </tr>\n",
       "    <tr>\n",
       "      <th>1</th>\n",
       "      <td>C++</td>\n",
       "      <td>Entry Level</td>\n",
       "      <td>293587</td>\n",
       "    </tr>\n",
       "    <tr>\n",
       "      <th>2</th>\n",
       "      <td>python</td>\n",
       "      <td>Entry Level</td>\n",
       "      <td>253848</td>\n",
       "    </tr>\n",
       "    <tr>\n",
       "      <th>3</th>\n",
       "      <td>python</td>\n",
       "      <td>Entry Level</td>\n",
       "      <td>199070</td>\n",
       "    </tr>\n",
       "    <tr>\n",
       "      <th>4</th>\n",
       "      <td>C++</td>\n",
       "      <td>Senior Level</td>\n",
       "      <td>3917472</td>\n",
       "    </tr>\n",
       "    <tr>\n",
       "      <th>5</th>\n",
       "      <td>python</td>\n",
       "      <td>Senior Level</td>\n",
       "      <td>3573776</td>\n",
       "    </tr>\n",
       "    <tr>\n",
       "      <th>6</th>\n",
       "      <td>python</td>\n",
       "      <td>Senior Level</td>\n",
       "      <td>2147087</td>\n",
       "    </tr>\n",
       "    <tr>\n",
       "      <th>7</th>\n",
       "      <td>java</td>\n",
       "      <td>Senior Level</td>\n",
       "      <td>2100206</td>\n",
       "    </tr>\n",
       "    <tr>\n",
       "      <th>8</th>\n",
       "      <td>python</td>\n",
       "      <td>Experienced Level</td>\n",
       "      <td>920004</td>\n",
       "    </tr>\n",
       "    <tr>\n",
       "      <th>9</th>\n",
       "      <td>java</td>\n",
       "      <td>Senior Level</td>\n",
       "      <td>3511385</td>\n",
       "    </tr>\n",
       "    <tr>\n",
       "      <th>10</th>\n",
       "      <td>C++</td>\n",
       "      <td>Entry Level</td>\n",
       "      <td>253770</td>\n",
       "    </tr>\n",
       "    <tr>\n",
       "      <th>11</th>\n",
       "      <td>python</td>\n",
       "      <td>Senior Level</td>\n",
       "      <td>2050917</td>\n",
       "    </tr>\n",
       "    <tr>\n",
       "      <th>12</th>\n",
       "      <td>python</td>\n",
       "      <td>Experienced Level</td>\n",
       "      <td>999473</td>\n",
       "    </tr>\n",
       "    <tr>\n",
       "      <th>13</th>\n",
       "      <td>C++</td>\n",
       "      <td>Experienced Level</td>\n",
       "      <td>1014998</td>\n",
       "    </tr>\n",
       "    <tr>\n",
       "      <th>14</th>\n",
       "      <td>C++</td>\n",
       "      <td>Experienced Level</td>\n",
       "      <td>885987</td>\n",
       "    </tr>\n",
       "    <tr>\n",
       "      <th>15</th>\n",
       "      <td>java</td>\n",
       "      <td>Entry Level</td>\n",
       "      <td>416778</td>\n",
       "    </tr>\n",
       "    <tr>\n",
       "      <th>16</th>\n",
       "      <td>C++</td>\n",
       "      <td>Experienced Level</td>\n",
       "      <td>1151083</td>\n",
       "    </tr>\n",
       "    <tr>\n",
       "      <th>17</th>\n",
       "      <td>C++</td>\n",
       "      <td>Entry Level</td>\n",
       "      <td>268347</td>\n",
       "    </tr>\n",
       "    <tr>\n",
       "      <th>18</th>\n",
       "      <td>C++</td>\n",
       "      <td>Experienced Level</td>\n",
       "      <td>1028972</td>\n",
       "    </tr>\n",
       "    <tr>\n",
       "      <th>19</th>\n",
       "      <td>java</td>\n",
       "      <td>Entry Level</td>\n",
       "      <td>277195</td>\n",
       "    </tr>\n",
       "    <tr>\n",
       "      <th>20</th>\n",
       "      <td>C++</td>\n",
       "      <td>Senior Level</td>\n",
       "      <td>1854542</td>\n",
       "    </tr>\n",
       "    <tr>\n",
       "      <th>21</th>\n",
       "      <td>java</td>\n",
       "      <td>Senior Level</td>\n",
       "      <td>2073042</td>\n",
       "    </tr>\n",
       "    <tr>\n",
       "      <th>22</th>\n",
       "      <td>python</td>\n",
       "      <td>Entry Level</td>\n",
       "      <td>286817</td>\n",
       "    </tr>\n",
       "    <tr>\n",
       "      <th>23</th>\n",
       "      <td>java</td>\n",
       "      <td>Experienced Level</td>\n",
       "      <td>914307</td>\n",
       "    </tr>\n",
       "    <tr>\n",
       "      <th>24</th>\n",
       "      <td>C++</td>\n",
       "      <td>Entry Level</td>\n",
       "      <td>487600</td>\n",
       "    </tr>\n",
       "    <tr>\n",
       "      <th>25</th>\n",
       "      <td>java</td>\n",
       "      <td>Entry Level</td>\n",
       "      <td>434228</td>\n",
       "    </tr>\n",
       "    <tr>\n",
       "      <th>26</th>\n",
       "      <td>python</td>\n",
       "      <td>Senior Level</td>\n",
       "      <td>2466360</td>\n",
       "    </tr>\n",
       "    <tr>\n",
       "      <th>27</th>\n",
       "      <td>C++</td>\n",
       "      <td>Entry Level</td>\n",
       "      <td>355136</td>\n",
       "    </tr>\n",
       "    <tr>\n",
       "      <th>28</th>\n",
       "      <td>java</td>\n",
       "      <td>Experienced Level</td>\n",
       "      <td>858291</td>\n",
       "    </tr>\n",
       "    <tr>\n",
       "      <th>29</th>\n",
       "      <td>java</td>\n",
       "      <td>Senior Level</td>\n",
       "      <td>2783436</td>\n",
       "    </tr>\n",
       "  </tbody>\n",
       "</table>\n",
       "</div>"
      ],
      "text/plain": [
       "   Languages             Levels  Salaries\n",
       "0        C++  Experienced Level   1139433\n",
       "1        C++        Entry Level    293587\n",
       "2     python        Entry Level    253848\n",
       "3     python        Entry Level    199070\n",
       "4        C++       Senior Level   3917472\n",
       "5     python       Senior Level   3573776\n",
       "6     python       Senior Level   2147087\n",
       "7       java       Senior Level   2100206\n",
       "8     python  Experienced Level    920004\n",
       "9       java       Senior Level   3511385\n",
       "10       C++        Entry Level    253770\n",
       "11    python       Senior Level   2050917\n",
       "12    python  Experienced Level    999473\n",
       "13       C++  Experienced Level   1014998\n",
       "14       C++  Experienced Level    885987\n",
       "15      java        Entry Level    416778\n",
       "16       C++  Experienced Level   1151083\n",
       "17       C++        Entry Level    268347\n",
       "18       C++  Experienced Level   1028972\n",
       "19      java        Entry Level    277195\n",
       "20       C++       Senior Level   1854542\n",
       "21      java       Senior Level   2073042\n",
       "22    python        Entry Level    286817\n",
       "23      java  Experienced Level    914307\n",
       "24       C++        Entry Level    487600\n",
       "25      java        Entry Level    434228\n",
       "26    python       Senior Level   2466360\n",
       "27       C++        Entry Level    355136\n",
       "28      java  Experienced Level    858291\n",
       "29      java       Senior Level   2783436"
      ]
     },
     "execution_count": 2,
     "metadata": {},
     "output_type": "execute_result"
    }
   ],
   "source": [
    "## Lets generate categorical data.\n",
    "random.seed(24)\n",
    "max_rows = 30\n",
    "languages_list = ['python','java','C++']\n",
    "languages = []\n",
    "level_list = ['Entry Level','Experienced Level','Senior Level']\n",
    "levels = []\n",
    "Salary = []\n",
    "\n",
    "for _ in range (0, max_rows) :\n",
    "    language = random.choice(languages_list)\n",
    "    level = random.choice(level_list)\n",
    "    languages.append(language)\n",
    "    levels.append(level) \n",
    "for _ in levels :\n",
    "    if _ == \"Entry Level\" :\n",
    "        Salary.append(random.randrange(150000, 500000))\n",
    "    elif _ == \"Experienced Level\" :\n",
    "        Salary.append(random.randrange(750000, 1200000))\n",
    "    elif _ == \"Senior Level\" :\n",
    "        Salary.append(random.randrange(1500000, 4000000))\n",
    "    else:\n",
    "        Salary.append(np.nan)\n",
    "framed = pd.DataFrame({\"Languages\":languages,\"Levels\":levels,\"Salaries\":Salary})\n",
    "framed"
   ]
  },
  {
   "cell_type": "markdown",
   "id": "99df2fef",
   "metadata": {},
   "source": [
    "Our dataframe is a 30 by 3 matrix, with two categorical features of **Languages** and **Levels**, and labels of the amount earned as **Salaries**. This Shows a sample poppulation of tech employees in organisations.\n",
    "\n",
    "The first feature is a **Nominal Categorical Feature** while the second feature is an **Ordinal Categorical Feature** then the label is a **Discret Numerical Feature** "
   ]
  },
  {
   "cell_type": "code",
   "execution_count": 3,
   "id": "ad395600",
   "metadata": {},
   "outputs": [
    {
     "name": "stdout",
     "output_type": "stream",
     "text": [
      "<class 'pandas.core.frame.DataFrame'>\n",
      "RangeIndex: 30 entries, 0 to 29\n",
      "Data columns (total 3 columns):\n",
      " #   Column     Non-Null Count  Dtype \n",
      "---  ------     --------------  ----- \n",
      " 0   Languages  30 non-null     object\n",
      " 1   Levels     30 non-null     object\n",
      " 2   Salaries   30 non-null     int64 \n",
      "dtypes: int64(1), object(2)\n",
      "memory usage: 848.0+ bytes\n"
     ]
    }
   ],
   "source": [
    "framed.info()"
   ]
  },
  {
   "cell_type": "code",
   "execution_count": 4,
   "id": "206587cf",
   "metadata": {},
   "outputs": [],
   "source": [
    "## First approach using label encoding or Ordinal Encoding\n",
    "def lets_encode(df, cols, package, encoder = None) :\n",
    "    \"\"\"\n",
    "Function For Encoding Categorical Features, various methods for encoding are included in this function, to choose a\n",
    "method,\n",
    "Parameters :\n",
    "df = Dataframe\n",
    "cols = column or columns needed\n",
    "package = method of packages to use which can be : le, ce_oe,oh,du,fe,mt\n",
    "we provide the following short form of methods with its meaning as follows :\n",
    "le = Label Encoding\n",
    "ce_oe = categorical encoders Ordinal Encoding\n",
    "oh = One hot encoding\n",
    "du = dummy encoding\n",
    "fe = frequency encoding\n",
    "mt = mean target encoding\n",
    "\n",
    "encoder = external method needed for encoding\n",
    "    \"\"\"\n",
    "    encoded_df = df[cols]\n",
    "    if package == \"le\" :\n",
    "        encoded_df = encoded_df.apply(encoder.fit_transform)\n",
    "        return encoded_df\n",
    "    elif package == \"ce_oe\" :\n",
    "        encoded_df = encoder.fit_transform(encoded_df)\n",
    "        return encoded_df\n",
    "    elif package == \"oh\" :\n",
    "        encoded_df = pd.DataFrame(encoder.fit_transform(encoded_df).toarray())\n",
    "        return encoded_df\n",
    "    elif package == \"du\" :\n",
    "        encoded_df = pd.get_dummies(df[cols])\n",
    "        return encoded_df\n",
    "    elif package == 'fe' :\n",
    "        encoded_df = df[cols]\n",
    "        y = encoded_df.groupby(cols).size().reset_index()\n",
    "        y.columns = [cols[0], 'freq'+cols[0]]\n",
    "        encoded_df = pd.merge(encoded_df,y,on = cols[0], how = 'left')\n",
    "        return encoded_df\n",
    "    elif package == \"mt\" :\n",
    "        encoded_df = df[cols]\n",
    "        x = encoded_df.groupby([cols[0]])[cols[1]].sum().reset_index()\n",
    "        x = x.rename(columns={cols[1]:cols[0]+\"_\"+cols[1]+\"_sum\"})\n",
    "\n",
    "        y = encoded_df.groupby([cols[0]])[cols[1]].count().reset_index()\n",
    "        y = y.rename(columns={cols[1] :cols[0]+\"_\"+cols[1]+\"_Count\"})\n",
    "\n",
    "        z = pd.merge(x,y,on = cols[0], how = 'inner')\n",
    "\n",
    "        z['Target_enc_levels'] = z[cols[0]+\"_\"+cols[1]+\"_sum\"]/z[cols[0]+\"_\"+cols[1]+\"_Count\"]\n",
    "        encoded_df = pd.merge(encoded_df,z,on = cols[0], how = 'left')\n",
    "\n",
    "        return encoded_df"
   ]
  },
  {
   "cell_type": "markdown",
   "id": "01a4ac8d",
   "metadata": {},
   "source": [
    "A function was created which can be used for all methods of Encoding we will be treating in this class."
   ]
  },
  {
   "cell_type": "code",
   "execution_count": 5,
   "id": "4bac2c6c",
   "metadata": {},
   "outputs": [],
   "source": [
    "lets_encode?"
   ]
  },
  {
   "cell_type": "code",
   "execution_count": 6,
   "id": "1ea3f4e0",
   "metadata": {},
   "outputs": [
    {
     "data": {
      "text/html": [
       "<div>\n",
       "<style scoped>\n",
       "    .dataframe tbody tr th:only-of-type {\n",
       "        vertical-align: middle;\n",
       "    }\n",
       "\n",
       "    .dataframe tbody tr th {\n",
       "        vertical-align: top;\n",
       "    }\n",
       "\n",
       "    .dataframe thead th {\n",
       "        text-align: right;\n",
       "    }\n",
       "</style>\n",
       "<table border=\"1\" class=\"dataframe\">\n",
       "  <thead>\n",
       "    <tr style=\"text-align: right;\">\n",
       "      <th></th>\n",
       "      <th>Languages</th>\n",
       "      <th>Levels</th>\n",
       "      <th>Salaries</th>\n",
       "    </tr>\n",
       "  </thead>\n",
       "  <tbody>\n",
       "    <tr>\n",
       "      <th>0</th>\n",
       "      <td>C++</td>\n",
       "      <td>Experienced Level</td>\n",
       "      <td>1139433</td>\n",
       "    </tr>\n",
       "    <tr>\n",
       "      <th>1</th>\n",
       "      <td>C++</td>\n",
       "      <td>Entry Level</td>\n",
       "      <td>293587</td>\n",
       "    </tr>\n",
       "    <tr>\n",
       "      <th>2</th>\n",
       "      <td>python</td>\n",
       "      <td>Entry Level</td>\n",
       "      <td>253848</td>\n",
       "    </tr>\n",
       "    <tr>\n",
       "      <th>3</th>\n",
       "      <td>python</td>\n",
       "      <td>Entry Level</td>\n",
       "      <td>199070</td>\n",
       "    </tr>\n",
       "    <tr>\n",
       "      <th>4</th>\n",
       "      <td>C++</td>\n",
       "      <td>Senior Level</td>\n",
       "      <td>3917472</td>\n",
       "    </tr>\n",
       "  </tbody>\n",
       "</table>\n",
       "</div>"
      ],
      "text/plain": [
       "  Languages             Levels  Salaries\n",
       "0       C++  Experienced Level   1139433\n",
       "1       C++        Entry Level    293587\n",
       "2    python        Entry Level    253848\n",
       "3    python        Entry Level    199070\n",
       "4       C++       Senior Level   3917472"
      ]
     },
     "execution_count": 6,
     "metadata": {},
     "output_type": "execute_result"
    }
   ],
   "source": [
    "framed.head()"
   ]
  },
  {
   "cell_type": "code",
   "execution_count": 7,
   "id": "d45965cb",
   "metadata": {},
   "outputs": [
    {
     "data": {
      "text/html": [
       "<div>\n",
       "<style scoped>\n",
       "    .dataframe tbody tr th:only-of-type {\n",
       "        vertical-align: middle;\n",
       "    }\n",
       "\n",
       "    .dataframe tbody tr th {\n",
       "        vertical-align: top;\n",
       "    }\n",
       "\n",
       "    .dataframe thead th {\n",
       "        text-align: right;\n",
       "    }\n",
       "</style>\n",
       "<table border=\"1\" class=\"dataframe\">\n",
       "  <thead>\n",
       "    <tr style=\"text-align: right;\">\n",
       "      <th></th>\n",
       "      <th>Languages</th>\n",
       "      <th>Levels</th>\n",
       "    </tr>\n",
       "  </thead>\n",
       "  <tbody>\n",
       "    <tr>\n",
       "      <th>0</th>\n",
       "      <td>0</td>\n",
       "      <td>1</td>\n",
       "    </tr>\n",
       "    <tr>\n",
       "      <th>1</th>\n",
       "      <td>0</td>\n",
       "      <td>0</td>\n",
       "    </tr>\n",
       "    <tr>\n",
       "      <th>2</th>\n",
       "      <td>2</td>\n",
       "      <td>0</td>\n",
       "    </tr>\n",
       "    <tr>\n",
       "      <th>3</th>\n",
       "      <td>2</td>\n",
       "      <td>0</td>\n",
       "    </tr>\n",
       "    <tr>\n",
       "      <th>4</th>\n",
       "      <td>0</td>\n",
       "      <td>2</td>\n",
       "    </tr>\n",
       "    <tr>\n",
       "      <th>5</th>\n",
       "      <td>2</td>\n",
       "      <td>2</td>\n",
       "    </tr>\n",
       "    <tr>\n",
       "      <th>6</th>\n",
       "      <td>2</td>\n",
       "      <td>2</td>\n",
       "    </tr>\n",
       "    <tr>\n",
       "      <th>7</th>\n",
       "      <td>1</td>\n",
       "      <td>2</td>\n",
       "    </tr>\n",
       "    <tr>\n",
       "      <th>8</th>\n",
       "      <td>2</td>\n",
       "      <td>1</td>\n",
       "    </tr>\n",
       "  </tbody>\n",
       "</table>\n",
       "</div>"
      ],
      "text/plain": [
       "   Languages  Levels\n",
       "0          0       1\n",
       "1          0       0\n",
       "2          2       0\n",
       "3          2       0\n",
       "4          0       2\n",
       "5          2       2\n",
       "6          2       2\n",
       "7          1       2\n",
       "8          2       1"
      ]
     },
     "execution_count": 7,
     "metadata": {},
     "output_type": "execute_result"
    }
   ],
   "source": [
    "sk_label = lets_encode(framed,['Languages','Levels'], \"le\",LabelEncoder())\n",
    "sk_label.head(9)"
   ]
  },
  {
   "cell_type": "markdown",
   "id": "54833f97",
   "metadata": {},
   "source": [
    "This was used for encoding both categorical features and we can see it represents them with numbers. for instance in **Languages**, It represents **C++ with 0, python with 2 and Java with 1**, which might give the data an unwanted weight since it is nominal, One reason it is good for ordinal data, but one must be careful, and make sure it is encoded in the correct order. Which take us to the next method"
   ]
  },
  {
   "cell_type": "code",
   "execution_count": 8,
   "id": "239be178",
   "metadata": {},
   "outputs": [
    {
     "name": "stdout",
     "output_type": "stream",
     "text": [
      "  Languages  Levels\n",
      "0       C++       2\n",
      "1       C++       1\n",
      "2    python       1\n",
      "3    python       1\n",
      "4       C++       3\n",
      "  Languages             Levels  Salaries\n",
      "0       C++  Experienced Level   1139433\n",
      "1       C++        Entry Level    293587\n",
      "2    python        Entry Level    253848\n",
      "3    python        Entry Level    199070\n",
      "4       C++       Senior Level   3917472\n"
     ]
    }
   ],
   "source": [
    "## Ordina encode with category_encoders\n",
    "encoder = ce.OrdinalEncoder(cols=['Languages','Levels'],\n",
    "                           mapping=[{'col':\"Levels\",\n",
    "                                    'mapping':{\"Entry Level\":1,\n",
    "                                              \"Experienced Level\":2,\n",
    "                                              \"Senior Level\":3}}])\n",
    "ce_ordinal = lets_encode(framed,['Languages','Levels'], \"ce_oe\",encoder)\n",
    "print(ce_ordinal.head())\n",
    "print(framed.head())"
   ]
  },
  {
   "cell_type": "markdown",
   "id": "f99acc6a",
   "metadata": {},
   "source": [
    "This solves the Order part perfectly Since the Order can explicitly be provided but the weight is still there plus equal scale."
   ]
  },
  {
   "cell_type": "code",
   "execution_count": 9,
   "id": "533d3f6e",
   "metadata": {},
   "outputs": [
    {
     "name": "stdout",
     "output_type": "stream",
     "text": [
      "  Languages             Levels  Salaries\n",
      "0       C++  Experienced Level   1139433\n",
      "1       C++        Entry Level    293587\n",
      "2    python        Entry Level    253848\n",
      "3    python        Entry Level    199070\n",
      "4       C++       Senior Level   3917472\n",
      "5    python       Senior Level   3573776\n",
      "6    python       Senior Level   2147087\n",
      "7      java       Senior Level   2100206\n",
      "8    python  Experienced Level    920004\n",
      "     0    1    2\n",
      "0  1.0  0.0  0.0\n",
      "1  1.0  0.0  0.0\n",
      "2  0.0  0.0  1.0\n",
      "3  0.0  0.0  1.0\n",
      "4  1.0  0.0  0.0\n",
      "5  0.0  0.0  1.0\n",
      "6  0.0  0.0  1.0\n",
      "7  0.0  1.0  0.0\n",
      "8  0.0  0.0  1.0\n"
     ]
    }
   ],
   "source": [
    "## One Hot Encoding \n",
    "one_hot = lets_encode(framed,['Languages'],\"oh\",OneHotEncoder())\n",
    "print(framed.head(9))\n",
    "print(one_hot.head(9))"
   ]
  },
  {
   "cell_type": "markdown",
   "id": "f6cac071",
   "metadata": {},
   "source": [
    "We can see how this creates different columns for each class and assigns 1, if the class in that instance is the sub_column, then 0 if it isn't, This is good for Nominal data that have more that two classes, but doesn't work well when the classes are too much because it creates huge matrix that will consume much of the system's memory, It doesn't work well with tree based algorithms too."
   ]
  },
  {
   "cell_type": "code",
   "execution_count": 10,
   "id": "b6dc71eb",
   "metadata": {},
   "outputs": [
    {
     "name": "stdout",
     "output_type": "stream",
     "text": [
      "  Languages             Levels  Salaries\n",
      "0       C++  Experienced Level   1139433\n",
      "1       C++        Entry Level    293587\n",
      "2    python        Entry Level    253848\n",
      "3    python        Entry Level    199070\n",
      "4       C++       Senior Level   3917472\n",
      "5    python       Senior Level   3573776\n",
      "6    python       Senior Level   2147087\n",
      "7      java       Senior Level   2100206\n",
      "8    python  Experienced Level    920004\n"
     ]
    },
    {
     "data": {
      "text/html": [
       "<div>\n",
       "<style scoped>\n",
       "    .dataframe tbody tr th:only-of-type {\n",
       "        vertical-align: middle;\n",
       "    }\n",
       "\n",
       "    .dataframe tbody tr th {\n",
       "        vertical-align: top;\n",
       "    }\n",
       "\n",
       "    .dataframe thead th {\n",
       "        text-align: right;\n",
       "    }\n",
       "</style>\n",
       "<table border=\"1\" class=\"dataframe\">\n",
       "  <thead>\n",
       "    <tr style=\"text-align: right;\">\n",
       "      <th></th>\n",
       "      <th>Languages_C++</th>\n",
       "      <th>Languages_java</th>\n",
       "      <th>Languages_python</th>\n",
       "    </tr>\n",
       "  </thead>\n",
       "  <tbody>\n",
       "    <tr>\n",
       "      <th>0</th>\n",
       "      <td>1</td>\n",
       "      <td>0</td>\n",
       "      <td>0</td>\n",
       "    </tr>\n",
       "    <tr>\n",
       "      <th>1</th>\n",
       "      <td>1</td>\n",
       "      <td>0</td>\n",
       "      <td>0</td>\n",
       "    </tr>\n",
       "    <tr>\n",
       "      <th>2</th>\n",
       "      <td>0</td>\n",
       "      <td>0</td>\n",
       "      <td>1</td>\n",
       "    </tr>\n",
       "    <tr>\n",
       "      <th>3</th>\n",
       "      <td>0</td>\n",
       "      <td>0</td>\n",
       "      <td>1</td>\n",
       "    </tr>\n",
       "    <tr>\n",
       "      <th>4</th>\n",
       "      <td>1</td>\n",
       "      <td>0</td>\n",
       "      <td>0</td>\n",
       "    </tr>\n",
       "    <tr>\n",
       "      <th>5</th>\n",
       "      <td>0</td>\n",
       "      <td>0</td>\n",
       "      <td>1</td>\n",
       "    </tr>\n",
       "    <tr>\n",
       "      <th>6</th>\n",
       "      <td>0</td>\n",
       "      <td>0</td>\n",
       "      <td>1</td>\n",
       "    </tr>\n",
       "    <tr>\n",
       "      <th>7</th>\n",
       "      <td>0</td>\n",
       "      <td>1</td>\n",
       "      <td>0</td>\n",
       "    </tr>\n",
       "    <tr>\n",
       "      <th>8</th>\n",
       "      <td>0</td>\n",
       "      <td>0</td>\n",
       "      <td>1</td>\n",
       "    </tr>\n",
       "  </tbody>\n",
       "</table>\n",
       "</div>"
      ],
      "text/plain": [
       "   Languages_C++  Languages_java  Languages_python\n",
       "0              1               0                 0\n",
       "1              1               0                 0\n",
       "2              0               0                 1\n",
       "3              0               0                 1\n",
       "4              1               0                 0\n",
       "5              0               0                 1\n",
       "6              0               0                 1\n",
       "7              0               1                 0\n",
       "8              0               0                 1"
      ]
     },
     "execution_count": 10,
     "metadata": {},
     "output_type": "execute_result"
    }
   ],
   "source": [
    "dummied = lets_encode(framed,['Languages'],\"du\")\n",
    "print(framed.head(9))\n",
    "dummied.head(9)"
   ]
  },
  {
   "cell_type": "markdown",
   "id": "12de7d55",
   "metadata": {},
   "source": [
    "Better Version of One hot encoding with styles and all, one does not really need to rename the columns using this method for the encoding."
   ]
  },
  {
   "cell_type": "code",
   "execution_count": 12,
   "id": "31e988bc",
   "metadata": {},
   "outputs": [
    {
     "data": {
      "text/plain": [
       "C++       12\n",
       "python     9\n",
       "java       9\n",
       "Name: Languages, dtype: int64"
      ]
     },
     "execution_count": 12,
     "metadata": {},
     "output_type": "execute_result"
    }
   ],
   "source": [
    "framed['Languages'].value_counts()"
   ]
  },
  {
   "cell_type": "code",
   "execution_count": 13,
   "id": "722cdd36",
   "metadata": {},
   "outputs": [
    {
     "data": {
      "text/html": [
       "<div>\n",
       "<style scoped>\n",
       "    .dataframe tbody tr th:only-of-type {\n",
       "        vertical-align: middle;\n",
       "    }\n",
       "\n",
       "    .dataframe tbody tr th {\n",
       "        vertical-align: top;\n",
       "    }\n",
       "\n",
       "    .dataframe thead th {\n",
       "        text-align: right;\n",
       "    }\n",
       "</style>\n",
       "<table border=\"1\" class=\"dataframe\">\n",
       "  <thead>\n",
       "    <tr style=\"text-align: right;\">\n",
       "      <th></th>\n",
       "      <th>Languages</th>\n",
       "      <th>freqLanguages</th>\n",
       "    </tr>\n",
       "  </thead>\n",
       "  <tbody>\n",
       "    <tr>\n",
       "      <th>0</th>\n",
       "      <td>C++</td>\n",
       "      <td>12</td>\n",
       "    </tr>\n",
       "    <tr>\n",
       "      <th>1</th>\n",
       "      <td>C++</td>\n",
       "      <td>12</td>\n",
       "    </tr>\n",
       "    <tr>\n",
       "      <th>2</th>\n",
       "      <td>python</td>\n",
       "      <td>9</td>\n",
       "    </tr>\n",
       "    <tr>\n",
       "      <th>3</th>\n",
       "      <td>python</td>\n",
       "      <td>9</td>\n",
       "    </tr>\n",
       "    <tr>\n",
       "      <th>4</th>\n",
       "      <td>C++</td>\n",
       "      <td>12</td>\n",
       "    </tr>\n",
       "    <tr>\n",
       "      <th>5</th>\n",
       "      <td>python</td>\n",
       "      <td>9</td>\n",
       "    </tr>\n",
       "    <tr>\n",
       "      <th>6</th>\n",
       "      <td>python</td>\n",
       "      <td>9</td>\n",
       "    </tr>\n",
       "    <tr>\n",
       "      <th>7</th>\n",
       "      <td>java</td>\n",
       "      <td>9</td>\n",
       "    </tr>\n",
       "    <tr>\n",
       "      <th>8</th>\n",
       "      <td>python</td>\n",
       "      <td>9</td>\n",
       "    </tr>\n",
       "  </tbody>\n",
       "</table>\n",
       "</div>"
      ],
      "text/plain": [
       "  Languages  freqLanguages\n",
       "0       C++             12\n",
       "1       C++             12\n",
       "2    python              9\n",
       "3    python              9\n",
       "4       C++             12\n",
       "5    python              9\n",
       "6    python              9\n",
       "7      java              9\n",
       "8    python              9"
      ]
     },
     "execution_count": 13,
     "metadata": {},
     "output_type": "execute_result"
    }
   ],
   "source": [
    "freq = lets_encode(framed,['Languages'],'fe')\n",
    "freq.head(9)"
   ]
  },
  {
   "cell_type": "markdown",
   "id": "6e3a1852",
   "metadata": {},
   "source": [
    "This Method counts the number of times the each classes appears in a feature, then is used to replace the class in another series for each instance"
   ]
  },
  {
   "cell_type": "code",
   "execution_count": 14,
   "id": "875dae19",
   "metadata": {},
   "outputs": [
    {
     "data": {
      "text/html": [
       "<div>\n",
       "<style scoped>\n",
       "    .dataframe tbody tr th:only-of-type {\n",
       "        vertical-align: middle;\n",
       "    }\n",
       "\n",
       "    .dataframe tbody tr th {\n",
       "        vertical-align: top;\n",
       "    }\n",
       "\n",
       "    .dataframe thead th {\n",
       "        text-align: right;\n",
       "    }\n",
       "</style>\n",
       "<table border=\"1\" class=\"dataframe\">\n",
       "  <thead>\n",
       "    <tr style=\"text-align: right;\">\n",
       "      <th></th>\n",
       "      <th>Languages</th>\n",
       "      <th>Salaries</th>\n",
       "      <th>Languages_Salaries_sum</th>\n",
       "      <th>Languages_Salaries_Count</th>\n",
       "      <th>Target_enc_levels</th>\n",
       "    </tr>\n",
       "  </thead>\n",
       "  <tbody>\n",
       "    <tr>\n",
       "      <th>0</th>\n",
       "      <td>C++</td>\n",
       "      <td>1139433</td>\n",
       "      <td>12650927</td>\n",
       "      <td>12</td>\n",
       "      <td>1.054244e+06</td>\n",
       "    </tr>\n",
       "    <tr>\n",
       "      <th>1</th>\n",
       "      <td>C++</td>\n",
       "      <td>293587</td>\n",
       "      <td>12650927</td>\n",
       "      <td>12</td>\n",
       "      <td>1.054244e+06</td>\n",
       "    </tr>\n",
       "    <tr>\n",
       "      <th>2</th>\n",
       "      <td>python</td>\n",
       "      <td>253848</td>\n",
       "      <td>12897352</td>\n",
       "      <td>9</td>\n",
       "      <td>1.433039e+06</td>\n",
       "    </tr>\n",
       "    <tr>\n",
       "      <th>3</th>\n",
       "      <td>python</td>\n",
       "      <td>199070</td>\n",
       "      <td>12897352</td>\n",
       "      <td>9</td>\n",
       "      <td>1.433039e+06</td>\n",
       "    </tr>\n",
       "    <tr>\n",
       "      <th>4</th>\n",
       "      <td>C++</td>\n",
       "      <td>3917472</td>\n",
       "      <td>12650927</td>\n",
       "      <td>12</td>\n",
       "      <td>1.054244e+06</td>\n",
       "    </tr>\n",
       "    <tr>\n",
       "      <th>5</th>\n",
       "      <td>python</td>\n",
       "      <td>3573776</td>\n",
       "      <td>12897352</td>\n",
       "      <td>9</td>\n",
       "      <td>1.433039e+06</td>\n",
       "    </tr>\n",
       "    <tr>\n",
       "      <th>6</th>\n",
       "      <td>python</td>\n",
       "      <td>2147087</td>\n",
       "      <td>12897352</td>\n",
       "      <td>9</td>\n",
       "      <td>1.433039e+06</td>\n",
       "    </tr>\n",
       "    <tr>\n",
       "      <th>7</th>\n",
       "      <td>java</td>\n",
       "      <td>2100206</td>\n",
       "      <td>13368868</td>\n",
       "      <td>9</td>\n",
       "      <td>1.485430e+06</td>\n",
       "    </tr>\n",
       "    <tr>\n",
       "      <th>8</th>\n",
       "      <td>python</td>\n",
       "      <td>920004</td>\n",
       "      <td>12897352</td>\n",
       "      <td>9</td>\n",
       "      <td>1.433039e+06</td>\n",
       "    </tr>\n",
       "    <tr>\n",
       "      <th>9</th>\n",
       "      <td>java</td>\n",
       "      <td>3511385</td>\n",
       "      <td>13368868</td>\n",
       "      <td>9</td>\n",
       "      <td>1.485430e+06</td>\n",
       "    </tr>\n",
       "    <tr>\n",
       "      <th>10</th>\n",
       "      <td>C++</td>\n",
       "      <td>253770</td>\n",
       "      <td>12650927</td>\n",
       "      <td>12</td>\n",
       "      <td>1.054244e+06</td>\n",
       "    </tr>\n",
       "    <tr>\n",
       "      <th>11</th>\n",
       "      <td>python</td>\n",
       "      <td>2050917</td>\n",
       "      <td>12897352</td>\n",
       "      <td>9</td>\n",
       "      <td>1.433039e+06</td>\n",
       "    </tr>\n",
       "    <tr>\n",
       "      <th>12</th>\n",
       "      <td>python</td>\n",
       "      <td>999473</td>\n",
       "      <td>12897352</td>\n",
       "      <td>9</td>\n",
       "      <td>1.433039e+06</td>\n",
       "    </tr>\n",
       "    <tr>\n",
       "      <th>13</th>\n",
       "      <td>C++</td>\n",
       "      <td>1014998</td>\n",
       "      <td>12650927</td>\n",
       "      <td>12</td>\n",
       "      <td>1.054244e+06</td>\n",
       "    </tr>\n",
       "    <tr>\n",
       "      <th>14</th>\n",
       "      <td>C++</td>\n",
       "      <td>885987</td>\n",
       "      <td>12650927</td>\n",
       "      <td>12</td>\n",
       "      <td>1.054244e+06</td>\n",
       "    </tr>\n",
       "    <tr>\n",
       "      <th>15</th>\n",
       "      <td>java</td>\n",
       "      <td>416778</td>\n",
       "      <td>13368868</td>\n",
       "      <td>9</td>\n",
       "      <td>1.485430e+06</td>\n",
       "    </tr>\n",
       "    <tr>\n",
       "      <th>16</th>\n",
       "      <td>C++</td>\n",
       "      <td>1151083</td>\n",
       "      <td>12650927</td>\n",
       "      <td>12</td>\n",
       "      <td>1.054244e+06</td>\n",
       "    </tr>\n",
       "    <tr>\n",
       "      <th>17</th>\n",
       "      <td>C++</td>\n",
       "      <td>268347</td>\n",
       "      <td>12650927</td>\n",
       "      <td>12</td>\n",
       "      <td>1.054244e+06</td>\n",
       "    </tr>\n",
       "    <tr>\n",
       "      <th>18</th>\n",
       "      <td>C++</td>\n",
       "      <td>1028972</td>\n",
       "      <td>12650927</td>\n",
       "      <td>12</td>\n",
       "      <td>1.054244e+06</td>\n",
       "    </tr>\n",
       "    <tr>\n",
       "      <th>19</th>\n",
       "      <td>java</td>\n",
       "      <td>277195</td>\n",
       "      <td>13368868</td>\n",
       "      <td>9</td>\n",
       "      <td>1.485430e+06</td>\n",
       "    </tr>\n",
       "  </tbody>\n",
       "</table>\n",
       "</div>"
      ],
      "text/plain": [
       "   Languages  Salaries  Languages_Salaries_sum  Languages_Salaries_Count  \\\n",
       "0        C++   1139433                12650927                        12   \n",
       "1        C++    293587                12650927                        12   \n",
       "2     python    253848                12897352                         9   \n",
       "3     python    199070                12897352                         9   \n",
       "4        C++   3917472                12650927                        12   \n",
       "5     python   3573776                12897352                         9   \n",
       "6     python   2147087                12897352                         9   \n",
       "7       java   2100206                13368868                         9   \n",
       "8     python    920004                12897352                         9   \n",
       "9       java   3511385                13368868                         9   \n",
       "10       C++    253770                12650927                        12   \n",
       "11    python   2050917                12897352                         9   \n",
       "12    python    999473                12897352                         9   \n",
       "13       C++   1014998                12650927                        12   \n",
       "14       C++    885987                12650927                        12   \n",
       "15      java    416778                13368868                         9   \n",
       "16       C++   1151083                12650927                        12   \n",
       "17       C++    268347                12650927                        12   \n",
       "18       C++   1028972                12650927                        12   \n",
       "19      java    277195                13368868                         9   \n",
       "\n",
       "    Target_enc_levels  \n",
       "0        1.054244e+06  \n",
       "1        1.054244e+06  \n",
       "2        1.433039e+06  \n",
       "3        1.433039e+06  \n",
       "4        1.054244e+06  \n",
       "5        1.433039e+06  \n",
       "6        1.433039e+06  \n",
       "7        1.485430e+06  \n",
       "8        1.433039e+06  \n",
       "9        1.485430e+06  \n",
       "10       1.054244e+06  \n",
       "11       1.433039e+06  \n",
       "12       1.433039e+06  \n",
       "13       1.054244e+06  \n",
       "14       1.054244e+06  \n",
       "15       1.485430e+06  \n",
       "16       1.054244e+06  \n",
       "17       1.054244e+06  \n",
       "18       1.054244e+06  \n",
       "19       1.485430e+06  "
      ]
     },
     "execution_count": 14,
     "metadata": {},
     "output_type": "execute_result"
    }
   ],
   "source": [
    "target = lets_encode(framed,['Languages','Salaries'],\"mt\")\n",
    "target.head(20)"
   ]
  },
  {
   "cell_type": "markdown",
   "id": "1fe2a521",
   "metadata": {},
   "source": [
    "This method groups the classes in the feature with their corresponding values in the target/label, gets the mean for each classes and Use the mean values to replace the classes in the feature, It is One of the best powerful method to use, the only downside of this method is Overfitting which can be fixed by Regularizing the Model."
   ]
  },
  {
   "cell_type": "markdown",
   "id": "644bb7d2",
   "metadata": {},
   "source": [
    "### Lets practice with external data !!"
   ]
  },
  {
   "cell_type": "code",
   "execution_count": 15,
   "id": "a2c4d811",
   "metadata": {},
   "outputs": [],
   "source": [
    "## read in the data \n",
    "\n",
    "df = pd.read_csv('Loan prediction train.csv')"
   ]
  },
  {
   "cell_type": "code",
   "execution_count": 16,
   "id": "b2f5c1b2",
   "metadata": {},
   "outputs": [
    {
     "name": "stdout",
     "output_type": "stream",
     "text": [
      "<class 'pandas.core.frame.DataFrame'>\n",
      "RangeIndex: 614 entries, 0 to 613\n",
      "Data columns (total 13 columns):\n",
      " #   Column             Non-Null Count  Dtype  \n",
      "---  ------             --------------  -----  \n",
      " 0   Loan_ID            614 non-null    object \n",
      " 1   Gender             601 non-null    object \n",
      " 2   Married            611 non-null    object \n",
      " 3   Dependents         599 non-null    object \n",
      " 4   Education          614 non-null    object \n",
      " 5   Self_Employed      582 non-null    object \n",
      " 6   ApplicantIncome    614 non-null    int64  \n",
      " 7   CoapplicantIncome  614 non-null    float64\n",
      " 8   LoanAmount         592 non-null    float64\n",
      " 9   Loan_Amount_Term   600 non-null    float64\n",
      " 10  Credit_History     564 non-null    float64\n",
      " 11  Property_Area      614 non-null    object \n",
      " 12  Loan_Status        614 non-null    object \n",
      "dtypes: float64(4), int64(1), object(8)\n",
      "memory usage: 62.5+ KB\n"
     ]
    }
   ],
   "source": [
    "df.info()"
   ]
  },
  {
   "cell_type": "markdown",
   "id": "76d9b4d9",
   "metadata": {},
   "source": [
    "We will be working with **Education** as Ordinal and **Property_Area** as nominal features"
   ]
  },
  {
   "cell_type": "code",
   "execution_count": 17,
   "id": "06b91c02",
   "metadata": {},
   "outputs": [
    {
     "data": {
      "text/html": [
       "<div>\n",
       "<style scoped>\n",
       "    .dataframe tbody tr th:only-of-type {\n",
       "        vertical-align: middle;\n",
       "    }\n",
       "\n",
       "    .dataframe tbody tr th {\n",
       "        vertical-align: top;\n",
       "    }\n",
       "\n",
       "    .dataframe thead th {\n",
       "        text-align: right;\n",
       "    }\n",
       "</style>\n",
       "<table border=\"1\" class=\"dataframe\">\n",
       "  <thead>\n",
       "    <tr style=\"text-align: right;\">\n",
       "      <th></th>\n",
       "      <th>Education</th>\n",
       "    </tr>\n",
       "  </thead>\n",
       "  <tbody>\n",
       "    <tr>\n",
       "      <th>0</th>\n",
       "      <td>0</td>\n",
       "    </tr>\n",
       "    <tr>\n",
       "      <th>1</th>\n",
       "      <td>0</td>\n",
       "    </tr>\n",
       "    <tr>\n",
       "      <th>2</th>\n",
       "      <td>0</td>\n",
       "    </tr>\n",
       "    <tr>\n",
       "      <th>3</th>\n",
       "      <td>1</td>\n",
       "    </tr>\n",
       "    <tr>\n",
       "      <th>4</th>\n",
       "      <td>0</td>\n",
       "    </tr>\n",
       "  </tbody>\n",
       "</table>\n",
       "</div>"
      ],
      "text/plain": [
       "   Education\n",
       "0          0\n",
       "1          0\n",
       "2          0\n",
       "3          1\n",
       "4          0"
      ]
     },
     "execution_count": 17,
     "metadata": {},
     "output_type": "execute_result"
    }
   ],
   "source": [
    "sk_label = lets_encode(df,['Education'], \"le\",LabelEncoder())\n",
    "sk_label.head()"
   ]
  },
  {
   "cell_type": "code",
   "execution_count": 18,
   "id": "46632b18",
   "metadata": {},
   "outputs": [
    {
     "data": {
      "text/html": [
       "<div>\n",
       "<style scoped>\n",
       "    .dataframe tbody tr th:only-of-type {\n",
       "        vertical-align: middle;\n",
       "    }\n",
       "\n",
       "    .dataframe tbody tr th {\n",
       "        vertical-align: top;\n",
       "    }\n",
       "\n",
       "    .dataframe thead th {\n",
       "        text-align: right;\n",
       "    }\n",
       "</style>\n",
       "<table border=\"1\" class=\"dataframe\">\n",
       "  <thead>\n",
       "    <tr style=\"text-align: right;\">\n",
       "      <th></th>\n",
       "      <th>Education</th>\n",
       "    </tr>\n",
       "  </thead>\n",
       "  <tbody>\n",
       "    <tr>\n",
       "      <th>0</th>\n",
       "      <td>2</td>\n",
       "    </tr>\n",
       "    <tr>\n",
       "      <th>1</th>\n",
       "      <td>2</td>\n",
       "    </tr>\n",
       "    <tr>\n",
       "      <th>2</th>\n",
       "      <td>2</td>\n",
       "    </tr>\n",
       "    <tr>\n",
       "      <th>3</th>\n",
       "      <td>1</td>\n",
       "    </tr>\n",
       "    <tr>\n",
       "      <th>4</th>\n",
       "      <td>2</td>\n",
       "    </tr>\n",
       "  </tbody>\n",
       "</table>\n",
       "</div>"
      ],
      "text/plain": [
       "   Education\n",
       "0          2\n",
       "1          2\n",
       "2          2\n",
       "3          1\n",
       "4          2"
      ]
     },
     "execution_count": 18,
     "metadata": {},
     "output_type": "execute_result"
    }
   ],
   "source": [
    "encoder = ce.OrdinalEncoder(cols=['Education'],\n",
    "                           mapping=[{'col':\"Education\",\n",
    "                                    'mapping':{\"Graduate\":2,\n",
    "                                              \"Not Graduate\":1}}])\n",
    "ce_ordinal = lets_encode(df,['Education'], \"ce_oe\",encoder)\n",
    "ce_ordinal.head()"
   ]
  },
  {
   "cell_type": "code",
   "execution_count": 19,
   "id": "cbf35413",
   "metadata": {},
   "outputs": [
    {
     "data": {
      "text/html": [
       "<div>\n",
       "<style scoped>\n",
       "    .dataframe tbody tr th:only-of-type {\n",
       "        vertical-align: middle;\n",
       "    }\n",
       "\n",
       "    .dataframe tbody tr th {\n",
       "        vertical-align: top;\n",
       "    }\n",
       "\n",
       "    .dataframe thead th {\n",
       "        text-align: right;\n",
       "    }\n",
       "</style>\n",
       "<table border=\"1\" class=\"dataframe\">\n",
       "  <thead>\n",
       "    <tr style=\"text-align: right;\">\n",
       "      <th></th>\n",
       "      <th>0</th>\n",
       "      <th>1</th>\n",
       "      <th>2</th>\n",
       "    </tr>\n",
       "  </thead>\n",
       "  <tbody>\n",
       "    <tr>\n",
       "      <th>0</th>\n",
       "      <td>0.0</td>\n",
       "      <td>0.0</td>\n",
       "      <td>1.0</td>\n",
       "    </tr>\n",
       "    <tr>\n",
       "      <th>1</th>\n",
       "      <td>1.0</td>\n",
       "      <td>0.0</td>\n",
       "      <td>0.0</td>\n",
       "    </tr>\n",
       "    <tr>\n",
       "      <th>2</th>\n",
       "      <td>0.0</td>\n",
       "      <td>0.0</td>\n",
       "      <td>1.0</td>\n",
       "    </tr>\n",
       "    <tr>\n",
       "      <th>3</th>\n",
       "      <td>0.0</td>\n",
       "      <td>0.0</td>\n",
       "      <td>1.0</td>\n",
       "    </tr>\n",
       "    <tr>\n",
       "      <th>4</th>\n",
       "      <td>0.0</td>\n",
       "      <td>0.0</td>\n",
       "      <td>1.0</td>\n",
       "    </tr>\n",
       "  </tbody>\n",
       "</table>\n",
       "</div>"
      ],
      "text/plain": [
       "     0    1    2\n",
       "0  0.0  0.0  1.0\n",
       "1  1.0  0.0  0.0\n",
       "2  0.0  0.0  1.0\n",
       "3  0.0  0.0  1.0\n",
       "4  0.0  0.0  1.0"
      ]
     },
     "execution_count": 19,
     "metadata": {},
     "output_type": "execute_result"
    }
   ],
   "source": [
    "one_hot = lets_encode(df,['Property_Area'],\"oh\",OneHotEncoder())\n",
    "one_hot.head()"
   ]
  },
  {
   "cell_type": "code",
   "execution_count": 20,
   "id": "3d51eb9d",
   "metadata": {},
   "outputs": [
    {
     "data": {
      "text/html": [
       "<div>\n",
       "<style scoped>\n",
       "    .dataframe tbody tr th:only-of-type {\n",
       "        vertical-align: middle;\n",
       "    }\n",
       "\n",
       "    .dataframe tbody tr th {\n",
       "        vertical-align: top;\n",
       "    }\n",
       "\n",
       "    .dataframe thead th {\n",
       "        text-align: right;\n",
       "    }\n",
       "</style>\n",
       "<table border=\"1\" class=\"dataframe\">\n",
       "  <thead>\n",
       "    <tr style=\"text-align: right;\">\n",
       "      <th></th>\n",
       "      <th>Property_Area_Rural</th>\n",
       "      <th>Property_Area_Semiurban</th>\n",
       "      <th>Property_Area_Urban</th>\n",
       "    </tr>\n",
       "  </thead>\n",
       "  <tbody>\n",
       "    <tr>\n",
       "      <th>0</th>\n",
       "      <td>0</td>\n",
       "      <td>0</td>\n",
       "      <td>1</td>\n",
       "    </tr>\n",
       "    <tr>\n",
       "      <th>1</th>\n",
       "      <td>1</td>\n",
       "      <td>0</td>\n",
       "      <td>0</td>\n",
       "    </tr>\n",
       "    <tr>\n",
       "      <th>2</th>\n",
       "      <td>0</td>\n",
       "      <td>0</td>\n",
       "      <td>1</td>\n",
       "    </tr>\n",
       "    <tr>\n",
       "      <th>3</th>\n",
       "      <td>0</td>\n",
       "      <td>0</td>\n",
       "      <td>1</td>\n",
       "    </tr>\n",
       "    <tr>\n",
       "      <th>4</th>\n",
       "      <td>0</td>\n",
       "      <td>0</td>\n",
       "      <td>1</td>\n",
       "    </tr>\n",
       "  </tbody>\n",
       "</table>\n",
       "</div>"
      ],
      "text/plain": [
       "   Property_Area_Rural  Property_Area_Semiurban  Property_Area_Urban\n",
       "0                    0                        0                    1\n",
       "1                    1                        0                    0\n",
       "2                    0                        0                    1\n",
       "3                    0                        0                    1\n",
       "4                    0                        0                    1"
      ]
     },
     "execution_count": 20,
     "metadata": {},
     "output_type": "execute_result"
    }
   ],
   "source": [
    "dummied = lets_encode(df,['Property_Area'],\"du\")\n",
    "dummied.head()"
   ]
  },
  {
   "cell_type": "code",
   "execution_count": 21,
   "id": "14ebcc06",
   "metadata": {},
   "outputs": [
    {
     "data": {
      "text/html": [
       "<div>\n",
       "<style scoped>\n",
       "    .dataframe tbody tr th:only-of-type {\n",
       "        vertical-align: middle;\n",
       "    }\n",
       "\n",
       "    .dataframe tbody tr th {\n",
       "        vertical-align: top;\n",
       "    }\n",
       "\n",
       "    .dataframe thead th {\n",
       "        text-align: right;\n",
       "    }\n",
       "</style>\n",
       "<table border=\"1\" class=\"dataframe\">\n",
       "  <thead>\n",
       "    <tr style=\"text-align: right;\">\n",
       "      <th></th>\n",
       "      <th>Education</th>\n",
       "      <th>freqEducation</th>\n",
       "    </tr>\n",
       "  </thead>\n",
       "  <tbody>\n",
       "    <tr>\n",
       "      <th>0</th>\n",
       "      <td>Graduate</td>\n",
       "      <td>480</td>\n",
       "    </tr>\n",
       "    <tr>\n",
       "      <th>1</th>\n",
       "      <td>Graduate</td>\n",
       "      <td>480</td>\n",
       "    </tr>\n",
       "    <tr>\n",
       "      <th>2</th>\n",
       "      <td>Graduate</td>\n",
       "      <td>480</td>\n",
       "    </tr>\n",
       "    <tr>\n",
       "      <th>3</th>\n",
       "      <td>Not Graduate</td>\n",
       "      <td>134</td>\n",
       "    </tr>\n",
       "    <tr>\n",
       "      <th>4</th>\n",
       "      <td>Graduate</td>\n",
       "      <td>480</td>\n",
       "    </tr>\n",
       "  </tbody>\n",
       "</table>\n",
       "</div>"
      ],
      "text/plain": [
       "      Education  freqEducation\n",
       "0      Graduate            480\n",
       "1      Graduate            480\n",
       "2      Graduate            480\n",
       "3  Not Graduate            134\n",
       "4      Graduate            480"
      ]
     },
     "execution_count": 21,
     "metadata": {},
     "output_type": "execute_result"
    }
   ],
   "source": [
    "freq = lets_encode(df,['Education'],'fe')\n",
    "freq.head()"
   ]
  },
  {
   "cell_type": "code",
   "execution_count": 22,
   "id": "f3ed14ee",
   "metadata": {},
   "outputs": [
    {
     "data": {
      "text/html": [
       "<div>\n",
       "<style scoped>\n",
       "    .dataframe tbody tr th:only-of-type {\n",
       "        vertical-align: middle;\n",
       "    }\n",
       "\n",
       "    .dataframe tbody tr th {\n",
       "        vertical-align: top;\n",
       "    }\n",
       "\n",
       "    .dataframe thead th {\n",
       "        text-align: right;\n",
       "    }\n",
       "</style>\n",
       "<table border=\"1\" class=\"dataframe\">\n",
       "  <thead>\n",
       "    <tr style=\"text-align: right;\">\n",
       "      <th></th>\n",
       "      <th>Property_Area</th>\n",
       "      <th>freqProperty_Area</th>\n",
       "    </tr>\n",
       "  </thead>\n",
       "  <tbody>\n",
       "    <tr>\n",
       "      <th>0</th>\n",
       "      <td>Urban</td>\n",
       "      <td>202</td>\n",
       "    </tr>\n",
       "    <tr>\n",
       "      <th>1</th>\n",
       "      <td>Rural</td>\n",
       "      <td>179</td>\n",
       "    </tr>\n",
       "    <tr>\n",
       "      <th>2</th>\n",
       "      <td>Urban</td>\n",
       "      <td>202</td>\n",
       "    </tr>\n",
       "    <tr>\n",
       "      <th>3</th>\n",
       "      <td>Urban</td>\n",
       "      <td>202</td>\n",
       "    </tr>\n",
       "    <tr>\n",
       "      <th>4</th>\n",
       "      <td>Urban</td>\n",
       "      <td>202</td>\n",
       "    </tr>\n",
       "    <tr>\n",
       "      <th>5</th>\n",
       "      <td>Urban</td>\n",
       "      <td>202</td>\n",
       "    </tr>\n",
       "    <tr>\n",
       "      <th>6</th>\n",
       "      <td>Urban</td>\n",
       "      <td>202</td>\n",
       "    </tr>\n",
       "    <tr>\n",
       "      <th>7</th>\n",
       "      <td>Semiurban</td>\n",
       "      <td>233</td>\n",
       "    </tr>\n",
       "    <tr>\n",
       "      <th>8</th>\n",
       "      <td>Urban</td>\n",
       "      <td>202</td>\n",
       "    </tr>\n",
       "    <tr>\n",
       "      <th>9</th>\n",
       "      <td>Semiurban</td>\n",
       "      <td>233</td>\n",
       "    </tr>\n",
       "  </tbody>\n",
       "</table>\n",
       "</div>"
      ],
      "text/plain": [
       "  Property_Area  freqProperty_Area\n",
       "0         Urban                202\n",
       "1         Rural                179\n",
       "2         Urban                202\n",
       "3         Urban                202\n",
       "4         Urban                202\n",
       "5         Urban                202\n",
       "6         Urban                202\n",
       "7     Semiurban                233\n",
       "8         Urban                202\n",
       "9     Semiurban                233"
      ]
     },
     "execution_count": 22,
     "metadata": {},
     "output_type": "execute_result"
    }
   ],
   "source": [
    "freq = lets_encode(df,['Property_Area'],'fe')\n",
    "freq.head(10)"
   ]
  },
  {
   "cell_type": "code",
   "execution_count": 23,
   "id": "17b785a6",
   "metadata": {},
   "outputs": [
    {
     "name": "stdout",
     "output_type": "stream",
     "text": [
      "<class 'pandas.core.frame.DataFrame'>\n",
      "RangeIndex: 614 entries, 0 to 613\n",
      "Data columns (total 13 columns):\n",
      " #   Column             Non-Null Count  Dtype  \n",
      "---  ------             --------------  -----  \n",
      " 0   Loan_ID            614 non-null    object \n",
      " 1   Gender             601 non-null    object \n",
      " 2   Married            611 non-null    object \n",
      " 3   Dependents         599 non-null    object \n",
      " 4   Education          614 non-null    object \n",
      " 5   Self_Employed      582 non-null    object \n",
      " 6   ApplicantIncome    614 non-null    int64  \n",
      " 7   CoapplicantIncome  614 non-null    float64\n",
      " 8   LoanAmount         592 non-null    float64\n",
      " 9   Loan_Amount_Term   600 non-null    float64\n",
      " 10  Credit_History     564 non-null    float64\n",
      " 11  Property_Area      614 non-null    object \n",
      " 12  Loan_Status        614 non-null    int64  \n",
      "dtypes: float64(4), int64(2), object(7)\n",
      "memory usage: 62.5+ KB\n"
     ]
    }
   ],
   "source": [
    "## Convert the Target to Numerical column.\n",
    "Loan = []\n",
    "for i in df['Loan_Status'] :\n",
    "    if i == \"Y\":\n",
    "        Loan.append(1)\n",
    "    else :\n",
    "        Loan.append(0)\n",
    "df['Loan_Status'] = Loan\n",
    "\n",
    "df.info()"
   ]
  },
  {
   "cell_type": "code",
   "execution_count": 24,
   "id": "94bd2bfd",
   "metadata": {},
   "outputs": [
    {
     "data": {
      "text/html": [
       "<div>\n",
       "<style scoped>\n",
       "    .dataframe tbody tr th:only-of-type {\n",
       "        vertical-align: middle;\n",
       "    }\n",
       "\n",
       "    .dataframe tbody tr th {\n",
       "        vertical-align: top;\n",
       "    }\n",
       "\n",
       "    .dataframe thead th {\n",
       "        text-align: right;\n",
       "    }\n",
       "</style>\n",
       "<table border=\"1\" class=\"dataframe\">\n",
       "  <thead>\n",
       "    <tr style=\"text-align: right;\">\n",
       "      <th></th>\n",
       "      <th>Education</th>\n",
       "      <th>Loan_Status</th>\n",
       "      <th>Education_Loan_Status_sum</th>\n",
       "      <th>Education_Loan_Status_Count</th>\n",
       "      <th>Target_enc_levels</th>\n",
       "    </tr>\n",
       "  </thead>\n",
       "  <tbody>\n",
       "    <tr>\n",
       "      <th>0</th>\n",
       "      <td>Graduate</td>\n",
       "      <td>1</td>\n",
       "      <td>340</td>\n",
       "      <td>480</td>\n",
       "      <td>0.708333</td>\n",
       "    </tr>\n",
       "    <tr>\n",
       "      <th>1</th>\n",
       "      <td>Graduate</td>\n",
       "      <td>0</td>\n",
       "      <td>340</td>\n",
       "      <td>480</td>\n",
       "      <td>0.708333</td>\n",
       "    </tr>\n",
       "    <tr>\n",
       "      <th>2</th>\n",
       "      <td>Graduate</td>\n",
       "      <td>1</td>\n",
       "      <td>340</td>\n",
       "      <td>480</td>\n",
       "      <td>0.708333</td>\n",
       "    </tr>\n",
       "    <tr>\n",
       "      <th>3</th>\n",
       "      <td>Not Graduate</td>\n",
       "      <td>1</td>\n",
       "      <td>82</td>\n",
       "      <td>134</td>\n",
       "      <td>0.611940</td>\n",
       "    </tr>\n",
       "    <tr>\n",
       "      <th>4</th>\n",
       "      <td>Graduate</td>\n",
       "      <td>1</td>\n",
       "      <td>340</td>\n",
       "      <td>480</td>\n",
       "      <td>0.708333</td>\n",
       "    </tr>\n",
       "    <tr>\n",
       "      <th>5</th>\n",
       "      <td>Graduate</td>\n",
       "      <td>1</td>\n",
       "      <td>340</td>\n",
       "      <td>480</td>\n",
       "      <td>0.708333</td>\n",
       "    </tr>\n",
       "    <tr>\n",
       "      <th>6</th>\n",
       "      <td>Not Graduate</td>\n",
       "      <td>1</td>\n",
       "      <td>82</td>\n",
       "      <td>134</td>\n",
       "      <td>0.611940</td>\n",
       "    </tr>\n",
       "    <tr>\n",
       "      <th>7</th>\n",
       "      <td>Graduate</td>\n",
       "      <td>0</td>\n",
       "      <td>340</td>\n",
       "      <td>480</td>\n",
       "      <td>0.708333</td>\n",
       "    </tr>\n",
       "    <tr>\n",
       "      <th>8</th>\n",
       "      <td>Graduate</td>\n",
       "      <td>1</td>\n",
       "      <td>340</td>\n",
       "      <td>480</td>\n",
       "      <td>0.708333</td>\n",
       "    </tr>\n",
       "    <tr>\n",
       "      <th>9</th>\n",
       "      <td>Graduate</td>\n",
       "      <td>0</td>\n",
       "      <td>340</td>\n",
       "      <td>480</td>\n",
       "      <td>0.708333</td>\n",
       "    </tr>\n",
       "  </tbody>\n",
       "</table>\n",
       "</div>"
      ],
      "text/plain": [
       "      Education  Loan_Status  Education_Loan_Status_sum  \\\n",
       "0      Graduate            1                        340   \n",
       "1      Graduate            0                        340   \n",
       "2      Graduate            1                        340   \n",
       "3  Not Graduate            1                         82   \n",
       "4      Graduate            1                        340   \n",
       "5      Graduate            1                        340   \n",
       "6  Not Graduate            1                         82   \n",
       "7      Graduate            0                        340   \n",
       "8      Graduate            1                        340   \n",
       "9      Graduate            0                        340   \n",
       "\n",
       "   Education_Loan_Status_Count  Target_enc_levels  \n",
       "0                          480           0.708333  \n",
       "1                          480           0.708333  \n",
       "2                          480           0.708333  \n",
       "3                          134           0.611940  \n",
       "4                          480           0.708333  \n",
       "5                          480           0.708333  \n",
       "6                          134           0.611940  \n",
       "7                          480           0.708333  \n",
       "8                          480           0.708333  \n",
       "9                          480           0.708333  "
      ]
     },
     "execution_count": 24,
     "metadata": {},
     "output_type": "execute_result"
    }
   ],
   "source": [
    "target = lets_encode(df,['Education','Loan_Status'],\"mt\")\n",
    "target.head(10)"
   ]
  },
  {
   "cell_type": "code",
   "execution_count": 25,
   "id": "0431eee6",
   "metadata": {},
   "outputs": [
    {
     "data": {
      "text/html": [
       "<div>\n",
       "<style scoped>\n",
       "    .dataframe tbody tr th:only-of-type {\n",
       "        vertical-align: middle;\n",
       "    }\n",
       "\n",
       "    .dataframe tbody tr th {\n",
       "        vertical-align: top;\n",
       "    }\n",
       "\n",
       "    .dataframe thead th {\n",
       "        text-align: right;\n",
       "    }\n",
       "</style>\n",
       "<table border=\"1\" class=\"dataframe\">\n",
       "  <thead>\n",
       "    <tr style=\"text-align: right;\">\n",
       "      <th></th>\n",
       "      <th>Property_Area</th>\n",
       "      <th>Loan_Status</th>\n",
       "      <th>Property_Area_Loan_Status_sum</th>\n",
       "      <th>Property_Area_Loan_Status_Count</th>\n",
       "      <th>Target_enc_levels</th>\n",
       "    </tr>\n",
       "  </thead>\n",
       "  <tbody>\n",
       "    <tr>\n",
       "      <th>0</th>\n",
       "      <td>Urban</td>\n",
       "      <td>1</td>\n",
       "      <td>133</td>\n",
       "      <td>202</td>\n",
       "      <td>0.658416</td>\n",
       "    </tr>\n",
       "    <tr>\n",
       "      <th>1</th>\n",
       "      <td>Rural</td>\n",
       "      <td>0</td>\n",
       "      <td>110</td>\n",
       "      <td>179</td>\n",
       "      <td>0.614525</td>\n",
       "    </tr>\n",
       "    <tr>\n",
       "      <th>2</th>\n",
       "      <td>Urban</td>\n",
       "      <td>1</td>\n",
       "      <td>133</td>\n",
       "      <td>202</td>\n",
       "      <td>0.658416</td>\n",
       "    </tr>\n",
       "    <tr>\n",
       "      <th>3</th>\n",
       "      <td>Urban</td>\n",
       "      <td>1</td>\n",
       "      <td>133</td>\n",
       "      <td>202</td>\n",
       "      <td>0.658416</td>\n",
       "    </tr>\n",
       "    <tr>\n",
       "      <th>4</th>\n",
       "      <td>Urban</td>\n",
       "      <td>1</td>\n",
       "      <td>133</td>\n",
       "      <td>202</td>\n",
       "      <td>0.658416</td>\n",
       "    </tr>\n",
       "    <tr>\n",
       "      <th>...</th>\n",
       "      <td>...</td>\n",
       "      <td>...</td>\n",
       "      <td>...</td>\n",
       "      <td>...</td>\n",
       "      <td>...</td>\n",
       "    </tr>\n",
       "    <tr>\n",
       "      <th>609</th>\n",
       "      <td>Rural</td>\n",
       "      <td>1</td>\n",
       "      <td>110</td>\n",
       "      <td>179</td>\n",
       "      <td>0.614525</td>\n",
       "    </tr>\n",
       "    <tr>\n",
       "      <th>610</th>\n",
       "      <td>Rural</td>\n",
       "      <td>1</td>\n",
       "      <td>110</td>\n",
       "      <td>179</td>\n",
       "      <td>0.614525</td>\n",
       "    </tr>\n",
       "    <tr>\n",
       "      <th>611</th>\n",
       "      <td>Urban</td>\n",
       "      <td>1</td>\n",
       "      <td>133</td>\n",
       "      <td>202</td>\n",
       "      <td>0.658416</td>\n",
       "    </tr>\n",
       "    <tr>\n",
       "      <th>612</th>\n",
       "      <td>Urban</td>\n",
       "      <td>1</td>\n",
       "      <td>133</td>\n",
       "      <td>202</td>\n",
       "      <td>0.658416</td>\n",
       "    </tr>\n",
       "    <tr>\n",
       "      <th>613</th>\n",
       "      <td>Semiurban</td>\n",
       "      <td>0</td>\n",
       "      <td>179</td>\n",
       "      <td>233</td>\n",
       "      <td>0.768240</td>\n",
       "    </tr>\n",
       "  </tbody>\n",
       "</table>\n",
       "<p>614 rows × 5 columns</p>\n",
       "</div>"
      ],
      "text/plain": [
       "    Property_Area  Loan_Status  Property_Area_Loan_Status_sum  \\\n",
       "0           Urban            1                            133   \n",
       "1           Rural            0                            110   \n",
       "2           Urban            1                            133   \n",
       "3           Urban            1                            133   \n",
       "4           Urban            1                            133   \n",
       "..            ...          ...                            ...   \n",
       "609         Rural            1                            110   \n",
       "610         Rural            1                            110   \n",
       "611         Urban            1                            133   \n",
       "612         Urban            1                            133   \n",
       "613     Semiurban            0                            179   \n",
       "\n",
       "     Property_Area_Loan_Status_Count  Target_enc_levels  \n",
       "0                                202           0.658416  \n",
       "1                                179           0.614525  \n",
       "2                                202           0.658416  \n",
       "3                                202           0.658416  \n",
       "4                                202           0.658416  \n",
       "..                               ...                ...  \n",
       "609                              179           0.614525  \n",
       "610                              179           0.614525  \n",
       "611                              202           0.658416  \n",
       "612                              202           0.658416  \n",
       "613                              233           0.768240  \n",
       "\n",
       "[614 rows x 5 columns]"
      ]
     },
     "execution_count": 25,
     "metadata": {},
     "output_type": "execute_result"
    }
   ],
   "source": [
    "target = lets_encode(df,['Property_Area','Loan_Status'],\"mt\")\n",
    "target"
   ]
  },
  {
   "cell_type": "markdown",
   "id": "304e645a",
   "metadata": {},
   "source": [
    "# Normalization\n",
    "\n",
    "It won't be that ideal to discuss Normalization in ML without discussing feature Scaling.\n",
    "\n",
    "## Feature Scaling \n",
    "\n",
    "Lets assume we have a dataset that has age and net worth as features, we all know that values for net worth averagely will be above hundreds of thousands while that of age averagely will be around 100. This will make some ML algorithm give higher priority to net worth as a feature which most times is not usually the case, So in order to prevent this, we have to use a technique tagged Feature Scaling.\n",
    "\n",
    "Feature Scaling will help us scale the features to similar range of values which will help some algorithms (Distance based, those that utilizes gradient descent, neural networks ) make better predictions. It is a preprocessing technique carried out on Numerical features.\n",
    "\n",
    "### Techniques For Scaling\n",
    "\n",
    "- Normalization : This is a technique whereby the range of the data is changed but the shape is not changed, It is usually used on data features that does not follow a Gaussian distribution.\n",
    "- Standardization : This changes the shape of the data feature to a Gaussian distribution, where the mean will be Zero and Standard deviation will be 1.\n",
    "\n",
    "### Methods for scaling features (Standardization and Normalization)\n",
    "\n",
    "* **MinMax Scaler** : It is a method used for Normalization,The difference between a value and the minimum value divided by the difference between the Maximum and Minimum Value. And the data ranges from 0 till 1.Its equation goes thus : $X_{new}=\\frac{X-X_{min}}{X_{max}-X_{min}}$  It works well on data features whose distribution is not Gaussian and have low variance, It is very sensitive to Outliers. \n",
    "\n",
    "* **Standard Scaler** : It assumes data features are Gaussian distribution, So I will say it follows Standardization techniques and not good for features that are not normal distributed, and it gives the new values mean of 0 and standard deviation of 1. Its equation goes thus : $x_{new} = \\frac{x-\\mu}{\\sigma}$\n",
    "\n",
    "* **Robust Scaler** : This is best used for scaling features with outliers since it is not affected by it. It gets the difference of the feature item and the median value of the feature and divides it by the IQR (Inter Quartile Range) which is the difference between the 75th percentile and 25th percentile of the distribution, Its formula goes thus : $x_{new}=\\frac{x\\,-\\,x_{median}}{IQR}$.\n",
    "\n",
    "* **Power Transformer Scaler** : This method is used to make data more Gaussian distributed, It is handles data feature that is formed from features with highly varying variance which leads to highly skewed data. It uses Maximum likelihood estimation for scaling. Its Method in Sklearn package supports Box-Cox transform for strictly positive data feature and Yeo-Johnson transform for both positive and negative data features. \n",
    "\n",
    "### Lets practice !!!"
   ]
  },
  {
   "cell_type": "code",
   "execution_count": 26,
   "id": "906a45fd",
   "metadata": {},
   "outputs": [],
   "source": [
    "### Lets import required packages\n",
    "from sklearn.preprocessing import MinMaxScaler, StandardScaler, RobustScaler, PowerTransformer"
   ]
  },
  {
   "cell_type": "code",
   "execution_count": 27,
   "id": "5743524b",
   "metadata": {},
   "outputs": [],
   "source": [
    "### Lets generate data \n",
    "max_row = 30\n",
    "low_int = [random.randrange(1,9) for i in range(max_row)]\n",
    "high_int = [random.randrange(100,900) for i in range(max_row)]\n",
    "data = pd.DataFrame({\"low_int\":low_int, \"high_int\":high_int})\n",
    "data['no_out'] = data['high_int']\n",
    "data['high_int'][25:29] = [1400,1600, 1200,1500]\n",
    "data['with_neg'] = data['no_out']\n",
    "data['with_neg'][7:11] = [-2, -10, -5, -6]"
   ]
  },
  {
   "cell_type": "code",
   "execution_count": 28,
   "id": "82ac79c1",
   "metadata": {},
   "outputs": [],
   "source": [
    "data['high_int'][25:29] = [4000,3200, 1200,1500]"
   ]
  },
  {
   "cell_type": "code",
   "execution_count": 29,
   "id": "75eea108",
   "metadata": {},
   "outputs": [
    {
     "data": {
      "image/png": "[encoded data removed]",
      "text/plain": [
       "<Figure size 792x504 with 1 Axes>"
      ]
     },
     "metadata": {
      "needs_background": "light"
     },
     "output_type": "display_data"
    }
   ],
   "source": [
    "data.boxplot(figsize = (11, 7))\n",
    "plt.show()"
   ]
  },
  {
   "cell_type": "markdown",
   "id": "8722baf4",
   "metadata": {},
   "source": [
    "This Shows the data with different Scale, with low in been almost invisible, and some with outliers"
   ]
  },
  {
   "cell_type": "code",
   "execution_count": 30,
   "id": "821822c2",
   "metadata": {},
   "outputs": [],
   "source": [
    "### scaling function\n",
    "def Scaler(df, cols, method):\n",
    "    scaled_df = df[cols]\n",
    "    if method.lower() == \"mmx\":\n",
    "        scaler = MinMaxScaler()\n",
    "        scaled_df = pd.DataFrame(scaler.fit_transform(scaled_df))\n",
    "        scaled_df.columns = cols\n",
    "        return scaled_df\n",
    "    elif method.lower() == \"sts\":\n",
    "        scaler = StandardScaler()\n",
    "        scaled_df = pd.DataFrame(scaler.fit_transform(scaled_df))\n",
    "        scaled_df.columns = cols\n",
    "        return scaled_df\n",
    "    elif method.lower() == \"rbs\":\n",
    "        scaler = RobustScaler()\n",
    "        scaled_df = pd.DataFrame(scaler.fit_transform(scaled_df))\n",
    "        scaled_df.columns = cols\n",
    "        return scaled_df\n",
    "    elif method.lower() == \"ptb\":\n",
    "        scaler = PowerTransformer(method='box-cox')\n",
    "        scaled_df = pd.DataFrame(scaler.fit_transform(scaled_df))\n",
    "        scaled_df.columns = cols\n",
    "        return scaled_df\n",
    "    elif method.lower() == \"pty\":\n",
    "        scaler = PowerTransformer(method='yeo-johnson')\n",
    "        scaled_df = pd.DataFrame(scaler.fit_transform(scaled_df))\n",
    "        scaled_df.columns = cols\n",
    "        return scaled_df"
   ]
  },
  {
   "cell_type": "code",
   "execution_count": 31,
   "id": "d60116eb",
   "metadata": {},
   "outputs": [
    {
     "data": {
      "image/png": "[encoded data removed]",
      "text/plain": [
       "<Figure size 792x504 with 1 Axes>"
      ]
     },
     "metadata": {
      "needs_background": "light"
     },
     "output_type": "display_data"
    }
   ],
   "source": [
    "min_max = Scaler(data, ['low_int','high_int','no_out','with_neg'],'mmx')\n",
    "min_max.boxplot(figsize = (11, 7))\n",
    "plt.show()"
   ]
  },
  {
   "cell_type": "markdown",
   "id": "419ff894",
   "metadata": {},
   "source": [
    "Using Min_Max scaler, one can see that the data is between the range 0 and 1,and the effect of outlier is shown from its varying quartile indication"
   ]
  },
  {
   "cell_type": "code",
   "execution_count": 32,
   "id": "18e10e26",
   "metadata": {},
   "outputs": [
    {
     "data": {
      "image/png": "[encoded data removed]",
      "text/plain": [
       "<Figure size 792x504 with 1 Axes>"
      ]
     },
     "metadata": {
      "needs_background": "light"
     },
     "output_type": "display_data"
    }
   ],
   "source": [
    "%matplotlib inline\n",
    "Sta = Scaler(data, ['low_int','high_int','no_out','with_neg'],'sts')\n",
    "Sta.boxplot(figsize = (11, 7))\n",
    "plt.show()"
   ]
  },
  {
   "cell_type": "code",
   "execution_count": 33,
   "id": "e27c02d7",
   "metadata": {},
   "outputs": [
    {
     "data": {
      "text/plain": [
       "<AxesSubplot:ylabel='low_int'>"
      ]
     },
     "execution_count": 33,
     "metadata": {},
     "output_type": "execute_result"
    },
    {
     "data": {
      "image/png": "[encoded data removed]",
      "text/plain": [
       "<Figure size 432x288 with 1 Axes>"
      ]
     },
     "metadata": {
      "needs_background": "light"
     },
     "output_type": "display_data"
    }
   ],
   "source": [
    "sns.boxplot(data=Sta, y='low_int')"
   ]
  },
  {
   "cell_type": "markdown",
   "id": "e89bbb66",
   "metadata": {},
   "source": [
    "Standard Scaler worked best with the column with no outlier which follows Gaussian distribution, but performed bad with data"
   ]
  },
  {
   "cell_type": "code",
   "execution_count": 34,
   "id": "92228e0f",
   "metadata": {},
   "outputs": [
    {
     "data": {
      "image/png": "[encoded data removed]",
      "text/plain": [
       "<Figure size 792x504 with 1 Axes>"
      ]
     },
     "metadata": {
      "needs_background": "light"
     },
     "output_type": "display_data"
    }
   ],
   "source": [
    "robust = Scaler(data, ['low_int','high_int','no_out','with_neg'],'rbs')\n",
    "robust.boxplot(figsize = (11, 7))\n",
    "plt.show()"
   ]
  },
  {
   "cell_type": "markdown",
   "id": "2fcf7eb4",
   "metadata": {},
   "source": [
    "Robust Scaler, Shows its is not affected by Outliers, you can see its 50th percentile been equal and 0."
   ]
  },
  {
   "cell_type": "code",
   "execution_count": 35,
   "id": "ab41d100",
   "metadata": {},
   "outputs": [
    {
     "ename": "ValueError",
     "evalue": "The Box-Cox transformation can only be applied to strictly positive data",
     "output_type": "error",
     "traceback": [
      "\u001b[1;31m---------------------------------------------------------------------------\u001b[0m",
      "\u001b[1;31mValueError\u001b[0m                                Traceback (most recent call last)",
      "\u001b[1;32m~\\AppData\\Local\\Temp/ipykernel_8688/289408107.py\u001b[0m in \u001b[0;36m<module>\u001b[1;34m\u001b[0m\n\u001b[1;32m----> 1\u001b[1;33m \u001b[0mbox_cox\u001b[0m \u001b[1;33m=\u001b[0m \u001b[0mScaler\u001b[0m\u001b[1;33m(\u001b[0m\u001b[0mdata\u001b[0m\u001b[1;33m,\u001b[0m \u001b[1;33m[\u001b[0m\u001b[1;34m'low_int'\u001b[0m\u001b[1;33m,\u001b[0m\u001b[1;34m'high_int'\u001b[0m\u001b[1;33m,\u001b[0m\u001b[1;34m'no_out'\u001b[0m\u001b[1;33m,\u001b[0m\u001b[1;34m'with_neg'\u001b[0m\u001b[1;33m]\u001b[0m\u001b[1;33m,\u001b[0m\u001b[1;34m'ptb'\u001b[0m\u001b[1;33m)\u001b[0m\u001b[1;33m\u001b[0m\u001b[1;33m\u001b[0m\u001b[0m\n\u001b[0m\u001b[0;32m      2\u001b[0m \u001b[0mbox_cox\u001b[0m\u001b[1;33m.\u001b[0m\u001b[0mboxplot\u001b[0m\u001b[1;33m(\u001b[0m\u001b[0mfigsize\u001b[0m \u001b[1;33m=\u001b[0m \u001b[1;33m(\u001b[0m\u001b[1;36m11\u001b[0m\u001b[1;33m,\u001b[0m \u001b[1;36m7\u001b[0m\u001b[1;33m)\u001b[0m\u001b[1;33m)\u001b[0m\u001b[1;33m\u001b[0m\u001b[1;33m\u001b[0m\u001b[0m\n\u001b[0;32m      3\u001b[0m \u001b[0mplt\u001b[0m\u001b[1;33m.\u001b[0m\u001b[0mshow\u001b[0m\u001b[1;33m(\u001b[0m\u001b[1;33m)\u001b[0m\u001b[1;33m\u001b[0m\u001b[1;33m\u001b[0m\u001b[0m\n",
      "\u001b[1;32m~\\AppData\\Local\\Temp/ipykernel_8688/80675472.py\u001b[0m in \u001b[0;36mScaler\u001b[1;34m(df, cols, method)\u001b[0m\n\u001b[0;32m     19\u001b[0m     \u001b[1;32melif\u001b[0m \u001b[0mmethod\u001b[0m\u001b[1;33m.\u001b[0m\u001b[0mlower\u001b[0m\u001b[1;33m(\u001b[0m\u001b[1;33m)\u001b[0m \u001b[1;33m==\u001b[0m \u001b[1;34m\"ptb\"\u001b[0m\u001b[1;33m:\u001b[0m\u001b[1;33m\u001b[0m\u001b[1;33m\u001b[0m\u001b[0m\n\u001b[0;32m     20\u001b[0m         \u001b[0mscaler\u001b[0m \u001b[1;33m=\u001b[0m \u001b[0mPowerTransformer\u001b[0m\u001b[1;33m(\u001b[0m\u001b[0mmethod\u001b[0m\u001b[1;33m=\u001b[0m\u001b[1;34m'box-cox'\u001b[0m\u001b[1;33m)\u001b[0m\u001b[1;33m\u001b[0m\u001b[1;33m\u001b[0m\u001b[0m\n\u001b[1;32m---> 21\u001b[1;33m         \u001b[0mscaled_df\u001b[0m \u001b[1;33m=\u001b[0m \u001b[0mpd\u001b[0m\u001b[1;33m.\u001b[0m\u001b[0mDataFrame\u001b[0m\u001b[1;33m(\u001b[0m\u001b[0mscaler\u001b[0m\u001b[1;33m.\u001b[0m\u001b[0mfit_transform\u001b[0m\u001b[1;33m(\u001b[0m\u001b[0mscaled_df\u001b[0m\u001b[1;33m)\u001b[0m\u001b[1;33m)\u001b[0m\u001b[1;33m\u001b[0m\u001b[1;33m\u001b[0m\u001b[0m\n\u001b[0m\u001b[0;32m     22\u001b[0m         \u001b[0mscaled_df\u001b[0m\u001b[1;33m.\u001b[0m\u001b[0mcolumns\u001b[0m \u001b[1;33m=\u001b[0m \u001b[0mcols\u001b[0m\u001b[1;33m\u001b[0m\u001b[1;33m\u001b[0m\u001b[0m\n\u001b[0;32m     23\u001b[0m         \u001b[1;32mreturn\u001b[0m \u001b[0mscaled_df\u001b[0m\u001b[1;33m\u001b[0m\u001b[1;33m\u001b[0m\u001b[0m\n",
      "\u001b[1;32m~\\anaconda3\\lib\\site-packages\\sklearn\\preprocessing\\_data.py\u001b[0m in \u001b[0;36mfit_transform\u001b[1;34m(self, X, y)\u001b[0m\n\u001b[0;32m   3063\u001b[0m             \u001b[0mTransformed\u001b[0m \u001b[0mdata\u001b[0m\u001b[1;33m.\u001b[0m\u001b[1;33m\u001b[0m\u001b[1;33m\u001b[0m\u001b[0m\n\u001b[0;32m   3064\u001b[0m         \"\"\"\n\u001b[1;32m-> 3065\u001b[1;33m         \u001b[1;32mreturn\u001b[0m \u001b[0mself\u001b[0m\u001b[1;33m.\u001b[0m\u001b[0m_fit\u001b[0m\u001b[1;33m(\u001b[0m\u001b[0mX\u001b[0m\u001b[1;33m,\u001b[0m \u001b[0my\u001b[0m\u001b[1;33m,\u001b[0m \u001b[0mforce_transform\u001b[0m\u001b[1;33m=\u001b[0m\u001b[1;32mTrue\u001b[0m\u001b[1;33m)\u001b[0m\u001b[1;33m\u001b[0m\u001b[1;33m\u001b[0m\u001b[0m\n\u001b[0m\u001b[0;32m   3066\u001b[0m \u001b[1;33m\u001b[0m\u001b[0m\n\u001b[0;32m   3067\u001b[0m     \u001b[1;32mdef\u001b[0m \u001b[0m_fit\u001b[0m\u001b[1;33m(\u001b[0m\u001b[0mself\u001b[0m\u001b[1;33m,\u001b[0m \u001b[0mX\u001b[0m\u001b[1;33m,\u001b[0m \u001b[0my\u001b[0m\u001b[1;33m=\u001b[0m\u001b[1;32mNone\u001b[0m\u001b[1;33m,\u001b[0m \u001b[0mforce_transform\u001b[0m\u001b[1;33m=\u001b[0m\u001b[1;32mFalse\u001b[0m\u001b[1;33m)\u001b[0m\u001b[1;33m:\u001b[0m\u001b[1;33m\u001b[0m\u001b[1;33m\u001b[0m\u001b[0m\n",
      "\u001b[1;32m~\\anaconda3\\lib\\site-packages\\sklearn\\preprocessing\\_data.py\u001b[0m in \u001b[0;36m_fit\u001b[1;34m(self, X, y, force_transform)\u001b[0m\n\u001b[0;32m   3066\u001b[0m \u001b[1;33m\u001b[0m\u001b[0m\n\u001b[0;32m   3067\u001b[0m     \u001b[1;32mdef\u001b[0m \u001b[0m_fit\u001b[0m\u001b[1;33m(\u001b[0m\u001b[0mself\u001b[0m\u001b[1;33m,\u001b[0m \u001b[0mX\u001b[0m\u001b[1;33m,\u001b[0m \u001b[0my\u001b[0m\u001b[1;33m=\u001b[0m\u001b[1;32mNone\u001b[0m\u001b[1;33m,\u001b[0m \u001b[0mforce_transform\u001b[0m\u001b[1;33m=\u001b[0m\u001b[1;32mFalse\u001b[0m\u001b[1;33m)\u001b[0m\u001b[1;33m:\u001b[0m\u001b[1;33m\u001b[0m\u001b[1;33m\u001b[0m\u001b[0m\n\u001b[1;32m-> 3068\u001b[1;33m         \u001b[0mX\u001b[0m \u001b[1;33m=\u001b[0m \u001b[0mself\u001b[0m\u001b[1;33m.\u001b[0m\u001b[0m_check_input\u001b[0m\u001b[1;33m(\u001b[0m\u001b[0mX\u001b[0m\u001b[1;33m,\u001b[0m \u001b[0min_fit\u001b[0m\u001b[1;33m=\u001b[0m\u001b[1;32mTrue\u001b[0m\u001b[1;33m,\u001b[0m \u001b[0mcheck_positive\u001b[0m\u001b[1;33m=\u001b[0m\u001b[1;32mTrue\u001b[0m\u001b[1;33m,\u001b[0m \u001b[0mcheck_method\u001b[0m\u001b[1;33m=\u001b[0m\u001b[1;32mTrue\u001b[0m\u001b[1;33m)\u001b[0m\u001b[1;33m\u001b[0m\u001b[1;33m\u001b[0m\u001b[0m\n\u001b[0m\u001b[0;32m   3069\u001b[0m \u001b[1;33m\u001b[0m\u001b[0m\n\u001b[0;32m   3070\u001b[0m         \u001b[1;32mif\u001b[0m \u001b[1;32mnot\u001b[0m \u001b[0mself\u001b[0m\u001b[1;33m.\u001b[0m\u001b[0mcopy\u001b[0m \u001b[1;32mand\u001b[0m \u001b[1;32mnot\u001b[0m \u001b[0mforce_transform\u001b[0m\u001b[1;33m:\u001b[0m  \u001b[1;31m# if call from fit()\u001b[0m\u001b[1;33m\u001b[0m\u001b[1;33m\u001b[0m\u001b[0m\n",
      "\u001b[1;32m~\\anaconda3\\lib\\site-packages\\sklearn\\preprocessing\\_data.py\u001b[0m in \u001b[0;36m_check_input\u001b[1;34m(self, X, in_fit, check_positive, check_shape, check_method)\u001b[0m\n\u001b[0;32m   3297\u001b[0m             \u001b[0mnp\u001b[0m\u001b[1;33m.\u001b[0m\u001b[0mwarnings\u001b[0m\u001b[1;33m.\u001b[0m\u001b[0mfilterwarnings\u001b[0m\u001b[1;33m(\u001b[0m\u001b[1;34m\"ignore\"\u001b[0m\u001b[1;33m,\u001b[0m \u001b[1;34mr\"All-NaN (slice|axis) encountered\"\u001b[0m\u001b[1;33m)\u001b[0m\u001b[1;33m\u001b[0m\u001b[1;33m\u001b[0m\u001b[0m\n\u001b[0;32m   3298\u001b[0m             \u001b[1;32mif\u001b[0m \u001b[0mcheck_positive\u001b[0m \u001b[1;32mand\u001b[0m \u001b[0mself\u001b[0m\u001b[1;33m.\u001b[0m\u001b[0mmethod\u001b[0m \u001b[1;33m==\u001b[0m \u001b[1;34m\"box-cox\"\u001b[0m \u001b[1;32mand\u001b[0m \u001b[0mnp\u001b[0m\u001b[1;33m.\u001b[0m\u001b[0mnanmin\u001b[0m\u001b[1;33m(\u001b[0m\u001b[0mX\u001b[0m\u001b[1;33m)\u001b[0m \u001b[1;33m<=\u001b[0m \u001b[1;36m0\u001b[0m\u001b[1;33m:\u001b[0m\u001b[1;33m\u001b[0m\u001b[1;33m\u001b[0m\u001b[0m\n\u001b[1;32m-> 3299\u001b[1;33m                 raise ValueError(\n\u001b[0m\u001b[0;32m   3300\u001b[0m                     \u001b[1;34m\"The Box-Cox transformation can only be \"\u001b[0m\u001b[1;33m\u001b[0m\u001b[1;33m\u001b[0m\u001b[0m\n\u001b[0;32m   3301\u001b[0m                     \u001b[1;34m\"applied to strictly positive data\"\u001b[0m\u001b[1;33m\u001b[0m\u001b[1;33m\u001b[0m\u001b[0m\n",
      "\u001b[1;31mValueError\u001b[0m: The Box-Cox transformation can only be applied to strictly positive data"
     ]
    }
   ],
   "source": [
    "box_cox = Scaler(data, ['low_int','high_int','no_out','with_neg'],'ptb')\n",
    "box_cox.boxplot(figsize = (11, 7))\n",
    "plt.show()"
   ]
  },
  {
   "cell_type": "markdown",
   "id": "7ada26a1",
   "metadata": {},
   "source": [
    "This Shows that Box-cox does not accept negative values"
   ]
  },
  {
   "cell_type": "code",
   "execution_count": 36,
   "id": "c7658c20",
   "metadata": {},
   "outputs": [
    {
     "data": {
      "image/png": "[encoded data removed]",
      "text/plain": [
       "<Figure size 792x504 with 1 Axes>"
      ]
     },
     "metadata": {
      "needs_background": "light"
     },
     "output_type": "display_data"
    }
   ],
   "source": [
    "box_cox = Scaler(data, ['low_int','high_int','no_out'],'ptb')\n",
    "box_cox.boxplot(figsize = (11, 7))\n",
    "plt.show()"
   ]
  },
  {
   "cell_type": "code",
   "execution_count": 37,
   "id": "3081a19e",
   "metadata": {},
   "outputs": [
    {
     "name": "stderr",
     "output_type": "stream",
     "text": [
      "C:\\Users\\HP\\anaconda3\\lib\\site-packages\\sklearn\\preprocessing\\_data.py:3253: RuntimeWarning: divide by zero encountered in log\n",
      "  loglike = -n_samples / 2 * np.log(x_trans.var())\n"
     ]
    },
    {
     "data": {
      "image/png": "[encoded data removed]",
      "text/plain": [
       "<Figure size 792x504 with 1 Axes>"
      ]
     },
     "metadata": {
      "needs_background": "light"
     },
     "output_type": "display_data"
    }
   ],
   "source": [
    "yeo = Scaler(data, ['low_int','high_int','no_out','with_neg'],'pty')\n",
    "yeo.boxplot(figsize = (11, 7))\n",
    "plt.show()"
   ]
  },
  {
   "cell_type": "markdown",
   "id": "e088329a",
   "metadata": {},
   "source": [
    "### Lets work on real data"
   ]
  },
  {
   "cell_type": "code",
   "execution_count": 38,
   "id": "bd921a4d",
   "metadata": {},
   "outputs": [],
   "source": [
    "### Using dataset read in earlier\n",
    "df['Loan_Amount_Term'].fillna(df['Loan_Amount_Term'].median(), inplace = True)\n",
    "df['Credit_History'].fillna(df['Credit_History'].median(), inplace = True)"
   ]
  },
  {
   "cell_type": "code",
   "execution_count": 39,
   "id": "cb93cc29",
   "metadata": {},
   "outputs": [
    {
     "name": "stdout",
     "output_type": "stream",
     "text": [
      "<class 'pandas.core.frame.DataFrame'>\n",
      "RangeIndex: 614 entries, 0 to 613\n",
      "Data columns (total 13 columns):\n",
      " #   Column             Non-Null Count  Dtype  \n",
      "---  ------             --------------  -----  \n",
      " 0   Loan_ID            614 non-null    object \n",
      " 1   Gender             601 non-null    object \n",
      " 2   Married            611 non-null    object \n",
      " 3   Dependents         599 non-null    object \n",
      " 4   Education          614 non-null    object \n",
      " 5   Self_Employed      582 non-null    object \n",
      " 6   ApplicantIncome    614 non-null    int64  \n",
      " 7   CoapplicantIncome  614 non-null    float64\n",
      " 8   LoanAmount         592 non-null    float64\n",
      " 9   Loan_Amount_Term   614 non-null    float64\n",
      " 10  Credit_History     614 non-null    float64\n",
      " 11  Property_Area      614 non-null    object \n",
      " 12  Loan_Status        614 non-null    int64  \n",
      "dtypes: float64(4), int64(2), object(7)\n",
      "memory usage: 62.5+ KB\n"
     ]
    }
   ],
   "source": [
    "df.info()"
   ]
  },
  {
   "cell_type": "code",
   "execution_count": 40,
   "id": "a0061298",
   "metadata": {},
   "outputs": [
    {
     "data": {
      "text/html": [
       "<div>\n",
       "<style scoped>\n",
       "    .dataframe tbody tr th:only-of-type {\n",
       "        vertical-align: middle;\n",
       "    }\n",
       "\n",
       "    .dataframe tbody tr th {\n",
       "        vertical-align: top;\n",
       "    }\n",
       "\n",
       "    .dataframe thead th {\n",
       "        text-align: right;\n",
       "    }\n",
       "</style>\n",
       "<table border=\"1\" class=\"dataframe\">\n",
       "  <thead>\n",
       "    <tr style=\"text-align: right;\">\n",
       "      <th></th>\n",
       "      <th>ApplicantIncome</th>\n",
       "      <th>CoapplicantIncome</th>\n",
       "      <th>LoanAmount</th>\n",
       "      <th>Loan_Amount_Term</th>\n",
       "      <th>Credit_History</th>\n",
       "      <th>Loan_Status</th>\n",
       "    </tr>\n",
       "  </thead>\n",
       "  <tbody>\n",
       "    <tr>\n",
       "      <th>count</th>\n",
       "      <td>614.000000</td>\n",
       "      <td>614.000000</td>\n",
       "      <td>592.000000</td>\n",
       "      <td>614.000000</td>\n",
       "      <td>614.000000</td>\n",
       "      <td>614.000000</td>\n",
       "    </tr>\n",
       "    <tr>\n",
       "      <th>mean</th>\n",
       "      <td>5403.459283</td>\n",
       "      <td>1621.245798</td>\n",
       "      <td>146.412162</td>\n",
       "      <td>342.410423</td>\n",
       "      <td>0.855049</td>\n",
       "      <td>0.687296</td>\n",
       "    </tr>\n",
       "    <tr>\n",
       "      <th>std</th>\n",
       "      <td>6109.041673</td>\n",
       "      <td>2926.248369</td>\n",
       "      <td>85.587325</td>\n",
       "      <td>64.428629</td>\n",
       "      <td>0.352339</td>\n",
       "      <td>0.463973</td>\n",
       "    </tr>\n",
       "    <tr>\n",
       "      <th>min</th>\n",
       "      <td>150.000000</td>\n",
       "      <td>0.000000</td>\n",
       "      <td>9.000000</td>\n",
       "      <td>12.000000</td>\n",
       "      <td>0.000000</td>\n",
       "      <td>0.000000</td>\n",
       "    </tr>\n",
       "    <tr>\n",
       "      <th>25%</th>\n",
       "      <td>2877.500000</td>\n",
       "      <td>0.000000</td>\n",
       "      <td>100.000000</td>\n",
       "      <td>360.000000</td>\n",
       "      <td>1.000000</td>\n",
       "      <td>0.000000</td>\n",
       "    </tr>\n",
       "    <tr>\n",
       "      <th>50%</th>\n",
       "      <td>3812.500000</td>\n",
       "      <td>1188.500000</td>\n",
       "      <td>128.000000</td>\n",
       "      <td>360.000000</td>\n",
       "      <td>1.000000</td>\n",
       "      <td>1.000000</td>\n",
       "    </tr>\n",
       "    <tr>\n",
       "      <th>75%</th>\n",
       "      <td>5795.000000</td>\n",
       "      <td>2297.250000</td>\n",
       "      <td>168.000000</td>\n",
       "      <td>360.000000</td>\n",
       "      <td>1.000000</td>\n",
       "      <td>1.000000</td>\n",
       "    </tr>\n",
       "    <tr>\n",
       "      <th>max</th>\n",
       "      <td>81000.000000</td>\n",
       "      <td>41667.000000</td>\n",
       "      <td>700.000000</td>\n",
       "      <td>480.000000</td>\n",
       "      <td>1.000000</td>\n",
       "      <td>1.000000</td>\n",
       "    </tr>\n",
       "  </tbody>\n",
       "</table>\n",
       "</div>"
      ],
      "text/plain": [
       "       ApplicantIncome  CoapplicantIncome  LoanAmount  Loan_Amount_Term  \\\n",
       "count       614.000000         614.000000  592.000000        614.000000   \n",
       "mean       5403.459283        1621.245798  146.412162        342.410423   \n",
       "std        6109.041673        2926.248369   85.587325         64.428629   \n",
       "min         150.000000           0.000000    9.000000         12.000000   \n",
       "25%        2877.500000           0.000000  100.000000        360.000000   \n",
       "50%        3812.500000        1188.500000  128.000000        360.000000   \n",
       "75%        5795.000000        2297.250000  168.000000        360.000000   \n",
       "max       81000.000000       41667.000000  700.000000        480.000000   \n",
       "\n",
       "       Credit_History  Loan_Status  \n",
       "count      614.000000   614.000000  \n",
       "mean         0.855049     0.687296  \n",
       "std          0.352339     0.463973  \n",
       "min          0.000000     0.000000  \n",
       "25%          1.000000     0.000000  \n",
       "50%          1.000000     1.000000  \n",
       "75%          1.000000     1.000000  \n",
       "max          1.000000     1.000000  "
      ]
     },
     "execution_count": 40,
     "metadata": {},
     "output_type": "execute_result"
    }
   ],
   "source": [
    "\n",
    "\n",
    "df.describe()"
   ]
  },
  {
   "cell_type": "markdown",
   "id": "261d950f",
   "metadata": {},
   "source": [
    "We will be picking **CoapplicantIncome** and **LoanAmount** to work with"
   ]
  },
  {
   "cell_type": "code",
   "execution_count": 41,
   "id": "62fe6eca",
   "metadata": {},
   "outputs": [],
   "source": [
    "s_df = df[[\"CoapplicantIncome\",\"LoanAmount\"]]"
   ]
  },
  {
   "cell_type": "code",
   "execution_count": 42,
   "id": "8a7cb6ff",
   "metadata": {},
   "outputs": [
    {
     "data": {
      "image/png": "[encoded data removed]",
      "text/plain": [
       "<Figure size 792x504 with 1 Axes>"
      ]
     },
     "metadata": {
      "needs_background": "light"
     },
     "output_type": "display_data"
    }
   ],
   "source": [
    "s_df.boxplot(figsize = (11, 7))\n",
    "plt.show()"
   ]
  },
  {
   "cell_type": "code",
   "execution_count": 43,
   "id": "a8489fa2",
   "metadata": {},
   "outputs": [
    {
     "data": {
      "image/png": "[encoded data removed]",
      "text/plain": [
       "<Figure size 792x504 with 1 Axes>"
      ]
     },
     "metadata": {
      "needs_background": "light"
     },
     "output_type": "display_data"
    }
   ],
   "source": [
    "min_max_df = Scaler(df, [\"CoapplicantIncome\",\"LoanAmount\"],'mmx')\n",
    "min_max_df.boxplot(figsize = (11, 7))\n",
    "plt.show()"
   ]
  },
  {
   "cell_type": "code",
   "execution_count": 44,
   "id": "28747375",
   "metadata": {},
   "outputs": [
    {
     "data": {
      "image/png": "[encoded data removed]",
      "text/plain": [
       "<Figure size 792x504 with 1 Axes>"
      ]
     },
     "metadata": {
      "needs_background": "light"
     },
     "output_type": "display_data"
    }
   ],
   "source": [
    "sta_df = Scaler(df, [\"CoapplicantIncome\",\"LoanAmount\"],'sts')\n",
    "sta_df.boxplot(figsize = (11, 7))\n",
    "plt.show()"
   ]
  },
  {
   "cell_type": "code",
   "execution_count": 45,
   "id": "ed86cf71",
   "metadata": {},
   "outputs": [
    {
     "data": {
      "image/png": "[encoded data removed]",
      "text/plain": [
       "<Figure size 792x504 with 1 Axes>"
      ]
     },
     "metadata": {
      "needs_background": "light"
     },
     "output_type": "display_data"
    }
   ],
   "source": [
    "Rob_df = Scaler(df, [\"CoapplicantIncome\",\"LoanAmount\"],'rbs')\n",
    "Rob_df.boxplot(figsize = (11, 7))\n",
    "plt.show()"
   ]
  },
  {
   "cell_type": "code",
   "execution_count": 46,
   "id": "515b1b12",
   "metadata": {},
   "outputs": [
    {
     "ename": "ValueError",
     "evalue": "The Box-Cox transformation can only be applied to strictly positive data",
     "output_type": "error",
     "traceback": [
      "\u001b[1;31m---------------------------------------------------------------------------\u001b[0m",
      "\u001b[1;31mValueError\u001b[0m                                Traceback (most recent call last)",
      "\u001b[1;32m~\\AppData\\Local\\Temp/ipykernel_8688/3621112232.py\u001b[0m in \u001b[0;36m<module>\u001b[1;34m\u001b[0m\n\u001b[1;32m----> 1\u001b[1;33m \u001b[0mptb_df\u001b[0m \u001b[1;33m=\u001b[0m \u001b[0mScaler\u001b[0m\u001b[1;33m(\u001b[0m\u001b[0mdf\u001b[0m\u001b[1;33m,\u001b[0m \u001b[1;33m[\u001b[0m\u001b[1;34m\"CoapplicantIncome\"\u001b[0m\u001b[1;33m,\u001b[0m\u001b[1;34m\"LoanAmount\"\u001b[0m\u001b[1;33m]\u001b[0m\u001b[1;33m,\u001b[0m\u001b[1;34m'ptb'\u001b[0m\u001b[1;33m)\u001b[0m\u001b[1;33m\u001b[0m\u001b[1;33m\u001b[0m\u001b[0m\n\u001b[0m\u001b[0;32m      2\u001b[0m \u001b[0mptb_df\u001b[0m\u001b[1;33m.\u001b[0m\u001b[0mboxplot\u001b[0m\u001b[1;33m(\u001b[0m\u001b[0mfigsize\u001b[0m \u001b[1;33m=\u001b[0m \u001b[1;33m(\u001b[0m\u001b[1;36m11\u001b[0m\u001b[1;33m,\u001b[0m \u001b[1;36m7\u001b[0m\u001b[1;33m)\u001b[0m\u001b[1;33m)\u001b[0m\u001b[1;33m\u001b[0m\u001b[1;33m\u001b[0m\u001b[0m\n\u001b[0;32m      3\u001b[0m \u001b[0mplt\u001b[0m\u001b[1;33m.\u001b[0m\u001b[0mshow\u001b[0m\u001b[1;33m(\u001b[0m\u001b[1;33m)\u001b[0m\u001b[1;33m\u001b[0m\u001b[1;33m\u001b[0m\u001b[0m\n",
      "\u001b[1;32m~\\AppData\\Local\\Temp/ipykernel_8688/80675472.py\u001b[0m in \u001b[0;36mScaler\u001b[1;34m(df, cols, method)\u001b[0m\n\u001b[0;32m     19\u001b[0m     \u001b[1;32melif\u001b[0m \u001b[0mmethod\u001b[0m\u001b[1;33m.\u001b[0m\u001b[0mlower\u001b[0m\u001b[1;33m(\u001b[0m\u001b[1;33m)\u001b[0m \u001b[1;33m==\u001b[0m \u001b[1;34m\"ptb\"\u001b[0m\u001b[1;33m:\u001b[0m\u001b[1;33m\u001b[0m\u001b[1;33m\u001b[0m\u001b[0m\n\u001b[0;32m     20\u001b[0m         \u001b[0mscaler\u001b[0m \u001b[1;33m=\u001b[0m \u001b[0mPowerTransformer\u001b[0m\u001b[1;33m(\u001b[0m\u001b[0mmethod\u001b[0m\u001b[1;33m=\u001b[0m\u001b[1;34m'box-cox'\u001b[0m\u001b[1;33m)\u001b[0m\u001b[1;33m\u001b[0m\u001b[1;33m\u001b[0m\u001b[0m\n\u001b[1;32m---> 21\u001b[1;33m         \u001b[0mscaled_df\u001b[0m \u001b[1;33m=\u001b[0m \u001b[0mpd\u001b[0m\u001b[1;33m.\u001b[0m\u001b[0mDataFrame\u001b[0m\u001b[1;33m(\u001b[0m\u001b[0mscaler\u001b[0m\u001b[1;33m.\u001b[0m\u001b[0mfit_transform\u001b[0m\u001b[1;33m(\u001b[0m\u001b[0mscaled_df\u001b[0m\u001b[1;33m)\u001b[0m\u001b[1;33m)\u001b[0m\u001b[1;33m\u001b[0m\u001b[1;33m\u001b[0m\u001b[0m\n\u001b[0m\u001b[0;32m     22\u001b[0m         \u001b[0mscaled_df\u001b[0m\u001b[1;33m.\u001b[0m\u001b[0mcolumns\u001b[0m \u001b[1;33m=\u001b[0m \u001b[0mcols\u001b[0m\u001b[1;33m\u001b[0m\u001b[1;33m\u001b[0m\u001b[0m\n\u001b[0;32m     23\u001b[0m         \u001b[1;32mreturn\u001b[0m \u001b[0mscaled_df\u001b[0m\u001b[1;33m\u001b[0m\u001b[1;33m\u001b[0m\u001b[0m\n",
      "\u001b[1;32m~\\anaconda3\\lib\\site-packages\\sklearn\\preprocessing\\_data.py\u001b[0m in \u001b[0;36mfit_transform\u001b[1;34m(self, X, y)\u001b[0m\n\u001b[0;32m   3063\u001b[0m             \u001b[0mTransformed\u001b[0m \u001b[0mdata\u001b[0m\u001b[1;33m.\u001b[0m\u001b[1;33m\u001b[0m\u001b[1;33m\u001b[0m\u001b[0m\n\u001b[0;32m   3064\u001b[0m         \"\"\"\n\u001b[1;32m-> 3065\u001b[1;33m         \u001b[1;32mreturn\u001b[0m \u001b[0mself\u001b[0m\u001b[1;33m.\u001b[0m\u001b[0m_fit\u001b[0m\u001b[1;33m(\u001b[0m\u001b[0mX\u001b[0m\u001b[1;33m,\u001b[0m \u001b[0my\u001b[0m\u001b[1;33m,\u001b[0m \u001b[0mforce_transform\u001b[0m\u001b[1;33m=\u001b[0m\u001b[1;32mTrue\u001b[0m\u001b[1;33m)\u001b[0m\u001b[1;33m\u001b[0m\u001b[1;33m\u001b[0m\u001b[0m\n\u001b[0m\u001b[0;32m   3066\u001b[0m \u001b[1;33m\u001b[0m\u001b[0m\n\u001b[0;32m   3067\u001b[0m     \u001b[1;32mdef\u001b[0m \u001b[0m_fit\u001b[0m\u001b[1;33m(\u001b[0m\u001b[0mself\u001b[0m\u001b[1;33m,\u001b[0m \u001b[0mX\u001b[0m\u001b[1;33m,\u001b[0m \u001b[0my\u001b[0m\u001b[1;33m=\u001b[0m\u001b[1;32mNone\u001b[0m\u001b[1;33m,\u001b[0m \u001b[0mforce_transform\u001b[0m\u001b[1;33m=\u001b[0m\u001b[1;32mFalse\u001b[0m\u001b[1;33m)\u001b[0m\u001b[1;33m:\u001b[0m\u001b[1;33m\u001b[0m\u001b[1;33m\u001b[0m\u001b[0m\n",
      "\u001b[1;32m~\\anaconda3\\lib\\site-packages\\sklearn\\preprocessing\\_data.py\u001b[0m in \u001b[0;36m_fit\u001b[1;34m(self, X, y, force_transform)\u001b[0m\n\u001b[0;32m   3066\u001b[0m \u001b[1;33m\u001b[0m\u001b[0m\n\u001b[0;32m   3067\u001b[0m     \u001b[1;32mdef\u001b[0m \u001b[0m_fit\u001b[0m\u001b[1;33m(\u001b[0m\u001b[0mself\u001b[0m\u001b[1;33m,\u001b[0m \u001b[0mX\u001b[0m\u001b[1;33m,\u001b[0m \u001b[0my\u001b[0m\u001b[1;33m=\u001b[0m\u001b[1;32mNone\u001b[0m\u001b[1;33m,\u001b[0m \u001b[0mforce_transform\u001b[0m\u001b[1;33m=\u001b[0m\u001b[1;32mFalse\u001b[0m\u001b[1;33m)\u001b[0m\u001b[1;33m:\u001b[0m\u001b[1;33m\u001b[0m\u001b[1;33m\u001b[0m\u001b[0m\n\u001b[1;32m-> 3068\u001b[1;33m         \u001b[0mX\u001b[0m \u001b[1;33m=\u001b[0m \u001b[0mself\u001b[0m\u001b[1;33m.\u001b[0m\u001b[0m_check_input\u001b[0m\u001b[1;33m(\u001b[0m\u001b[0mX\u001b[0m\u001b[1;33m,\u001b[0m \u001b[0min_fit\u001b[0m\u001b[1;33m=\u001b[0m\u001b[1;32mTrue\u001b[0m\u001b[1;33m,\u001b[0m \u001b[0mcheck_positive\u001b[0m\u001b[1;33m=\u001b[0m\u001b[1;32mTrue\u001b[0m\u001b[1;33m,\u001b[0m \u001b[0mcheck_method\u001b[0m\u001b[1;33m=\u001b[0m\u001b[1;32mTrue\u001b[0m\u001b[1;33m)\u001b[0m\u001b[1;33m\u001b[0m\u001b[1;33m\u001b[0m\u001b[0m\n\u001b[0m\u001b[0;32m   3069\u001b[0m \u001b[1;33m\u001b[0m\u001b[0m\n\u001b[0;32m   3070\u001b[0m         \u001b[1;32mif\u001b[0m \u001b[1;32mnot\u001b[0m \u001b[0mself\u001b[0m\u001b[1;33m.\u001b[0m\u001b[0mcopy\u001b[0m \u001b[1;32mand\u001b[0m \u001b[1;32mnot\u001b[0m \u001b[0mforce_transform\u001b[0m\u001b[1;33m:\u001b[0m  \u001b[1;31m# if call from fit()\u001b[0m\u001b[1;33m\u001b[0m\u001b[1;33m\u001b[0m\u001b[0m\n",
      "\u001b[1;32m~\\anaconda3\\lib\\site-packages\\sklearn\\preprocessing\\_data.py\u001b[0m in \u001b[0;36m_check_input\u001b[1;34m(self, X, in_fit, check_positive, check_shape, check_method)\u001b[0m\n\u001b[0;32m   3297\u001b[0m             \u001b[0mnp\u001b[0m\u001b[1;33m.\u001b[0m\u001b[0mwarnings\u001b[0m\u001b[1;33m.\u001b[0m\u001b[0mfilterwarnings\u001b[0m\u001b[1;33m(\u001b[0m\u001b[1;34m\"ignore\"\u001b[0m\u001b[1;33m,\u001b[0m \u001b[1;34mr\"All-NaN (slice|axis) encountered\"\u001b[0m\u001b[1;33m)\u001b[0m\u001b[1;33m\u001b[0m\u001b[1;33m\u001b[0m\u001b[0m\n\u001b[0;32m   3298\u001b[0m             \u001b[1;32mif\u001b[0m \u001b[0mcheck_positive\u001b[0m \u001b[1;32mand\u001b[0m \u001b[0mself\u001b[0m\u001b[1;33m.\u001b[0m\u001b[0mmethod\u001b[0m \u001b[1;33m==\u001b[0m \u001b[1;34m\"box-cox\"\u001b[0m \u001b[1;32mand\u001b[0m \u001b[0mnp\u001b[0m\u001b[1;33m.\u001b[0m\u001b[0mnanmin\u001b[0m\u001b[1;33m(\u001b[0m\u001b[0mX\u001b[0m\u001b[1;33m)\u001b[0m \u001b[1;33m<=\u001b[0m \u001b[1;36m0\u001b[0m\u001b[1;33m:\u001b[0m\u001b[1;33m\u001b[0m\u001b[1;33m\u001b[0m\u001b[0m\n\u001b[1;32m-> 3299\u001b[1;33m                 raise ValueError(\n\u001b[0m\u001b[0;32m   3300\u001b[0m                     \u001b[1;34m\"The Box-Cox transformation can only be \"\u001b[0m\u001b[1;33m\u001b[0m\u001b[1;33m\u001b[0m\u001b[0m\n\u001b[0;32m   3301\u001b[0m                     \u001b[1;34m\"applied to strictly positive data\"\u001b[0m\u001b[1;33m\u001b[0m\u001b[1;33m\u001b[0m\u001b[0m\n",
      "\u001b[1;31mValueError\u001b[0m: The Box-Cox transformation can only be applied to strictly positive data"
     ]
    }
   ],
   "source": [
    "ptb_df = Scaler(df, [\"CoapplicantIncome\",\"LoanAmount\"],'ptb')\n",
    "ptb_df.boxplot(figsize = (11, 7))\n",
    "plt.show()"
   ]
  },
  {
   "cell_type": "code",
   "execution_count": 47,
   "id": "6b64ca40",
   "metadata": {},
   "outputs": [
    {
     "data": {
      "image/png": "[encoded data removed]",
      "text/plain": [
       "<Figure size 792x504 with 1 Axes>"
      ]
     },
     "metadata": {
      "needs_background": "light"
     },
     "output_type": "display_data"
    }
   ],
   "source": [
    "pty_df = Scaler(df, [\"CoapplicantIncome\",\"LoanAmount\"],'pty')\n",
    "pty_df.boxplot(figsize = (11, 7))\n",
    "plt.show()"
   ]
  },
  {
   "cell_type": "code",
   "execution_count": null,
   "id": "ebb6710a",
   "metadata": {},
   "outputs": [],
   "source": []
  },
  {
   "cell_type": "code",
   "execution_count": null,
   "id": "2bf08fa4",
   "metadata": {},
   "outputs": [],
   "source": []
  }
 ],
 "metadata": {
  "kernelspec": {
   "display_name": "Python 3 (ipykernel)",
   "language": "python",
   "name": "python3"
  },
  "language_info": {
   "codemirror_mode": {
    "name": "ipython",
    "version": 3
   },
   "file_extension": ".py",
   "mimetype": "text/x-python",
   "name": "python",
   "nbconvert_exporter": "python",
   "pygments_lexer": "ipython3",
   "version": "3.8.12"
  }
 },
 "nbformat": 4,
 "nbformat_minor": 5
}
