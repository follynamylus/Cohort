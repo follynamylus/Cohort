{
 "cells": [
  {
   "cell_type": "markdown",
   "id": "3babbf7e",
   "metadata": {},
   "source": [
    "# Feature and Target variables and their Data types\n",
    "In Supervised Machine Learning practices, an important and decisive practice is to divide your data into into :\n",
    "- **Features** (Independent variables or predictors) : It comprises of all the important columns to help make predictions. Basically, features are made up of columns/fields and most times represented as Matrix.\n",
    "- **Target** (Dependent variable or label) : It is the most important column in supervised Machine Learning, Since It actually made it so. That is the column we are using to train the algorithm, same as the column we will be predicting, for basics It usually comprise of a column and represented as Vector. \n",
    "\n",
    "The algorithm maps the **Features** with the corresponding **Target** while been trained then, It predicts using features without the taget then checks the target to know how accurate it predicts, That is a loose explanation of algorithm training. which helps us point out how significant features and targets are.\n",
    "\n",
    "### Lets practice!!!"
   ]
  },
  {
   "cell_type": "code",
   "execution_count": 1,
   "id": "c488e342",
   "metadata": {},
   "outputs": [],
   "source": [
    "##Import Libraries\n",
    "import numpy as np\n",
    "import pandas as pd\n",
    "import matplotlib.pyplot as plt\n",
    "import seaborn as sns\n",
    "import random"
   ]
  },
  {
   "cell_type": "code",
   "execution_count": 2,
   "id": "a2a8d422",
   "metadata": {},
   "outputs": [
    {
     "data": {
      "text/html": [
       "<div>\n",
       "<style scoped>\n",
       "    .dataframe tbody tr th:only-of-type {\n",
       "        vertical-align: middle;\n",
       "    }\n",
       "\n",
       "    .dataframe tbody tr th {\n",
       "        vertical-align: top;\n",
       "    }\n",
       "\n",
       "    .dataframe thead th {\n",
       "        text-align: right;\n",
       "    }\n",
       "</style>\n",
       "<table border=\"1\" class=\"dataframe\">\n",
       "  <thead>\n",
       "    <tr style=\"text-align: right;\">\n",
       "      <th></th>\n",
       "      <th>Feature 1</th>\n",
       "      <th>Feature 2</th>\n",
       "      <th>Target</th>\n",
       "    </tr>\n",
       "  </thead>\n",
       "  <tbody>\n",
       "    <tr>\n",
       "      <th>0</th>\n",
       "      <td>1</td>\n",
       "      <td>4</td>\n",
       "      <td>16</td>\n",
       "    </tr>\n",
       "    <tr>\n",
       "      <th>1</th>\n",
       "      <td>2</td>\n",
       "      <td>5</td>\n",
       "      <td>20</td>\n",
       "    </tr>\n",
       "    <tr>\n",
       "      <th>2</th>\n",
       "      <td>3</td>\n",
       "      <td>6</td>\n",
       "      <td>36</td>\n",
       "    </tr>\n",
       "    <tr>\n",
       "      <th>3</th>\n",
       "      <td>4</td>\n",
       "      <td>7</td>\n",
       "      <td>56</td>\n",
       "    </tr>\n",
       "    <tr>\n",
       "      <th>4</th>\n",
       "      <td>5</td>\n",
       "      <td>8</td>\n",
       "      <td>64</td>\n",
       "    </tr>\n",
       "    <tr>\n",
       "      <th>5</th>\n",
       "      <td>6</td>\n",
       "      <td>9</td>\n",
       "      <td>108</td>\n",
       "    </tr>\n",
       "  </tbody>\n",
       "</table>\n",
       "</div>"
      ],
      "text/plain": [
       "   Feature 1  Feature 2  Target\n",
       "0          1          4      16\n",
       "1          2          5      20\n",
       "2          3          6      36\n",
       "3          4          7      56\n",
       "4          5          8      64\n",
       "5          6          9     108"
      ]
     },
     "execution_count": 2,
     "metadata": {},
     "output_type": "execute_result"
    }
   ],
   "source": [
    "##Lets generate a dataframe with two feature columns and a target column.\n",
    "data = [[1,4,16],[2,5,20],[3,6,36],[4,7,56],[5,8,64],[6,9,108]]\n",
    "framed = pd.DataFrame(data, columns=(\"Feature 1\",\"Feature 2\",\"Target\"))\n",
    "framed"
   ]
  },
  {
   "cell_type": "markdown",
   "id": "3c445494",
   "metadata": {},
   "source": [
    "The whole dataframe is initially a 6 by 3 matrix with two feature columns and a target column"
   ]
  },
  {
   "cell_type": "code",
   "execution_count": 3,
   "id": "9d7e6eac",
   "metadata": {},
   "outputs": [],
   "source": [
    "#Lets generate one more feature column by combining the two feature columns into one feature column\n",
    "#Add the generated column to the dataframe which makes it a 6 by 4 matrix as shown below\n",
    "framed[\"Feature 3\"] = framed[\"Feature 1\"] * framed[\"Feature 2\"]"
   ]
  },
  {
   "cell_type": "code",
   "execution_count": 4,
   "id": "93425cc0",
   "metadata": {},
   "outputs": [
    {
     "data": {
      "text/html": [
       "<div>\n",
       "<style scoped>\n",
       "    .dataframe tbody tr th:only-of-type {\n",
       "        vertical-align: middle;\n",
       "    }\n",
       "\n",
       "    .dataframe tbody tr th {\n",
       "        vertical-align: top;\n",
       "    }\n",
       "\n",
       "    .dataframe thead th {\n",
       "        text-align: right;\n",
       "    }\n",
       "</style>\n",
       "<table border=\"1\" class=\"dataframe\">\n",
       "  <thead>\n",
       "    <tr style=\"text-align: right;\">\n",
       "      <th></th>\n",
       "      <th>Feature 1</th>\n",
       "      <th>Feature 2</th>\n",
       "      <th>Target</th>\n",
       "      <th>Feature 3</th>\n",
       "    </tr>\n",
       "  </thead>\n",
       "  <tbody>\n",
       "    <tr>\n",
       "      <th>0</th>\n",
       "      <td>1</td>\n",
       "      <td>4</td>\n",
       "      <td>16</td>\n",
       "      <td>4</td>\n",
       "    </tr>\n",
       "    <tr>\n",
       "      <th>1</th>\n",
       "      <td>2</td>\n",
       "      <td>5</td>\n",
       "      <td>20</td>\n",
       "      <td>10</td>\n",
       "    </tr>\n",
       "    <tr>\n",
       "      <th>2</th>\n",
       "      <td>3</td>\n",
       "      <td>6</td>\n",
       "      <td>36</td>\n",
       "      <td>18</td>\n",
       "    </tr>\n",
       "    <tr>\n",
       "      <th>3</th>\n",
       "      <td>4</td>\n",
       "      <td>7</td>\n",
       "      <td>56</td>\n",
       "      <td>28</td>\n",
       "    </tr>\n",
       "    <tr>\n",
       "      <th>4</th>\n",
       "      <td>5</td>\n",
       "      <td>8</td>\n",
       "      <td>64</td>\n",
       "      <td>40</td>\n",
       "    </tr>\n",
       "    <tr>\n",
       "      <th>5</th>\n",
       "      <td>6</td>\n",
       "      <td>9</td>\n",
       "      <td>108</td>\n",
       "      <td>54</td>\n",
       "    </tr>\n",
       "  </tbody>\n",
       "</table>\n",
       "</div>"
      ],
      "text/plain": [
       "   Feature 1  Feature 2  Target  Feature 3\n",
       "0          1          4      16          4\n",
       "1          2          5      20         10\n",
       "2          3          6      36         18\n",
       "3          4          7      56         28\n",
       "4          5          8      64         40\n",
       "5          6          9     108         54"
      ]
     },
     "execution_count": 4,
     "metadata": {},
     "output_type": "execute_result"
    }
   ],
   "source": [
    "framed"
   ]
  },
  {
   "cell_type": "code",
   "execution_count": 5,
   "id": "bc58366e",
   "metadata": {},
   "outputs": [],
   "source": [
    "##divide to features and target\n",
    "features = framed.drop(\"Target\", axis= 1)\n",
    "Target = framed['Target']"
   ]
  },
  {
   "cell_type": "code",
   "execution_count": 6,
   "id": "577080ee",
   "metadata": {},
   "outputs": [
    {
     "data": {
      "text/html": [
       "<div>\n",
       "<style scoped>\n",
       "    .dataframe tbody tr th:only-of-type {\n",
       "        vertical-align: middle;\n",
       "    }\n",
       "\n",
       "    .dataframe tbody tr th {\n",
       "        vertical-align: top;\n",
       "    }\n",
       "\n",
       "    .dataframe thead th {\n",
       "        text-align: right;\n",
       "    }\n",
       "</style>\n",
       "<table border=\"1\" class=\"dataframe\">\n",
       "  <thead>\n",
       "    <tr style=\"text-align: right;\">\n",
       "      <th></th>\n",
       "      <th>Feature 1</th>\n",
       "      <th>Feature 2</th>\n",
       "      <th>Feature 3</th>\n",
       "    </tr>\n",
       "  </thead>\n",
       "  <tbody>\n",
       "    <tr>\n",
       "      <th>0</th>\n",
       "      <td>1</td>\n",
       "      <td>4</td>\n",
       "      <td>4</td>\n",
       "    </tr>\n",
       "    <tr>\n",
       "      <th>1</th>\n",
       "      <td>2</td>\n",
       "      <td>5</td>\n",
       "      <td>10</td>\n",
       "    </tr>\n",
       "    <tr>\n",
       "      <th>2</th>\n",
       "      <td>3</td>\n",
       "      <td>6</td>\n",
       "      <td>18</td>\n",
       "    </tr>\n",
       "    <tr>\n",
       "      <th>3</th>\n",
       "      <td>4</td>\n",
       "      <td>7</td>\n",
       "      <td>28</td>\n",
       "    </tr>\n",
       "    <tr>\n",
       "      <th>4</th>\n",
       "      <td>5</td>\n",
       "      <td>8</td>\n",
       "      <td>40</td>\n",
       "    </tr>\n",
       "    <tr>\n",
       "      <th>5</th>\n",
       "      <td>6</td>\n",
       "      <td>9</td>\n",
       "      <td>54</td>\n",
       "    </tr>\n",
       "  </tbody>\n",
       "</table>\n",
       "</div>"
      ],
      "text/plain": [
       "   Feature 1  Feature 2  Feature 3\n",
       "0          1          4          4\n",
       "1          2          5         10\n",
       "2          3          6         18\n",
       "3          4          7         28\n",
       "4          5          8         40\n",
       "5          6          9         54"
      ]
     },
     "execution_count": 6,
     "metadata": {},
     "output_type": "execute_result"
    }
   ],
   "source": [
    "features"
   ]
  },
  {
   "cell_type": "markdown",
   "id": "8a42e002",
   "metadata": {},
   "source": [
    "###### The feature dataframe is now a 6 by 3 matrix containing only the feature columns"
   ]
  },
  {
   "cell_type": "code",
   "execution_count": 7,
   "id": "34b713e5",
   "metadata": {},
   "outputs": [
    {
     "data": {
      "text/plain": [
       "0     16\n",
       "1     20\n",
       "2     36\n",
       "3     56\n",
       "4     64\n",
       "5    108\n",
       "Name: Target, dtype: int64"
      ]
     },
     "execution_count": 7,
     "metadata": {},
     "output_type": "execute_result"
    }
   ],
   "source": [
    "Target"
   ]
  },
  {
   "cell_type": "markdown",
   "id": "05917fbe",
   "metadata": {},
   "source": [
    "The Target vector which contains a column which is the target variable."
   ]
  },
  {
   "cell_type": "code",
   "execution_count": 8,
   "id": "94fc248a",
   "metadata": {},
   "outputs": [
    {
     "name": "stdout",
     "output_type": "stream",
     "text": [
      "Fig 1\n"
     ]
    },
    {
     "data": {
      "image/png": "[encoded data removed]",
      "text/plain": [
       "<Figure size 432x288 with 1 Axes>"
      ]
     },
     "metadata": {
      "needs_background": "light"
     },
     "output_type": "display_data"
    },
    {
     "name": "stdout",
     "output_type": "stream",
     "text": [
      "Fig 2\n"
     ]
    },
    {
     "data": {
      "image/png": "[encoded data removed]",
      "text/plain": [
       "<Figure size 432x288 with 1 Axes>"
      ]
     },
     "metadata": {
      "needs_background": "light"
     },
     "output_type": "display_data"
    },
    {
     "name": "stdout",
     "output_type": "stream",
     "text": [
      "Fig 3\n"
     ]
    },
    {
     "data": {
      "image/png": "[encoded data removed]",
      "text/plain": [
       "<Figure size 432x288 with 1 Axes>"
      ]
     },
     "metadata": {
      "needs_background": "light"
     },
     "output_type": "display_data"
    }
   ],
   "source": [
    "## Lets visualize for better understanding\n",
    "fig = 1\n",
    "for i in features.columns:\n",
    "    print(f'Fig {fig}')\n",
    "    plt.scatter(framed[i],framed[\"Target\"])\n",
    "    plt.title(f\"plot of {i} against target\")\n",
    "    plt.xlabel(i)\n",
    "    plt.ylabel(\"Target\")\n",
    "    plt.show()\n",
    "    fig+=1"
   ]
  },
  {
   "cell_type": "markdown",
   "id": "f0dc2ea9",
   "metadata": {},
   "source": [
    "Visualizing this shows the relationship between the features and target variable, each Figure for features respectively.\n",
    "This can make us easily determine the value of dependent variable by providing a value for the independent variable.\n",
    "\n",
    "**That is the basic intuition behind Features and Target Variables**"
   ]
  },
  {
   "cell_type": "code",
   "execution_count": 9,
   "id": "8ecf31fb",
   "metadata": {},
   "outputs": [
    {
     "data": {
      "image/png": "[encoded data removed]",
      "text/plain": [
       "<Figure size 432x288 with 1 Axes>"
      ]
     },
     "metadata": {
      "needs_background": "light"
     },
     "output_type": "display_data"
    }
   ],
   "source": [
    "## Another plot that combines the three features.\n",
    "## This shows the significance of feature 3, It is called feature engineering, an important practice in accurate model building\n",
    "for i in features.columns:\n",
    "    plt.scatter(framed[i],framed[\"Target\"])"
   ]
  },
  {
   "cell_type": "markdown",
   "id": "802fa141",
   "metadata": {},
   "source": [
    "From the plot, the blue dot represents feature 1, yellow for feature 2 and green for feature 3.\n",
    "This is the basic intuition behind correlation"
   ]
  },
  {
   "cell_type": "markdown",
   "id": "9a2f2986",
   "metadata": {},
   "source": [
    "## Data Types.\n",
    "**Data types** in Machine Learning is treated based on variables in our columns (**Features** and **Target**) Which is broadly divided into two with sub-divisions as illustrated below :\n",
    "- **Qualitative (Categorical) Data types** : These are data types that can not be measured examples are, language name, shoe brands, education level and so on. It is sub-divided into two which are \n",
    "    - **Nominal Categorical Data** : These type of categorical data has neither order nor quantity, examples are hair color, gender, marital status and so on.\n",
    "    - **Ordinal Categorical Data** : These data types are categorical which is ordered so can be quantified to an extent, examples are, school grades (A,B,C,D), Education level and so on. It is a data type inbetween categorical and numerical.\n",
    "- **Quantitative (Numerical) Data types** : These data types are quatified, like they have principle for weight, examples are age, number of completed chapters, total level aced and so on. This is sub-divided into two which are :\n",
    "    - **Discrete Numerical Data** : These data are called discrete because they are at intervals, examples are amount of cars in a park, number of chapters in a book e.t.c. It does have start, end and intervals between.\n",
    "    - **Continuous Numerical Data** : These data type takes a range that has start point and end point, and can be anywhere inbetween the range, examples are height, Time spent in an exam, e.t.c\n",
    "    \n",
    "***Note that data can be numbers and still be categorical***\n",
    "#### Lets practce!\n",
    "\n"
   ]
  },
  {
   "cell_type": "code",
   "execution_count": 10,
   "id": "d0273f57",
   "metadata": {},
   "outputs": [
    {
     "name": "stdout",
     "output_type": "stream",
     "text": [
      "[2, 13, 14, 5, 12, 10, 10, 12, 8, 7, 8, 4, 11, 4, 8, 7, 5, 11, 2, 10, 5, 3, 5, 10, 5, 2, 3, 6, 8, 10, 13, 10, 13, 4, 3, 14, 6, 4, 6, 5] [0.12425821586366437, 0.100114061354312, 0.48927407372837717, 0.9381850995455944, 0.4185620732887021, 0.004314011414287888, 0.13952191171488804, 0.7607072162477223, 0.034212032827809935, 0.13968776628209933, 0.2062158450905731, 0.9825854789332314, 0.24207582979118214, 0.169394457838842, 0.18410513253921656, 0.301542779164801, 0.7346681982004918, 0.4266615231769264, 0.08773696685512056, 0.4328181543213573, 0.7114826095045488, 0.7555654814426579, 0.21035068115635114, 0.016714750611056095, 0.4694978496227563, 0.47406847040510935, 0.9084360542787145, 0.925865218861841, 0.012573744267261211, 0.8903962573438458, 0.5133451596792278, 0.9603023206257071, 0.3076498929626632, 0.38166292899586174, 0.80382102193278, 0.4689038502514916, 0.4318122246322228, 0.8909019023959003, 0.5260799334820051, 0.009187903226605232]\n"
     ]
    }
   ],
   "source": [
    "##Lets generate categorical and numerical data for our dataframe.\n",
    "## for numerical\n",
    "max_row = 40\n",
    "max_int = 15\n",
    "lowest_int = 2\n",
    "numerical_int = [random.randrange(lowest_int,max_int) for i in range(max_row)]\n",
    "numerical_float = [random.random() for i in range(max_row)]\n",
    "\n",
    "print(numerical_int, numerical_float)\n"
   ]
  },
  {
   "cell_type": "code",
   "execution_count": 11,
   "id": "31cb1b01",
   "metadata": {},
   "outputs": [
    {
     "name": "stdout",
     "output_type": "stream",
     "text": [
      "['C++', 'python', 'python', 'python', 'C++', 'C++', 'python', 'java', 'java', 'C++', 'java', 'python', 'C++', 'python', 'java', 'java', 'java', 'C++', 'python', 'C++', 'java', 'python', 'java', 'java', 'C++', 'python', 'python', 'python', 'python', 'C++', 'python', 'java', 'C++', 'C++', 'C++', 'python', 'python', 'C++', 'python', 'python'] ['2', '1', '2', '3', '2', '3', '1', '3', '1', '1', '2', '2', '2', '3', '3', '1', '2', '2', '1', '1', '2', '1', '2', '2', '1', '2', '2', '3', '3', '2', '2', '3', '3', '3', '2', '2', '1', '2', '1', '1']\n"
     ]
    }
   ],
   "source": [
    "#Generate for categorical columns\n",
    "languages = []\n",
    "languages_list = ['python','java','C++']\n",
    "digits = []\n",
    "digits_list = ['1','2','3']\n",
    "for i in range(0, max_row):\n",
    "    language = random.choice(languages_list)\n",
    "    languages.append(language)\n",
    "for i in range(0, max_row):\n",
    "    digit = random.choice(digits_list)\n",
    "    digits.append(digit)\n",
    "    \n",
    "print(languages,digits)"
   ]
  },
  {
   "cell_type": "code",
   "execution_count": 12,
   "id": "e017e118",
   "metadata": {},
   "outputs": [
    {
     "data": {
      "text/html": [
       "<div>\n",
       "<style scoped>\n",
       "    .dataframe tbody tr th:only-of-type {\n",
       "        vertical-align: middle;\n",
       "    }\n",
       "\n",
       "    .dataframe tbody tr th {\n",
       "        vertical-align: top;\n",
       "    }\n",
       "\n",
       "    .dataframe thead th {\n",
       "        text-align: right;\n",
       "    }\n",
       "</style>\n",
       "<table border=\"1\" class=\"dataframe\">\n",
       "  <thead>\n",
       "    <tr style=\"text-align: right;\">\n",
       "      <th></th>\n",
       "      <th>numerical_int</th>\n",
       "      <th>numerical_float</th>\n",
       "      <th>categorical_str</th>\n",
       "      <th>categorical_numbers</th>\n",
       "    </tr>\n",
       "  </thead>\n",
       "  <tbody>\n",
       "    <tr>\n",
       "      <th>0</th>\n",
       "      <td>2</td>\n",
       "      <td>0.124258</td>\n",
       "      <td>C++</td>\n",
       "      <td>2</td>\n",
       "    </tr>\n",
       "    <tr>\n",
       "      <th>1</th>\n",
       "      <td>13</td>\n",
       "      <td>0.100114</td>\n",
       "      <td>python</td>\n",
       "      <td>1</td>\n",
       "    </tr>\n",
       "    <tr>\n",
       "      <th>2</th>\n",
       "      <td>14</td>\n",
       "      <td>0.489274</td>\n",
       "      <td>python</td>\n",
       "      <td>2</td>\n",
       "    </tr>\n",
       "    <tr>\n",
       "      <th>3</th>\n",
       "      <td>5</td>\n",
       "      <td>0.938185</td>\n",
       "      <td>python</td>\n",
       "      <td>3</td>\n",
       "    </tr>\n",
       "    <tr>\n",
       "      <th>4</th>\n",
       "      <td>12</td>\n",
       "      <td>0.418562</td>\n",
       "      <td>C++</td>\n",
       "      <td>2</td>\n",
       "    </tr>\n",
       "    <tr>\n",
       "      <th>5</th>\n",
       "      <td>10</td>\n",
       "      <td>0.004314</td>\n",
       "      <td>C++</td>\n",
       "      <td>3</td>\n",
       "    </tr>\n",
       "    <tr>\n",
       "      <th>6</th>\n",
       "      <td>10</td>\n",
       "      <td>0.139522</td>\n",
       "      <td>python</td>\n",
       "      <td>1</td>\n",
       "    </tr>\n",
       "    <tr>\n",
       "      <th>7</th>\n",
       "      <td>12</td>\n",
       "      <td>0.760707</td>\n",
       "      <td>java</td>\n",
       "      <td>3</td>\n",
       "    </tr>\n",
       "    <tr>\n",
       "      <th>8</th>\n",
       "      <td>8</td>\n",
       "      <td>0.034212</td>\n",
       "      <td>java</td>\n",
       "      <td>1</td>\n",
       "    </tr>\n",
       "    <tr>\n",
       "      <th>9</th>\n",
       "      <td>7</td>\n",
       "      <td>0.139688</td>\n",
       "      <td>C++</td>\n",
       "      <td>1</td>\n",
       "    </tr>\n",
       "  </tbody>\n",
       "</table>\n",
       "</div>"
      ],
      "text/plain": [
       "   numerical_int  numerical_float categorical_str categorical_numbers\n",
       "0              2         0.124258             C++                   2\n",
       "1             13         0.100114          python                   1\n",
       "2             14         0.489274          python                   2\n",
       "3              5         0.938185          python                   3\n",
       "4             12         0.418562             C++                   2\n",
       "5             10         0.004314             C++                   3\n",
       "6             10         0.139522          python                   1\n",
       "7             12         0.760707            java                   3\n",
       "8              8         0.034212            java                   1\n",
       "9              7         0.139688             C++                   1"
      ]
     },
     "execution_count": 12,
     "metadata": {},
     "output_type": "execute_result"
    }
   ],
   "source": [
    "##Make it to a dataframe\n",
    "df = pd.DataFrame()\n",
    "df['numerical_int'] = numerical_int\n",
    "df['numerical_float'] = numerical_float\n",
    "df['categorical_str'] = languages\n",
    "df['categorical_numbers'] = digits\n",
    "\n",
    "df.head(10)"
   ]
  },
  {
   "cell_type": "code",
   "execution_count": 13,
   "id": "770b8f93",
   "metadata": {},
   "outputs": [
    {
     "name": "stdout",
     "output_type": "stream",
     "text": [
      "<class 'pandas.core.frame.DataFrame'>\n",
      "RangeIndex: 40 entries, 0 to 39\n",
      "Data columns (total 4 columns):\n",
      " #   Column               Non-Null Count  Dtype  \n",
      "---  ------               --------------  -----  \n",
      " 0   numerical_int        40 non-null     int64  \n",
      " 1   numerical_float      40 non-null     float64\n",
      " 2   categorical_str      40 non-null     object \n",
      " 3   categorical_numbers  40 non-null     object \n",
      "dtypes: float64(1), int64(1), object(2)\n",
      "memory usage: 1.4+ KB\n"
     ]
    }
   ],
   "source": [
    "df.info()"
   ]
  },
  {
   "cell_type": "markdown",
   "id": "baae7361",
   "metadata": {},
   "source": [
    "The column with name numerical is a numerical column and its datatype can either be **int** or **float** whilst the one with name categorical is categorical column and its datatype is usually **object**\n",
    "\n",
    "These are just the basic datatypes, we have **Datetime** for time series problems and **text** for NLP, these ones are treated differently.\n",
    "\n",
    "**note** NaN might be seen in columns at times, but this stands for (Not a Number) which represents a missing value, so won't be considered a datatype"
   ]
  },
  {
   "cell_type": "markdown",
   "id": "23d341f1",
   "metadata": {},
   "source": [
    "**Lets checkout an external dataset**"
   ]
  },
  {
   "cell_type": "code",
   "execution_count": 14,
   "id": "a384c501",
   "metadata": {},
   "outputs": [
    {
     "data": {
      "text/html": [
       "<div>\n",
       "<style scoped>\n",
       "    .dataframe tbody tr th:only-of-type {\n",
       "        vertical-align: middle;\n",
       "    }\n",
       "\n",
       "    .dataframe tbody tr th {\n",
       "        vertical-align: top;\n",
       "    }\n",
       "\n",
       "    .dataframe thead th {\n",
       "        text-align: right;\n",
       "    }\n",
       "</style>\n",
       "<table border=\"1\" class=\"dataframe\">\n",
       "  <thead>\n",
       "    <tr style=\"text-align: right;\">\n",
       "      <th></th>\n",
       "      <th>Loan_ID</th>\n",
       "      <th>Gender</th>\n",
       "      <th>Married</th>\n",
       "      <th>Dependents</th>\n",
       "      <th>Education</th>\n",
       "      <th>Self_Employed</th>\n",
       "      <th>ApplicantIncome</th>\n",
       "      <th>CoapplicantIncome</th>\n",
       "      <th>LoanAmount</th>\n",
       "      <th>Loan_Amount_Term</th>\n",
       "      <th>Credit_History</th>\n",
       "      <th>Property_Area</th>\n",
       "      <th>Loan_Status</th>\n",
       "    </tr>\n",
       "  </thead>\n",
       "  <tbody>\n",
       "    <tr>\n",
       "      <th>0</th>\n",
       "      <td>LP001002</td>\n",
       "      <td>Male</td>\n",
       "      <td>No</td>\n",
       "      <td>0</td>\n",
       "      <td>Graduate</td>\n",
       "      <td>No</td>\n",
       "      <td>5849</td>\n",
       "      <td>0.0</td>\n",
       "      <td>NaN</td>\n",
       "      <td>360.0</td>\n",
       "      <td>1.0</td>\n",
       "      <td>Urban</td>\n",
       "      <td>Y</td>\n",
       "    </tr>\n",
       "    <tr>\n",
       "      <th>1</th>\n",
       "      <td>LP001003</td>\n",
       "      <td>Male</td>\n",
       "      <td>Yes</td>\n",
       "      <td>1</td>\n",
       "      <td>Graduate</td>\n",
       "      <td>No</td>\n",
       "      <td>4583</td>\n",
       "      <td>1508.0</td>\n",
       "      <td>128.0</td>\n",
       "      <td>360.0</td>\n",
       "      <td>1.0</td>\n",
       "      <td>Rural</td>\n",
       "      <td>N</td>\n",
       "    </tr>\n",
       "    <tr>\n",
       "      <th>2</th>\n",
       "      <td>LP001005</td>\n",
       "      <td>Male</td>\n",
       "      <td>Yes</td>\n",
       "      <td>0</td>\n",
       "      <td>Graduate</td>\n",
       "      <td>Yes</td>\n",
       "      <td>3000</td>\n",
       "      <td>0.0</td>\n",
       "      <td>66.0</td>\n",
       "      <td>360.0</td>\n",
       "      <td>1.0</td>\n",
       "      <td>Urban</td>\n",
       "      <td>Y</td>\n",
       "    </tr>\n",
       "    <tr>\n",
       "      <th>3</th>\n",
       "      <td>LP001006</td>\n",
       "      <td>Male</td>\n",
       "      <td>Yes</td>\n",
       "      <td>0</td>\n",
       "      <td>Not Graduate</td>\n",
       "      <td>No</td>\n",
       "      <td>2583</td>\n",
       "      <td>2358.0</td>\n",
       "      <td>120.0</td>\n",
       "      <td>360.0</td>\n",
       "      <td>1.0</td>\n",
       "      <td>Urban</td>\n",
       "      <td>Y</td>\n",
       "    </tr>\n",
       "    <tr>\n",
       "      <th>4</th>\n",
       "      <td>LP001008</td>\n",
       "      <td>Male</td>\n",
       "      <td>No</td>\n",
       "      <td>0</td>\n",
       "      <td>Graduate</td>\n",
       "      <td>No</td>\n",
       "      <td>6000</td>\n",
       "      <td>0.0</td>\n",
       "      <td>141.0</td>\n",
       "      <td>360.0</td>\n",
       "      <td>1.0</td>\n",
       "      <td>Urban</td>\n",
       "      <td>Y</td>\n",
       "    </tr>\n",
       "  </tbody>\n",
       "</table>\n",
       "</div>"
      ],
      "text/plain": [
       "    Loan_ID Gender Married Dependents     Education Self_Employed  \\\n",
       "0  LP001002   Male      No          0      Graduate            No   \n",
       "1  LP001003   Male     Yes          1      Graduate            No   \n",
       "2  LP001005   Male     Yes          0      Graduate           Yes   \n",
       "3  LP001006   Male     Yes          0  Not Graduate            No   \n",
       "4  LP001008   Male      No          0      Graduate            No   \n",
       "\n",
       "   ApplicantIncome  CoapplicantIncome  LoanAmount  Loan_Amount_Term  \\\n",
       "0             5849                0.0         NaN             360.0   \n",
       "1             4583             1508.0       128.0             360.0   \n",
       "2             3000                0.0        66.0             360.0   \n",
       "3             2583             2358.0       120.0             360.0   \n",
       "4             6000                0.0       141.0             360.0   \n",
       "\n",
       "   Credit_History Property_Area Loan_Status  \n",
       "0             1.0         Urban           Y  \n",
       "1             1.0         Rural           N  \n",
       "2             1.0         Urban           Y  \n",
       "3             1.0         Urban           Y  \n",
       "4             1.0         Urban           Y  "
      ]
     },
     "execution_count": 14,
     "metadata": {},
     "output_type": "execute_result"
    }
   ],
   "source": [
    "##Lets read in the data\n",
    "ex_df = pd.read_csv('Loan prediction train.csv')\n",
    "ex_df.head(5)"
   ]
  },
  {
   "cell_type": "code",
   "execution_count": 15,
   "id": "a7c7cee3",
   "metadata": {},
   "outputs": [
    {
     "name": "stdout",
     "output_type": "stream",
     "text": [
      "<class 'pandas.core.frame.DataFrame'>\n",
      "RangeIndex: 614 entries, 0 to 613\n",
      "Data columns (total 13 columns):\n",
      " #   Column             Non-Null Count  Dtype  \n",
      "---  ------             --------------  -----  \n",
      " 0   Loan_ID            614 non-null    object \n",
      " 1   Gender             601 non-null    object \n",
      " 2   Married            611 non-null    object \n",
      " 3   Dependents         599 non-null    object \n",
      " 4   Education          614 non-null    object \n",
      " 5   Self_Employed      582 non-null    object \n",
      " 6   ApplicantIncome    614 non-null    int64  \n",
      " 7   CoapplicantIncome  614 non-null    float64\n",
      " 8   LoanAmount         592 non-null    float64\n",
      " 9   Loan_Amount_Term   600 non-null    float64\n",
      " 10  Credit_History     564 non-null    float64\n",
      " 11  Property_Area      614 non-null    object \n",
      " 12  Loan_Status        614 non-null    object \n",
      "dtypes: float64(4), int64(1), object(8)\n",
      "memory usage: 62.5+ KB\n"
     ]
    }
   ],
   "source": [
    "ex_df.info()"
   ]
  },
  {
   "cell_type": "markdown",
   "id": "923c61e0",
   "metadata": {},
   "source": [
    "From the info, we discover columns **Loan_ID,Gender** and other columns with object as Dtype to be categorical columns while columns like **CoapplicantIncome, LoanAmount** and other columns with float or int as Dtype as numerical columns."
   ]
  },
  {
   "cell_type": "code",
   "execution_count": null,
   "id": "0a75084a",
   "metadata": {},
   "outputs": [],
   "source": []
  }
 ],
 "metadata": {
  "kernelspec": {
   "display_name": "Python 3 (ipykernel)",
   "language": "python",
   "name": "python3"
  },
  "language_info": {
   "codemirror_mode": {
    "name": "ipython",
    "version": 3
   },
   "file_extension": ".py",
   "mimetype": "text/x-python",
   "name": "python",
   "nbconvert_exporter": "python",
   "pygments_lexer": "ipython3",
   "version": "3.8.12"
  }
 },
 "nbformat": 4,
 "nbformat_minor": 5
}
