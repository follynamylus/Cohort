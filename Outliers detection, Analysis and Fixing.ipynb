{
 "cells": [
  {
   "cell_type": "markdown",
   "id": "0b146b4d",
   "metadata": {},
   "source": [
    "# Outliers\n",
    "\n",
    "Outliers in data science are seen as **few data instances** in **features/columns** that **Extreme** to the distribution of the field\n",
    "\n",
    "We call them **EXTREME Values** either extremly high or low. Example is having a feature as age of participants in this cohort and while gathering the data, we have ages like 10 months old, 2800 months old and its likes. one can detect that 10 months is less than a year, which doesn't make sense on a normal day an age to even know what DS means. same with 2800 months which is over a 200 years old, do people even live that long again?.\n",
    "\n",
    "So these values are extreme values and we tag them as **OUTLIERS**"
   ]
  },
  {
   "cell_type": "markdown",
   "id": "9bf64c46",
   "metadata": {},
   "source": [
    "In this class, I will broadly group outliers into two main groups.\n",
    "- **Outliers due to error** : These are outliers that occurs while gathering data, might be human errors, computing error,or due to planned attrocities and so on. for instance, a sales rep enter  3000000 for a dress instead of  300.\n",
    "- **Interesting Outliers** : These types of outliers are real instances of the feature, for example a feature of salary earned by university employees, we might have from the range of ten of thousands till hundreds of thousands for casual workers and lecturers, then we have millions for the VC, you know millions will be somehow extreme, but it is still a necessary part of the data. "
   ]
  },
  {
   "cell_type": "code",
   "execution_count": null,
   "id": "37c385a9",
   "metadata": {},
   "outputs": [],
   "source": []
  },
  {
   "cell_type": "markdown",
   "id": "d2f73abd",
   "metadata": {},
   "source": [
    "## Ways for detecting Outliers.\n",
    "\n",
    "We should note that it is only **numerical data** that do have outliers since It is the ordered and quantified type. So the ways we will be using here will be ways to explore numerical data. \n",
    "\n",
    "Considering ways of detecting Outliers, Lets discuss two types of outliers:\n",
    "- **Univariate Outliers** : These are outliers in a field/feature of a population sample, example is Lagos state having a temperature of -25 degree celcius,\n",
    "  Some of the basic ways we can use to detect the outliers are :\n",
    "   - Detecton by mere viewing the data\n",
    "   - Use of boxplot\n",
    "   - Use of pandas describe method\n",
    "   - Use of Tukey’s box plot method.\n",
    " \n",
    "- **Multivariate Outliers (Bi-variate)** : These outliers are anomalies gotten from the relationship between two fields/features, for instance, An employee the receives 80000 naira monthly purchasing an apartment that worths 200000 dollars, we can detect multivariate outliers using **Scatterplots** then getting the distance of the data points\n",
    "  \n",
    "Other ways we can use are through the Z-score, IQR and so on. \n",
    "\n",
    "### Lets practice!"
   ]
  },
  {
   "cell_type": "code",
   "execution_count": 1,
   "id": "64c600da",
   "metadata": {},
   "outputs": [],
   "source": [
    "##Lets import required libraries\n",
    "import numpy as np\n",
    "import pandas as pd\n",
    "import matplotlib.pyplot as plt\n",
    "import seaborn as sns"
   ]
  },
  {
   "cell_type": "code",
   "execution_count": 2,
   "id": "e3d8f84a",
   "metadata": {},
   "outputs": [
    {
     "data": {
      "text/html": [
       "<div>\n",
       "<style scoped>\n",
       "    .dataframe tbody tr th:only-of-type {\n",
       "        vertical-align: middle;\n",
       "    }\n",
       "\n",
       "    .dataframe tbody tr th {\n",
       "        vertical-align: top;\n",
       "    }\n",
       "\n",
       "    .dataframe thead th {\n",
       "        text-align: right;\n",
       "    }\n",
       "</style>\n",
       "<table border=\"1\" class=\"dataframe\">\n",
       "  <thead>\n",
       "    <tr style=\"text-align: right;\">\n",
       "      <th></th>\n",
       "      <th>feature</th>\n",
       "    </tr>\n",
       "  </thead>\n",
       "  <tbody>\n",
       "    <tr>\n",
       "      <th>0</th>\n",
       "      <td>12</td>\n",
       "    </tr>\n",
       "    <tr>\n",
       "      <th>1</th>\n",
       "      <td>14</td>\n",
       "    </tr>\n",
       "    <tr>\n",
       "      <th>2</th>\n",
       "      <td>10</td>\n",
       "    </tr>\n",
       "    <tr>\n",
       "      <th>3</th>\n",
       "      <td>16</td>\n",
       "    </tr>\n",
       "    <tr>\n",
       "      <th>4</th>\n",
       "      <td>15</td>\n",
       "    </tr>\n",
       "    <tr>\n",
       "      <th>5</th>\n",
       "      <td>15</td>\n",
       "    </tr>\n",
       "    <tr>\n",
       "      <th>6</th>\n",
       "      <td>17</td>\n",
       "    </tr>\n",
       "    <tr>\n",
       "      <th>7</th>\n",
       "      <td>12</td>\n",
       "    </tr>\n",
       "    <tr>\n",
       "      <th>8</th>\n",
       "      <td>12</td>\n",
       "    </tr>\n",
       "    <tr>\n",
       "      <th>9</th>\n",
       "      <td>132</td>\n",
       "    </tr>\n",
       "    <tr>\n",
       "      <th>10</th>\n",
       "      <td>18</td>\n",
       "    </tr>\n",
       "    <tr>\n",
       "      <th>11</th>\n",
       "      <td>21</td>\n",
       "    </tr>\n",
       "    <tr>\n",
       "      <th>12</th>\n",
       "      <td>21</td>\n",
       "    </tr>\n",
       "    <tr>\n",
       "      <th>13</th>\n",
       "      <td>18</td>\n",
       "    </tr>\n",
       "    <tr>\n",
       "      <th>14</th>\n",
       "      <td>152</td>\n",
       "    </tr>\n",
       "    <tr>\n",
       "      <th>15</th>\n",
       "      <td>13</td>\n",
       "    </tr>\n",
       "    <tr>\n",
       "      <th>16</th>\n",
       "      <td>11</td>\n",
       "    </tr>\n",
       "    <tr>\n",
       "      <th>17</th>\n",
       "      <td>15</td>\n",
       "    </tr>\n",
       "    <tr>\n",
       "      <th>18</th>\n",
       "      <td>12</td>\n",
       "    </tr>\n",
       "    <tr>\n",
       "      <th>19</th>\n",
       "      <td>12</td>\n",
       "    </tr>\n",
       "    <tr>\n",
       "      <th>20</th>\n",
       "      <td>14</td>\n",
       "    </tr>\n",
       "  </tbody>\n",
       "</table>\n",
       "</div>"
      ],
      "text/plain": [
       "    feature\n",
       "0        12\n",
       "1        14\n",
       "2        10\n",
       "3        16\n",
       "4        15\n",
       "5        15\n",
       "6        17\n",
       "7        12\n",
       "8        12\n",
       "9       132\n",
       "10       18\n",
       "11       21\n",
       "12       21\n",
       "13       18\n",
       "14      152\n",
       "15       13\n",
       "16       11\n",
       "17       15\n",
       "18       12\n",
       "19       12\n",
       "20       14"
      ]
     },
     "execution_count": 2,
     "metadata": {},
     "output_type": "execute_result"
    }
   ],
   "source": [
    "#By viewing the data\n",
    "data = [12,14,10,16,15,15,17,12,12,132,18,21,21,18,152,13,11,15,12,12,14]\n",
    "framed_data = pd.DataFrame(data, columns=['feature'])\n",
    "framed_data"
   ]
  },
  {
   "cell_type": "markdown",
   "id": "95608a3e",
   "metadata": {},
   "source": [
    "From the feature, we can see the extreme values as 132 and 152, this is considered a crude way of detecting outliers because I gets more difficult to practice the bigger the data gets."
   ]
  },
  {
   "cell_type": "markdown",
   "id": "5e1de597",
   "metadata": {},
   "source": [
    "### Use of Pandas describe method\n",
    "\n",
    "Basic knowledge of statistics has made us deduce methods for measuring the central tendency of data which are :\n",
    "- Mean.\n",
    "- Median. \n",
    "- Mode.\n",
    "\n",
    "Mean been a measure of central tendency is highly affected by outliers due to the way it is been calculated.\n",
    "Median on the otherhand is immune to outliers since it is calculated based on percentile.\n",
    "\n",
    "So in other to detect if a feature is having outliers, we try to compare the mean and median value because for a normaly distributed data, they are suppose to be the same value or really close values."
   ]
  },
  {
   "cell_type": "code",
   "execution_count": 3,
   "id": "1f29ebeb",
   "metadata": {},
   "outputs": [
    {
     "data": {
      "text/html": [
       "<div>\n",
       "<style scoped>\n",
       "    .dataframe tbody tr th:only-of-type {\n",
       "        vertical-align: middle;\n",
       "    }\n",
       "\n",
       "    .dataframe tbody tr th {\n",
       "        vertical-align: top;\n",
       "    }\n",
       "\n",
       "    .dataframe thead th {\n",
       "        text-align: right;\n",
       "    }\n",
       "</style>\n",
       "<table border=\"1\" class=\"dataframe\">\n",
       "  <thead>\n",
       "    <tr style=\"text-align: right;\">\n",
       "      <th></th>\n",
       "      <th>feature</th>\n",
       "    </tr>\n",
       "  </thead>\n",
       "  <tbody>\n",
       "    <tr>\n",
       "      <th>count</th>\n",
       "      <td>21.000000</td>\n",
       "    </tr>\n",
       "    <tr>\n",
       "      <th>mean</th>\n",
       "      <td>26.761905</td>\n",
       "    </tr>\n",
       "    <tr>\n",
       "      <th>std</th>\n",
       "      <td>38.561515</td>\n",
       "    </tr>\n",
       "    <tr>\n",
       "      <th>min</th>\n",
       "      <td>10.000000</td>\n",
       "    </tr>\n",
       "    <tr>\n",
       "      <th>25%</th>\n",
       "      <td>12.000000</td>\n",
       "    </tr>\n",
       "    <tr>\n",
       "      <th>50%</th>\n",
       "      <td>15.000000</td>\n",
       "    </tr>\n",
       "    <tr>\n",
       "      <th>75%</th>\n",
       "      <td>18.000000</td>\n",
       "    </tr>\n",
       "    <tr>\n",
       "      <th>max</th>\n",
       "      <td>152.000000</td>\n",
       "    </tr>\n",
       "  </tbody>\n",
       "</table>\n",
       "</div>"
      ],
      "text/plain": [
       "          feature\n",
       "count   21.000000\n",
       "mean    26.761905\n",
       "std     38.561515\n",
       "min     10.000000\n",
       "25%     12.000000\n",
       "50%     15.000000\n",
       "75%     18.000000\n",
       "max    152.000000"
      ]
     },
     "execution_count": 3,
     "metadata": {},
     "output_type": "execute_result"
    }
   ],
   "source": [
    "##Use of describe pandas method\n",
    "framed_data.describe()"
   ]
  },
  {
   "cell_type": "markdown",
   "id": "01b40fb6",
   "metadata": {},
   "source": [
    "The **Mean value of this feature is 26.761** while **Median (50%) is 15.00** proves the presence of outliers in the feature"
   ]
  },
  {
   "cell_type": "code",
   "execution_count": 4,
   "id": "8b745a7e",
   "metadata": {},
   "outputs": [
    {
     "data": {
      "image/png": "[encoded data removed]",
      "text/plain": [
       "<Figure size 792x504 with 1 Axes>"
      ]
     },
     "metadata": {
      "needs_background": "light"
     },
     "output_type": "display_data"
    }
   ],
   "source": [
    "%matplotlib inline\n",
    "framed_data.boxplot(figsize = (11, 7))\n",
    "plt.show()"
   ]
  },
  {
   "cell_type": "markdown",
   "id": "fe76f139",
   "metadata": {},
   "source": [
    "The  median value from the boxplot is around 15 while the whisker shows max tend at around 21, and Min tend around 10 then the 25 and 75 percentiles which are the edges of  the box around 12 and 18 respectively.\n",
    "\n",
    "We can deduce from the plot, two extreme values represented with small circles one around 130 and the other around 150. this plot clearly shows the outlier in out feature."
   ]
  },
  {
   "cell_type": "markdown",
   "id": "92ffd2d8",
   "metadata": {},
   "source": [
    "**The Use of Tukeys Box Plot method** : This is the method we use to get the index of outliers with the use of fences after the box whiskers, we have the **Inner fence** as a boundary for **Possible Outliers** both upper and lower and **Outter fence** for **Probable Outliers** both upper and lower region. Outter fence are more extreme than inner fence which makes it more likely to be an outlier than the latter.\n",
    "\n",
    "To calculate our fences, we make use of our **Quartile** range just like box plot. \n",
    "\n",
    "It is wildly use because other outliers doesn't affect its value and It doesn't require it to be normally distributed which is likely for real world population sample.\n",
    "\n",
    "### Lets code it!"
   ]
  },
  {
   "cell_type": "code",
   "execution_count": 5,
   "id": "593cb2b7",
   "metadata": {},
   "outputs": [],
   "source": [
    "def Tukeys (data, x):\n",
    "    Q1 = data[x].quantile(0.25)\n",
    "    Q3 = data[x].quantile(0.75)\n",
    "    IQR = Q3 - Q1\n",
    "    inner_fence = 1.5*IQR\n",
    "    outter_fence = 3*IQR\n",
    "\n",
    "    inner_fence_lo = Q1 - inner_fence\n",
    "    inner_fence_up = Q3 + inner_fence\n",
    "\n",
    "    outter_fence_lo = Q1 - outter_fence\n",
    "    outter_fence_up = Q3 + outter_fence\n",
    "\n",
    "\n",
    "    outlier_prob = []\n",
    "    outlier_poss = []\n",
    "\n",
    "    for index, i in enumerate(data[x]) :\n",
    "\n",
    "        if i <= outter_fence_lo or i >= outter_fence_up :\n",
    "            outlier_prob.append(index)\n",
    "        if i <= inner_fence_lo or i >= inner_fence_up :\n",
    "            outlier_poss.append(index)\n",
    "\n",
    "    return f'Inner fence : {outlier_poss}',f'outer fence : {outlier_prob}'"
   ]
  },
  {
   "cell_type": "code",
   "execution_count": 6,
   "id": "02f8af03",
   "metadata": {},
   "outputs": [
    {
     "data": {
      "text/plain": [
       "('Inner fence : [9, 14]', 'outer fence : [9, 14]')"
      ]
     },
     "execution_count": 6,
     "metadata": {},
     "output_type": "execute_result"
    }
   ],
   "source": [
    "Tukeys(framed_data, 'feature')"
   ]
  },
  {
   "cell_type": "markdown",
   "id": "328d9872",
   "metadata": {},
   "source": [
    "## Multivariate Outliers\n",
    "We will only treat the use of scatter plot to detect the outlier in this class. We use scatter plot to check for isolated extreme data points."
   ]
  },
  {
   "cell_type": "code",
   "execution_count": 7,
   "id": "37e01bc6",
   "metadata": {},
   "outputs": [
    {
     "data": {
      "text/html": [
       "<div>\n",
       "<style scoped>\n",
       "    .dataframe tbody tr th:only-of-type {\n",
       "        vertical-align: middle;\n",
       "    }\n",
       "\n",
       "    .dataframe tbody tr th {\n",
       "        vertical-align: top;\n",
       "    }\n",
       "\n",
       "    .dataframe thead th {\n",
       "        text-align: right;\n",
       "    }\n",
       "</style>\n",
       "<table border=\"1\" class=\"dataframe\">\n",
       "  <thead>\n",
       "    <tr style=\"text-align: right;\">\n",
       "      <th></th>\n",
       "      <th>population</th>\n",
       "      <th>household</th>\n",
       "    </tr>\n",
       "  </thead>\n",
       "  <tbody>\n",
       "    <tr>\n",
       "      <th>0</th>\n",
       "      <td>2000</td>\n",
       "      <td>300</td>\n",
       "    </tr>\n",
       "    <tr>\n",
       "      <th>1</th>\n",
       "      <td>8000</td>\n",
       "      <td>600</td>\n",
       "    </tr>\n",
       "    <tr>\n",
       "      <th>2</th>\n",
       "      <td>5000</td>\n",
       "      <td>40</td>\n",
       "    </tr>\n",
       "    <tr>\n",
       "      <th>3</th>\n",
       "      <td>1000</td>\n",
       "      <td>200</td>\n",
       "    </tr>\n",
       "    <tr>\n",
       "      <th>4</th>\n",
       "      <td>800</td>\n",
       "      <td>3000</td>\n",
       "    </tr>\n",
       "    <tr>\n",
       "      <th>5</th>\n",
       "      <td>3000</td>\n",
       "      <td>350</td>\n",
       "    </tr>\n",
       "    <tr>\n",
       "      <th>6</th>\n",
       "      <td>8000</td>\n",
       "      <td>640</td>\n",
       "    </tr>\n",
       "    <tr>\n",
       "      <th>7</th>\n",
       "      <td>8200</td>\n",
       "      <td>570</td>\n",
       "    </tr>\n",
       "    <tr>\n",
       "      <th>8</th>\n",
       "      <td>7050</td>\n",
       "      <td>590</td>\n",
       "    </tr>\n",
       "    <tr>\n",
       "      <th>9</th>\n",
       "      <td>8000</td>\n",
       "      <td>700</td>\n",
       "    </tr>\n",
       "    <tr>\n",
       "      <th>10</th>\n",
       "      <td>2000</td>\n",
       "      <td>310</td>\n",
       "    </tr>\n",
       "    <tr>\n",
       "      <th>11</th>\n",
       "      <td>8000</td>\n",
       "      <td>630</td>\n",
       "    </tr>\n",
       "    <tr>\n",
       "      <th>12</th>\n",
       "      <td>5000</td>\n",
       "      <td>400</td>\n",
       "    </tr>\n",
       "    <tr>\n",
       "      <th>13</th>\n",
       "      <td>1005</td>\n",
       "      <td>200</td>\n",
       "    </tr>\n",
       "    <tr>\n",
       "      <th>14</th>\n",
       "      <td>8000</td>\n",
       "      <td>630</td>\n",
       "    </tr>\n",
       "    <tr>\n",
       "      <th>15</th>\n",
       "      <td>3000</td>\n",
       "      <td>370</td>\n",
       "    </tr>\n",
       "    <tr>\n",
       "      <th>16</th>\n",
       "      <td>8100</td>\n",
       "      <td>640</td>\n",
       "    </tr>\n",
       "    <tr>\n",
       "      <th>17</th>\n",
       "      <td>8200</td>\n",
       "      <td>580</td>\n",
       "    </tr>\n",
       "    <tr>\n",
       "      <th>18</th>\n",
       "      <td>7053</td>\n",
       "      <td>590</td>\n",
       "    </tr>\n",
       "    <tr>\n",
       "      <th>19</th>\n",
       "      <td>8010</td>\n",
       "      <td>705</td>\n",
       "    </tr>\n",
       "    <tr>\n",
       "      <th>20</th>\n",
       "      <td>2000</td>\n",
       "      <td>280</td>\n",
       "    </tr>\n",
       "    <tr>\n",
       "      <th>21</th>\n",
       "      <td>8000</td>\n",
       "      <td>605</td>\n",
       "    </tr>\n",
       "    <tr>\n",
       "      <th>22</th>\n",
       "      <td>5020</td>\n",
       "      <td>4050</td>\n",
       "    </tr>\n",
       "    <tr>\n",
       "      <th>23</th>\n",
       "      <td>1000</td>\n",
       "      <td>260</td>\n",
       "    </tr>\n",
       "    <tr>\n",
       "      <th>24</th>\n",
       "      <td>8200</td>\n",
       "      <td>720</td>\n",
       "    </tr>\n",
       "    <tr>\n",
       "      <th>25</th>\n",
       "      <td>3100</td>\n",
       "      <td>350</td>\n",
       "    </tr>\n",
       "    <tr>\n",
       "      <th>26</th>\n",
       "      <td>8000</td>\n",
       "      <td>670</td>\n",
       "    </tr>\n",
       "    <tr>\n",
       "      <th>27</th>\n",
       "      <td>8200</td>\n",
       "      <td>570</td>\n",
       "    </tr>\n",
       "    <tr>\n",
       "      <th>28</th>\n",
       "      <td>7050</td>\n",
       "      <td>595</td>\n",
       "    </tr>\n",
       "    <tr>\n",
       "      <th>29</th>\n",
       "      <td>8000</td>\n",
       "      <td>710</td>\n",
       "    </tr>\n",
       "  </tbody>\n",
       "</table>\n",
       "</div>"
      ],
      "text/plain": [
       "    population  household\n",
       "0         2000        300\n",
       "1         8000        600\n",
       "2         5000         40\n",
       "3         1000        200\n",
       "4          800       3000\n",
       "5         3000        350\n",
       "6         8000        640\n",
       "7         8200        570\n",
       "8         7050        590\n",
       "9         8000        700\n",
       "10        2000        310\n",
       "11        8000        630\n",
       "12        5000        400\n",
       "13        1005        200\n",
       "14        8000        630\n",
       "15        3000        370\n",
       "16        8100        640\n",
       "17        8200        580\n",
       "18        7053        590\n",
       "19        8010        705\n",
       "20        2000        280\n",
       "21        8000        605\n",
       "22        5020       4050\n",
       "23        1000        260\n",
       "24        8200        720\n",
       "25        3100        350\n",
       "26        8000        670\n",
       "27        8200        570\n",
       "28        7050        595\n",
       "29        8000        710"
      ]
     },
     "execution_count": 7,
     "metadata": {},
     "output_type": "execute_result"
    }
   ],
   "source": [
    "data = [[2000,300],[8000,600],[5000,40],[1000,200],[800,3000],[3000,350],[8000,640],[8200,570],[7050,590],[8000,700],\n",
    "       [2000,310],[8000,630],[5000,400],[1005,200],[8000,630],[3000,370],[8100,640],[8200,580],[7053,590],[8010,705],\n",
    "       [2000,280],[8000,605],[5020,4050],[1000,260],[8200,720],[3100,350],[8000,670],[8200,570],[7050,595],[8000,710]]\n",
    "framed = pd.DataFrame(data, columns=(\"population\",\"household\"))\n",
    "framed"
   ]
  },
  {
   "cell_type": "code",
   "execution_count": 8,
   "id": "744f631c",
   "metadata": {},
   "outputs": [
    {
     "data": {
      "image/png": "[encoded data removed]",
      "text/plain": [
       "<Figure size 432x288 with 1 Axes>"
      ]
     },
     "metadata": {
      "needs_background": "light"
     },
     "output_type": "display_data"
    }
   ],
   "source": [
    "sns.scatterplot(data = framed, x='population',y='household')\n",
    "plt.show()"
   ]
  },
  {
   "cell_type": "markdown",
   "id": "e6c6471a",
   "metadata": {},
   "source": [
    "We can see two extreme data points from the scatter plot, one with a population of less that 1000 and more than 3000 household which shows an average of more than 3 households per person, then the second of around 5000 population with over 4000 household, this too shows an average of about 1 person per household."
   ]
  },
  {
   "cell_type": "markdown",
   "id": "d389ee15",
   "metadata": {},
   "source": [
    "### Ways to Fix Outliers problems\n",
    "- Delete Outliers : This can be done by droping the instance through rows, reason it is considered a not so good method since it might lead to loss of important information while been dropped(Usually applied to Outliers due to erros).\n",
    "- Keep : Outliers can be kept as they are most especially Interesting Outliers with important information about the feature.\n",
    "- Winsorizing (Capping) : In this method, we replace extreme values with a fixed value, a common practice is 5th percentile for the lower cap and 95 percentile for upper cap\n",
    "\n",
    "- Log transformation : This reduces scale of the data, thereby reducing the distance of extreme values from the rest of the instances.\n",
    "\n",
    "- Imputation : Here, we drop outliers and replace it with determined values, common pracetices are the use of Mean or Median value of the distribution.\n",
    "\n",
    "- Trace the data to the Source and correct the error, this is for Outliers due to errors.\n",
    "\n",
    "These are some of the methods used in fixing outliers,\n",
    "Log transformation, Winsorizing and Imputation will be treated in this class.\n",
    "\n",
    "**NB** The most important thing is to understand your dataset so you know if the outliers are due to errors or not so as to know the best method to use to fix it.\n",
    "\n",
    "\n",
    "#### Lets practice !"
   ]
  },
  {
   "cell_type": "code",
   "execution_count": 9,
   "id": "eb98e87c",
   "metadata": {},
   "outputs": [],
   "source": [
    "## Log transformation\n",
    "def log_transformed(data, x, y) : \n",
    "    data[y] = np.log(data[x]) + 1\n",
    "    return data[y]"
   ]
  },
  {
   "cell_type": "code",
   "execution_count": 10,
   "id": "4d14e160",
   "metadata": {},
   "outputs": [],
   "source": [
    "framed_data['feature_log'] = log_transformed(framed_data, x='feature', y = 'feature_log')"
   ]
  },
  {
   "cell_type": "code",
   "execution_count": 11,
   "id": "91bb9585",
   "metadata": {},
   "outputs": [
    {
     "data": {
      "image/png": "[encoded data removed]",
      "text/plain": [
       "<Figure size 432x288 with 1 Axes>"
      ]
     },
     "metadata": {
      "needs_background": "light"
     },
     "output_type": "display_data"
    },
    {
     "data": {
      "image/png": "[encoded data removed]",
      "text/plain": [
       "<Figure size 432x288 with 1 Axes>"
      ]
     },
     "metadata": {
      "needs_background": "light"
     },
     "output_type": "display_data"
    }
   ],
   "source": [
    "for _ in framed_data.columns :\n",
    "    sns.boxplot(data = framed_data, x = _)\n",
    "    plt.show()"
   ]
  },
  {
   "cell_type": "markdown",
   "id": "fc430818",
   "metadata": {},
   "source": [
    "We can See from the plot that the distribution range reduced, though it still kept the shape, so It is a good practice for\n",
    "Interesting Outliers, Athough It doesn't work in some scenerio."
   ]
  },
  {
   "cell_type": "code",
   "execution_count": 12,
   "id": "ee38720a",
   "metadata": {},
   "outputs": [],
   "source": [
    "def winsorizing (data, x, y, lower, upper):\n",
    "    per_10th = data[x].quantile(lower)\n",
    "    per_90th = data[x].quantile(upper)\n",
    "    data[y] = np.where(data[x] < per_10th, per_10th, data[x] )\n",
    "    data[y]= np.where(data[x] > per_90th, per_90th, data[x])\n",
    "    return data[y]"
   ]
  },
  {
   "cell_type": "code",
   "execution_count": 13,
   "id": "04fccdb6",
   "metadata": {},
   "outputs": [],
   "source": [
    "framed_data['feature_cap'] = winsorizing(framed_data, 'feature', 'feature_cap', 0.10, 0.90)"
   ]
  },
  {
   "cell_type": "code",
   "execution_count": 14,
   "id": "185063dd",
   "metadata": {},
   "outputs": [
    {
     "data": {
      "image/png": "[encoded data removed]",
      "text/plain": [
       "<Figure size 432x288 with 1 Axes>"
      ]
     },
     "metadata": {
      "needs_background": "light"
     },
     "output_type": "display_data"
    },
    {
     "data": {
      "image/png": "[encoded data removed]",
      "text/plain": [
       "<Figure size 432x288 with 1 Axes>"
      ]
     },
     "metadata": {
      "needs_background": "light"
     },
     "output_type": "display_data"
    },
    {
     "data": {
      "image/png": "[encoded data removed]",
      "text/plain": [
       "<Figure size 432x288 with 1 Axes>"
      ]
     },
     "metadata": {
      "needs_background": "light"
     },
     "output_type": "display_data"
    }
   ],
   "source": [
    "\n",
    "for _ in framed_data.columns :\n",
    "    sns.boxplot(data = framed_data, x = _)\n",
    "    plt.show()"
   ]
  },
  {
   "cell_type": "markdown",
   "id": "a83c47c5",
   "metadata": {},
   "source": [
    "We can see the distribution of feature_cap, It fixed the outliers though some datapoints are replaced, It doesn't lose additional information and works well with real world data that usually is not normally distributed."
   ]
  },
  {
   "cell_type": "code",
   "execution_count": 15,
   "id": "53f92e25",
   "metadata": {},
   "outputs": [],
   "source": [
    "def Imputation (data, x, y, metrics, lim = 3) :\n",
    "    Q1 = data[x].quantile(0.25)\n",
    "    Q3 = data[x].quantile(0.75)\n",
    "    IQR = Q1 - Q3\n",
    "    data[y] = np.where(data[x] < Q1 - lim * IQR, metrics, data[x])\n",
    "    data[y] = np.where(data[x] > Q3 - lim * IQR, metrics, data[x] )\n",
    "    return data[y]"
   ]
  },
  {
   "cell_type": "code",
   "execution_count": 43,
   "id": "d9cbb3a8",
   "metadata": {},
   "outputs": [],
   "source": [
    "framed_data['feature_imp'] = Imputation(framed_data, 'feature', 'feature_imp', np.mean(framed_data['feature']))"
   ]
  },
  {
   "cell_type": "code",
   "execution_count": 44,
   "id": "48e7b8ec",
   "metadata": {},
   "outputs": [
    {
     "data": {
      "image/png": "[encoded data removed]",
      "text/plain": [
       "<Figure size 432x288 with 1 Axes>"
      ]
     },
     "metadata": {
      "needs_background": "light"
     },
     "output_type": "display_data"
    },
    {
     "data": {
      "image/png": "[encoded data removed]",
      "text/plain": [
       "<Figure size 432x288 with 1 Axes>"
      ]
     },
     "metadata": {
      "needs_background": "light"
     },
     "output_type": "display_data"
    },
    {
     "data": {
      "image/png": "[encoded data removed]",
      "text/plain": [
       "<Figure size 432x288 with 1 Axes>"
      ]
     },
     "metadata": {
      "needs_background": "light"
     },
     "output_type": "display_data"
    },
    {
     "data": {
      "image/png": "[encoded data removed]",
      "text/plain": [
       "<Figure size 432x288 with 1 Axes>"
      ]
     },
     "metadata": {
      "needs_background": "light"
     },
     "output_type": "display_data"
    }
   ],
   "source": [
    "\n",
    "for _ in framed_data.columns :\n",
    "    sns.boxplot(data = framed_data, x = _)\n",
    "    plt.show()"
   ]
  },
  {
   "cell_type": "markdown",
   "id": "8973ba8a",
   "metadata": {},
   "source": [
    "We can see that this is similar to winsorizing, just that we are imputing another value entirely but not capping, Then other outliers do affect the value used in replacing it though median is less affected."
   ]
  },
  {
   "cell_type": "code",
   "execution_count": 18,
   "id": "9bb2c780",
   "metadata": {},
   "outputs": [
    {
     "data": {
      "text/html": [
       "<div>\n",
       "<style scoped>\n",
       "    .dataframe tbody tr th:only-of-type {\n",
       "        vertical-align: middle;\n",
       "    }\n",
       "\n",
       "    .dataframe tbody tr th {\n",
       "        vertical-align: top;\n",
       "    }\n",
       "\n",
       "    .dataframe thead th {\n",
       "        text-align: right;\n",
       "    }\n",
       "</style>\n",
       "<table border=\"1\" class=\"dataframe\">\n",
       "  <thead>\n",
       "    <tr style=\"text-align: right;\">\n",
       "      <th></th>\n",
       "      <th>feature</th>\n",
       "      <th>feature_log</th>\n",
       "      <th>feature_cap</th>\n",
       "      <th>feature_imp</th>\n",
       "    </tr>\n",
       "  </thead>\n",
       "  <tbody>\n",
       "    <tr>\n",
       "      <th>count</th>\n",
       "      <td>21.000000</td>\n",
       "      <td>21.000000</td>\n",
       "      <td>21.000000</td>\n",
       "      <td>21.000000</td>\n",
       "    </tr>\n",
       "    <tr>\n",
       "      <th>mean</th>\n",
       "      <td>26.761905</td>\n",
       "      <td>3.879738</td>\n",
       "      <td>15.238095</td>\n",
       "      <td>14.666667</td>\n",
       "    </tr>\n",
       "    <tr>\n",
       "      <th>std</th>\n",
       "      <td>38.561515</td>\n",
       "      <td>0.718537</td>\n",
       "      <td>3.590331</td>\n",
       "      <td>3.038640</td>\n",
       "    </tr>\n",
       "    <tr>\n",
       "      <th>min</th>\n",
       "      <td>10.000000</td>\n",
       "      <td>3.302585</td>\n",
       "      <td>10.000000</td>\n",
       "      <td>10.000000</td>\n",
       "    </tr>\n",
       "    <tr>\n",
       "      <th>25%</th>\n",
       "      <td>12.000000</td>\n",
       "      <td>3.484907</td>\n",
       "      <td>12.000000</td>\n",
       "      <td>12.000000</td>\n",
       "    </tr>\n",
       "    <tr>\n",
       "      <th>50%</th>\n",
       "      <td>15.000000</td>\n",
       "      <td>3.708050</td>\n",
       "      <td>15.000000</td>\n",
       "      <td>15.000000</td>\n",
       "    </tr>\n",
       "    <tr>\n",
       "      <th>75%</th>\n",
       "      <td>18.000000</td>\n",
       "      <td>3.890372</td>\n",
       "      <td>18.000000</td>\n",
       "      <td>16.000000</td>\n",
       "    </tr>\n",
       "    <tr>\n",
       "      <th>max</th>\n",
       "      <td>152.000000</td>\n",
       "      <td>6.023881</td>\n",
       "      <td>21.000000</td>\n",
       "      <td>21.000000</td>\n",
       "    </tr>\n",
       "  </tbody>\n",
       "</table>\n",
       "</div>"
      ],
      "text/plain": [
       "          feature  feature_log  feature_cap  feature_imp\n",
       "count   21.000000    21.000000    21.000000    21.000000\n",
       "mean    26.761905     3.879738    15.238095    14.666667\n",
       "std     38.561515     0.718537     3.590331     3.038640\n",
       "min     10.000000     3.302585    10.000000    10.000000\n",
       "25%     12.000000     3.484907    12.000000    12.000000\n",
       "50%     15.000000     3.708050    15.000000    15.000000\n",
       "75%     18.000000     3.890372    18.000000    16.000000\n",
       "max    152.000000     6.023881    21.000000    21.000000"
      ]
     },
     "execution_count": 18,
     "metadata": {},
     "output_type": "execute_result"
    }
   ],
   "source": [
    "framed_data.describe()"
   ]
  },
  {
   "cell_type": "markdown",
   "id": "ee95e56d",
   "metadata": {},
   "source": [
    "We can analyse this and compare the mean and the median to check how drawn closer they are."
   ]
  },
  {
   "cell_type": "markdown",
   "id": "b6d5de1c",
   "metadata": {},
   "source": [
    "### Lets practice using an external data"
   ]
  },
  {
   "cell_type": "code",
   "execution_count": 19,
   "id": "56466d1e",
   "metadata": {},
   "outputs": [],
   "source": [
    "## Lets import the data.\n",
    "df = pd.read_csv('Big Mart Sales Prediction Train.csv')"
   ]
  },
  {
   "cell_type": "code",
   "execution_count": 20,
   "id": "94ade42a",
   "metadata": {},
   "outputs": [
    {
     "data": {
      "text/html": [
       "<div>\n",
       "<style scoped>\n",
       "    .dataframe tbody tr th:only-of-type {\n",
       "        vertical-align: middle;\n",
       "    }\n",
       "\n",
       "    .dataframe tbody tr th {\n",
       "        vertical-align: top;\n",
       "    }\n",
       "\n",
       "    .dataframe thead th {\n",
       "        text-align: right;\n",
       "    }\n",
       "</style>\n",
       "<table border=\"1\" class=\"dataframe\">\n",
       "  <thead>\n",
       "    <tr style=\"text-align: right;\">\n",
       "      <th></th>\n",
       "      <th>Item_Identifier</th>\n",
       "      <th>Item_Weight</th>\n",
       "      <th>Item_Fat_Content</th>\n",
       "      <th>Item_Visibility</th>\n",
       "      <th>Item_Type</th>\n",
       "      <th>Item_MRP</th>\n",
       "      <th>Outlet_Identifier</th>\n",
       "      <th>Outlet_Establishment_Year</th>\n",
       "      <th>Outlet_Size</th>\n",
       "      <th>Outlet_Location_Type</th>\n",
       "      <th>Outlet_Type</th>\n",
       "      <th>Item_Outlet_Sales</th>\n",
       "    </tr>\n",
       "  </thead>\n",
       "  <tbody>\n",
       "    <tr>\n",
       "      <th>0</th>\n",
       "      <td>FDA15</td>\n",
       "      <td>9.30</td>\n",
       "      <td>Low Fat</td>\n",
       "      <td>0.016047</td>\n",
       "      <td>Dairy</td>\n",
       "      <td>249.8092</td>\n",
       "      <td>OUT049</td>\n",
       "      <td>1999</td>\n",
       "      <td>Medium</td>\n",
       "      <td>Tier 1</td>\n",
       "      <td>Supermarket Type1</td>\n",
       "      <td>3735.1380</td>\n",
       "    </tr>\n",
       "    <tr>\n",
       "      <th>1</th>\n",
       "      <td>DRC01</td>\n",
       "      <td>5.92</td>\n",
       "      <td>Regular</td>\n",
       "      <td>0.019278</td>\n",
       "      <td>Soft Drinks</td>\n",
       "      <td>48.2692</td>\n",
       "      <td>OUT018</td>\n",
       "      <td>2009</td>\n",
       "      <td>Medium</td>\n",
       "      <td>Tier 3</td>\n",
       "      <td>Supermarket Type2</td>\n",
       "      <td>443.4228</td>\n",
       "    </tr>\n",
       "    <tr>\n",
       "      <th>2</th>\n",
       "      <td>FDN15</td>\n",
       "      <td>17.50</td>\n",
       "      <td>Low Fat</td>\n",
       "      <td>0.016760</td>\n",
       "      <td>Meat</td>\n",
       "      <td>141.6180</td>\n",
       "      <td>OUT049</td>\n",
       "      <td>1999</td>\n",
       "      <td>Medium</td>\n",
       "      <td>Tier 1</td>\n",
       "      <td>Supermarket Type1</td>\n",
       "      <td>2097.2700</td>\n",
       "    </tr>\n",
       "    <tr>\n",
       "      <th>3</th>\n",
       "      <td>FDX07</td>\n",
       "      <td>19.20</td>\n",
       "      <td>Regular</td>\n",
       "      <td>0.000000</td>\n",
       "      <td>Fruits and Vegetables</td>\n",
       "      <td>182.0950</td>\n",
       "      <td>OUT010</td>\n",
       "      <td>1998</td>\n",
       "      <td>NaN</td>\n",
       "      <td>Tier 3</td>\n",
       "      <td>Grocery Store</td>\n",
       "      <td>732.3800</td>\n",
       "    </tr>\n",
       "    <tr>\n",
       "      <th>4</th>\n",
       "      <td>NCD19</td>\n",
       "      <td>8.93</td>\n",
       "      <td>Low Fat</td>\n",
       "      <td>0.000000</td>\n",
       "      <td>Household</td>\n",
       "      <td>53.8614</td>\n",
       "      <td>OUT013</td>\n",
       "      <td>1987</td>\n",
       "      <td>High</td>\n",
       "      <td>Tier 3</td>\n",
       "      <td>Supermarket Type1</td>\n",
       "      <td>994.7052</td>\n",
       "    </tr>\n",
       "  </tbody>\n",
       "</table>\n",
       "</div>"
      ],
      "text/plain": [
       "  Item_Identifier  Item_Weight Item_Fat_Content  Item_Visibility  \\\n",
       "0           FDA15         9.30          Low Fat         0.016047   \n",
       "1           DRC01         5.92          Regular         0.019278   \n",
       "2           FDN15        17.50          Low Fat         0.016760   \n",
       "3           FDX07        19.20          Regular         0.000000   \n",
       "4           NCD19         8.93          Low Fat         0.000000   \n",
       "\n",
       "               Item_Type  Item_MRP Outlet_Identifier  \\\n",
       "0                  Dairy  249.8092            OUT049   \n",
       "1            Soft Drinks   48.2692            OUT018   \n",
       "2                   Meat  141.6180            OUT049   \n",
       "3  Fruits and Vegetables  182.0950            OUT010   \n",
       "4              Household   53.8614            OUT013   \n",
       "\n",
       "   Outlet_Establishment_Year Outlet_Size Outlet_Location_Type  \\\n",
       "0                       1999      Medium               Tier 1   \n",
       "1                       2009      Medium               Tier 3   \n",
       "2                       1999      Medium               Tier 1   \n",
       "3                       1998         NaN               Tier 3   \n",
       "4                       1987        High               Tier 3   \n",
       "\n",
       "         Outlet_Type  Item_Outlet_Sales  \n",
       "0  Supermarket Type1          3735.1380  \n",
       "1  Supermarket Type2           443.4228  \n",
       "2  Supermarket Type1          2097.2700  \n",
       "3      Grocery Store           732.3800  \n",
       "4  Supermarket Type1           994.7052  "
      ]
     },
     "execution_count": 20,
     "metadata": {},
     "output_type": "execute_result"
    }
   ],
   "source": [
    "df.head()"
   ]
  },
  {
   "cell_type": "code",
   "execution_count": 21,
   "id": "8ee37007",
   "metadata": {},
   "outputs": [
    {
     "name": "stdout",
     "output_type": "stream",
     "text": [
      "<class 'pandas.core.frame.DataFrame'>\n",
      "RangeIndex: 8523 entries, 0 to 8522\n",
      "Data columns (total 12 columns):\n",
      " #   Column                     Non-Null Count  Dtype  \n",
      "---  ------                     --------------  -----  \n",
      " 0   Item_Identifier            8523 non-null   object \n",
      " 1   Item_Weight                7060 non-null   float64\n",
      " 2   Item_Fat_Content           8523 non-null   object \n",
      " 3   Item_Visibility            8523 non-null   float64\n",
      " 4   Item_Type                  8523 non-null   object \n",
      " 5   Item_MRP                   8523 non-null   float64\n",
      " 6   Outlet_Identifier          8523 non-null   object \n",
      " 7   Outlet_Establishment_Year  8523 non-null   int64  \n",
      " 8   Outlet_Size                6113 non-null   object \n",
      " 9   Outlet_Location_Type       8523 non-null   object \n",
      " 10  Outlet_Type                8523 non-null   object \n",
      " 11  Item_Outlet_Sales          8523 non-null   float64\n",
      "dtypes: float64(4), int64(1), object(7)\n",
      "memory usage: 799.2+ KB\n"
     ]
    }
   ],
   "source": [
    "df.info()"
   ]
  },
  {
   "cell_type": "code",
   "execution_count": 22,
   "id": "442d21ce",
   "metadata": {},
   "outputs": [
    {
     "data": {
      "text/html": [
       "<div>\n",
       "<style scoped>\n",
       "    .dataframe tbody tr th:only-of-type {\n",
       "        vertical-align: middle;\n",
       "    }\n",
       "\n",
       "    .dataframe tbody tr th {\n",
       "        vertical-align: top;\n",
       "    }\n",
       "\n",
       "    .dataframe thead th {\n",
       "        text-align: right;\n",
       "    }\n",
       "</style>\n",
       "<table border=\"1\" class=\"dataframe\">\n",
       "  <thead>\n",
       "    <tr style=\"text-align: right;\">\n",
       "      <th></th>\n",
       "      <th>Item_Weight</th>\n",
       "      <th>Item_Visibility</th>\n",
       "      <th>Item_MRP</th>\n",
       "      <th>Outlet_Establishment_Year</th>\n",
       "      <th>Item_Outlet_Sales</th>\n",
       "    </tr>\n",
       "  </thead>\n",
       "  <tbody>\n",
       "    <tr>\n",
       "      <th>count</th>\n",
       "      <td>7060.000000</td>\n",
       "      <td>8523.000000</td>\n",
       "      <td>8523.000000</td>\n",
       "      <td>8523.000000</td>\n",
       "      <td>8523.000000</td>\n",
       "    </tr>\n",
       "    <tr>\n",
       "      <th>mean</th>\n",
       "      <td>12.857645</td>\n",
       "      <td>0.066132</td>\n",
       "      <td>140.992782</td>\n",
       "      <td>1997.831867</td>\n",
       "      <td>2181.288914</td>\n",
       "    </tr>\n",
       "    <tr>\n",
       "      <th>std</th>\n",
       "      <td>4.643456</td>\n",
       "      <td>0.051598</td>\n",
       "      <td>62.275067</td>\n",
       "      <td>8.371760</td>\n",
       "      <td>1706.499616</td>\n",
       "    </tr>\n",
       "    <tr>\n",
       "      <th>min</th>\n",
       "      <td>4.555000</td>\n",
       "      <td>0.000000</td>\n",
       "      <td>31.290000</td>\n",
       "      <td>1985.000000</td>\n",
       "      <td>33.290000</td>\n",
       "    </tr>\n",
       "    <tr>\n",
       "      <th>25%</th>\n",
       "      <td>8.773750</td>\n",
       "      <td>0.026989</td>\n",
       "      <td>93.826500</td>\n",
       "      <td>1987.000000</td>\n",
       "      <td>834.247400</td>\n",
       "    </tr>\n",
       "    <tr>\n",
       "      <th>50%</th>\n",
       "      <td>12.600000</td>\n",
       "      <td>0.053931</td>\n",
       "      <td>143.012800</td>\n",
       "      <td>1999.000000</td>\n",
       "      <td>1794.331000</td>\n",
       "    </tr>\n",
       "    <tr>\n",
       "      <th>75%</th>\n",
       "      <td>16.850000</td>\n",
       "      <td>0.094585</td>\n",
       "      <td>185.643700</td>\n",
       "      <td>2004.000000</td>\n",
       "      <td>3101.296400</td>\n",
       "    </tr>\n",
       "    <tr>\n",
       "      <th>max</th>\n",
       "      <td>21.350000</td>\n",
       "      <td>0.328391</td>\n",
       "      <td>266.888400</td>\n",
       "      <td>2009.000000</td>\n",
       "      <td>13086.964800</td>\n",
       "    </tr>\n",
       "  </tbody>\n",
       "</table>\n",
       "</div>"
      ],
      "text/plain": [
       "       Item_Weight  Item_Visibility     Item_MRP  Outlet_Establishment_Year  \\\n",
       "count  7060.000000      8523.000000  8523.000000                8523.000000   \n",
       "mean     12.857645         0.066132   140.992782                1997.831867   \n",
       "std       4.643456         0.051598    62.275067                   8.371760   \n",
       "min       4.555000         0.000000    31.290000                1985.000000   \n",
       "25%       8.773750         0.026989    93.826500                1987.000000   \n",
       "50%      12.600000         0.053931   143.012800                1999.000000   \n",
       "75%      16.850000         0.094585   185.643700                2004.000000   \n",
       "max      21.350000         0.328391   266.888400                2009.000000   \n",
       "\n",
       "       Item_Outlet_Sales  \n",
       "count        8523.000000  \n",
       "mean         2181.288914  \n",
       "std          1706.499616  \n",
       "min            33.290000  \n",
       "25%           834.247400  \n",
       "50%          1794.331000  \n",
       "75%          3101.296400  \n",
       "max         13086.964800  "
      ]
     },
     "execution_count": 22,
     "metadata": {},
     "output_type": "execute_result"
    }
   ],
   "source": [
    "df.describe()"
   ]
  },
  {
   "cell_type": "code",
   "execution_count": 23,
   "id": "1659136e",
   "metadata": {},
   "outputs": [],
   "source": [
    "df['Outlet_Establishment_Year'] = df['Outlet_Establishment_Year'].astype('object')"
   ]
  },
  {
   "cell_type": "code",
   "execution_count": 24,
   "id": "53f07d4a",
   "metadata": {},
   "outputs": [],
   "source": [
    "def type_split(data, cont1, cont2):\n",
    "    for _ in df.columns : \n",
    "        if df[_].dtype == 'object':\n",
    "            cont1.append(_)\n",
    "        else :\n",
    "            cont2.append(_)\n",
    "    return categorical, numerical\n",
    "    "
   ]
  },
  {
   "cell_type": "code",
   "execution_count": 25,
   "id": "351d3acd",
   "metadata": {},
   "outputs": [
    {
     "data": {
      "text/plain": [
       "(['Item_Identifier',\n",
       "  'Item_Fat_Content',\n",
       "  'Item_Type',\n",
       "  'Outlet_Identifier',\n",
       "  'Outlet_Establishment_Year',\n",
       "  'Outlet_Size',\n",
       "  'Outlet_Location_Type',\n",
       "  'Outlet_Type'],\n",
       " ['Item_Weight', 'Item_Visibility', 'Item_MRP', 'Item_Outlet_Sales'])"
      ]
     },
     "execution_count": 25,
     "metadata": {},
     "output_type": "execute_result"
    }
   ],
   "source": [
    "categorical = []\n",
    "numerical = []\n",
    "type_split(data= df, cont1= categorical, cont2 = numerical)"
   ]
  },
  {
   "cell_type": "code",
   "execution_count": 26,
   "id": "a9f1988a",
   "metadata": {},
   "outputs": [
    {
     "data": {
      "image/png": "[encoded data removed]",
      "text/plain": [
       "<Figure size 432x288 with 1 Axes>"
      ]
     },
     "metadata": {
      "needs_background": "light"
     },
     "output_type": "display_data"
    },
    {
     "data": {
      "image/png": "[encoded data removed]",
      "text/plain": [
       "<Figure size 432x288 with 1 Axes>"
      ]
     },
     "metadata": {
      "needs_background": "light"
     },
     "output_type": "display_data"
    },
    {
     "data": {
      "image/png": "[encoded data removed]",
      "text/plain": [
       "<Figure size 432x288 with 1 Axes>"
      ]
     },
     "metadata": {
      "needs_background": "light"
     },
     "output_type": "display_data"
    },
    {
     "data": {
      "image/png": "[encoded data removed]",
      "text/plain": [
       "<Figure size 432x288 with 1 Axes>"
      ]
     },
     "metadata": {
      "needs_background": "light"
     },
     "output_type": "display_data"
    }
   ],
   "source": [
    "for col in numerical :\n",
    "    sns.boxplot(data = df, x= col)\n",
    "    plt.title(f'Distribution of {col}')\n",
    "    plt.show()"
   ]
  },
  {
   "cell_type": "markdown",
   "id": "5c6beb43",
   "metadata": {},
   "source": [
    "We can deduce from the boxplots that **Item_Visibility** and **Item_Outlet_Sales**, but We are only going to fix Item_Visibility since Item_Outlet_Sales is a **Target Variable** and It should be **left alone**."
   ]
  },
  {
   "cell_type": "code",
   "execution_count": 27,
   "id": "2d9dc1d4",
   "metadata": {},
   "outputs": [
    {
     "data": {
      "text/plain": [
       "count    8523.000000\n",
       "mean        0.066132\n",
       "std         0.051598\n",
       "min         0.000000\n",
       "25%         0.026989\n",
       "50%         0.053931\n",
       "75%         0.094585\n",
       "max         0.328391\n",
       "Name: Item_Visibility, dtype: float64"
      ]
     },
     "execution_count": 27,
     "metadata": {},
     "output_type": "execute_result"
    }
   ],
   "source": [
    "df['Item_Visibility'].describe()"
   ]
  },
  {
   "cell_type": "code",
   "execution_count": 28,
   "id": "72af541c",
   "metadata": {},
   "outputs": [],
   "source": [
    "def kdeplot(data, x) :\n",
    "    for col in x :\n",
    "        sns.kdeplot(data = data, x= col)\n",
    "        plt.title(f'Distribution of {col}')\n",
    "        plt.show()"
   ]
  },
  {
   "cell_type": "code",
   "execution_count": 29,
   "id": "5dcc88ac",
   "metadata": {},
   "outputs": [
    {
     "data": {
      "image/png": "[encoded data removed]",
      "text/plain": [
       "<Figure size 432x288 with 1 Axes>"
      ]
     },
     "metadata": {
      "needs_background": "light"
     },
     "output_type": "display_data"
    },
    {
     "data": {
      "image/png": "[encoded data removed]",
      "text/plain": [
       "<Figure size 432x288 with 1 Axes>"
      ]
     },
     "metadata": {
      "needs_background": "light"
     },
     "output_type": "display_data"
    },
    {
     "data": {
      "image/png": "[encoded data removed]",
      "text/plain": [
       "<Figure size 432x288 with 1 Axes>"
      ]
     },
     "metadata": {
      "needs_background": "light"
     },
     "output_type": "display_data"
    },
    {
     "data": {
      "image/png": "[encoded data removed]",
      "text/plain": [
       "<Figure size 432x288 with 1 Axes>"
      ]
     },
     "metadata": {
      "needs_background": "light"
     },
     "output_type": "display_data"
    }
   ],
   "source": [
    "kdeplot(df, numerical)"
   ]
  },
  {
   "cell_type": "code",
   "execution_count": 30,
   "id": "3c52a4a3",
   "metadata": {},
   "outputs": [
    {
     "data": {
      "image/png": "[encoded data removed]",
      "text/plain": [
       "<Figure size 1584x1296 with 4 Axes>"
      ]
     },
     "metadata": {
      "needs_background": "light"
     },
     "output_type": "display_data"
    }
   ],
   "source": [
    "%matplotlib inline\n",
    "df.hist(bins = 50, figsize = (22, 18))\n",
    "plt.show()"
   ]
  },
  {
   "cell_type": "markdown",
   "id": "abb22d7d",
   "metadata": {},
   "source": [
    "You can see for both Kdeplot and Histplot the distribution of Item_Visibility shows Outliers from how skewed it looks."
   ]
  },
  {
   "cell_type": "code",
   "execution_count": 31,
   "id": "325b7e43",
   "metadata": {},
   "outputs": [
    {
     "data": {
      "text/plain": [
       "('Inner fence : [49, 83, 108, 174, 334, 434, 502, 521, 532, 680, 847, 854, 966, 1159, 1225, 1272, 1291, 1311, 1324, 1434, 1496, 1501, 1560, 1575, 1644, 1651, 1754, 1805, 1827, 1841, 1941, 2081, 2088, 2122, 2177, 2251, 2324, 2336, 2401, 2403, 2439, 2445, 2586, 2613, 2728, 2855, 2895, 3001, 3017, 3171, 3206, 3336, 3341, 3399, 3458, 3474, 3488, 3497, 3540, 3750, 3767, 3811, 3884, 3993, 4006, 4175, 4192, 4219, 4350, 4382, 4408, 4530, 4538, 4567, 4656, 4674, 4789, 4941, 4987, 5031, 5050, 5057, 5083, 5150, 5154, 5287, 5354, 5366, 5374, 5445, 5634, 5732, 5734, 5784, 5795, 5837, 5880, 5891, 5946, 6008, 6012, 6102, 6179, 6536, 6547, 6576, 6622, 6647, 6670, 6674, 6786, 6833, 6903, 6909, 6926, 6953, 6966, 7005, 7030, 7072, 7081, 7088, 7107, 7121, 7215, 7250, 7278, 7368, 7388, 7499, 7558, 7603, 7639, 7744, 7866, 7949, 8194, 8215, 8273, 8292, 8345, 8371, 8432, 8509]',\n",
       " 'outer fence : [521, 854, 1805, 2251, 2855, 3474, 3540, 3750, 4382, 5150, 5732, 6622, 7250, 7603, 8194]')"
      ]
     },
     "execution_count": 31,
     "metadata": {},
     "output_type": "execute_result"
    }
   ],
   "source": [
    "Tukeys(df,'Item_Visibility')"
   ]
  },
  {
   "cell_type": "markdown",
   "id": "b56c2814",
   "metadata": {},
   "source": [
    "We can see indexes of **Inner fences** and **Outer fences**"
   ]
  },
  {
   "cell_type": "markdown",
   "id": "842d75aa",
   "metadata": {},
   "source": [
    "### Lets fix it"
   ]
  },
  {
   "cell_type": "code",
   "execution_count": 32,
   "id": "046b55fe",
   "metadata": {},
   "outputs": [
    {
     "data": {
      "image/png": "[encoded data removed]",
      "text/plain": [
       "<Figure size 432x288 with 1 Axes>"
      ]
     },
     "metadata": {
      "needs_background": "light"
     },
     "output_type": "display_data"
    }
   ],
   "source": [
    "sns.boxplot(data = df,x='Item_Visibility')\n",
    "plt.show()"
   ]
  },
  {
   "cell_type": "code",
   "execution_count": 33,
   "id": "8f15a9d8",
   "metadata": {},
   "outputs": [
    {
     "name": "stderr",
     "output_type": "stream",
     "text": [
      "C:\\Users\\HP\\anaconda3\\lib\\site-packages\\pandas\\core\\arraylike.py:364: RuntimeWarning: divide by zero encountered in log\n",
      "  result = getattr(ufunc, method)(*inputs, **kwargs)\n"
     ]
    }
   ],
   "source": [
    "df['Item_Visibility_log'] = log_transformed(df,'Item_Visibility','Item_Visibility_log')"
   ]
  },
  {
   "cell_type": "code",
   "execution_count": 34,
   "id": "1837e4d5",
   "metadata": {},
   "outputs": [
    {
     "data": {
      "image/png": "[encoded data removed]",
      "text/plain": [
       "<Figure size 432x288 with 1 Axes>"
      ]
     },
     "metadata": {
      "needs_background": "light"
     },
     "output_type": "display_data"
    }
   ],
   "source": [
    "sns.boxplot(data = df,x='Item_Visibility_log')\n",
    "plt.show()"
   ]
  },
  {
   "cell_type": "code",
   "execution_count": 35,
   "id": "264981e9",
   "metadata": {},
   "outputs": [],
   "source": [
    "df['Item_Visibility_cap'] = winsorizing(df, 'Item_Visibility', 'Item_Visibility_cap', 0.05, 0.95)"
   ]
  },
  {
   "cell_type": "code",
   "execution_count": 36,
   "id": "8a444d8d",
   "metadata": {},
   "outputs": [
    {
     "data": {
      "image/png": "[encoded data removed]",
      "text/plain": [
       "<Figure size 432x288 with 1 Axes>"
      ]
     },
     "metadata": {
      "needs_background": "light"
     },
     "output_type": "display_data"
    }
   ],
   "source": [
    "sns.boxplot(data = df,x='Item_Visibility_cap')\n",
    "plt.show()"
   ]
  },
  {
   "cell_type": "code",
   "execution_count": 37,
   "id": "01870167",
   "metadata": {},
   "outputs": [],
   "source": [
    "##Lets make it cover only the probable outliers, It is set to that by default\n",
    "df['Item_Visibility_prob'] = Imputation(df, 'Item_Visibility', 'Item_Visibility_imp', np.median(df['Item_Visibility']))"
   ]
  },
  {
   "cell_type": "code",
   "execution_count": 38,
   "id": "8b5b70b9",
   "metadata": {},
   "outputs": [
    {
     "data": {
      "image/png": "[encoded data removed]",
      "text/plain": [
       "<Figure size 432x288 with 1 Axes>"
      ]
     },
     "metadata": {
      "needs_background": "light"
     },
     "output_type": "display_data"
    }
   ],
   "source": [
    "sns.boxplot(data = df,x='Item_Visibility_prob')\n",
    "plt.show()"
   ]
  },
  {
   "cell_type": "code",
   "execution_count": 39,
   "id": "30814dab",
   "metadata": {},
   "outputs": [],
   "source": [
    "##Lets make it cover the possible outliers too\n",
    "df['Item_Visibility_poss'] = Imputation(df, 'Item_Visibility', 'Item_Visibility_imp', np.median(df['Item_Visibility']),1.5)"
   ]
  },
  {
   "cell_type": "code",
   "execution_count": 40,
   "id": "a87d9e39",
   "metadata": {},
   "outputs": [
    {
     "data": {
      "image/png": "[encoded data removed]",
      "text/plain": [
       "<Figure size 432x288 with 1 Axes>"
      ]
     },
     "metadata": {
      "needs_background": "light"
     },
     "output_type": "display_data"
    }
   ],
   "source": [
    "\n",
    "sns.boxplot(data = df,x='Item_Visibility_poss')\n",
    "plt.show()"
   ]
  },
  {
   "cell_type": "code",
   "execution_count": 41,
   "id": "e25cf8b9",
   "metadata": {},
   "outputs": [],
   "source": [
    "new_df = df[['Item_Visibility','Item_Visibility_log','Item_Visibility_cap','Item_Visibility_prob','Item_Visibility_poss']]"
   ]
  },
  {
   "cell_type": "code",
   "execution_count": 42,
   "id": "b77e3d16",
   "metadata": {},
   "outputs": [
    {
     "data": {
      "text/html": [
       "<div>\n",
       "<style scoped>\n",
       "    .dataframe tbody tr th:only-of-type {\n",
       "        vertical-align: middle;\n",
       "    }\n",
       "\n",
       "    .dataframe tbody tr th {\n",
       "        vertical-align: top;\n",
       "    }\n",
       "\n",
       "    .dataframe thead th {\n",
       "        text-align: right;\n",
       "    }\n",
       "</style>\n",
       "<table border=\"1\" class=\"dataframe\">\n",
       "  <thead>\n",
       "    <tr style=\"text-align: right;\">\n",
       "      <th></th>\n",
       "      <th>Item_Visibility</th>\n",
       "      <th>Item_Visibility_log</th>\n",
       "      <th>Item_Visibility_cap</th>\n",
       "      <th>Item_Visibility_prob</th>\n",
       "      <th>Item_Visibility_poss</th>\n",
       "    </tr>\n",
       "  </thead>\n",
       "  <tbody>\n",
       "    <tr>\n",
       "      <th>count</th>\n",
       "      <td>8523.000000</td>\n",
       "      <td>8523.000000</td>\n",
       "      <td>8523.000000</td>\n",
       "      <td>8523.000000</td>\n",
       "      <td>8523.000000</td>\n",
       "    </tr>\n",
       "    <tr>\n",
       "      <th>mean</th>\n",
       "      <td>0.066132</td>\n",
       "      <td>-inf</td>\n",
       "      <td>0.064353</td>\n",
       "      <td>0.065684</td>\n",
       "      <td>0.062907</td>\n",
       "    </tr>\n",
       "    <tr>\n",
       "      <th>std</th>\n",
       "      <td>0.051598</td>\n",
       "      <td>NaN</td>\n",
       "      <td>0.046606</td>\n",
       "      <td>0.050586</td>\n",
       "      <td>0.045753</td>\n",
       "    </tr>\n",
       "    <tr>\n",
       "      <th>min</th>\n",
       "      <td>0.000000</td>\n",
       "      <td>-inf</td>\n",
       "      <td>0.000000</td>\n",
       "      <td>0.000000</td>\n",
       "      <td>0.000000</td>\n",
       "    </tr>\n",
       "    <tr>\n",
       "      <th>25%</th>\n",
       "      <td>0.026989</td>\n",
       "      <td>-2.612308</td>\n",
       "      <td>0.026989</td>\n",
       "      <td>0.026989</td>\n",
       "      <td>0.026989</td>\n",
       "    </tr>\n",
       "    <tr>\n",
       "      <th>50%</th>\n",
       "      <td>0.053931</td>\n",
       "      <td>-1.920051</td>\n",
       "      <td>0.053931</td>\n",
       "      <td>0.053931</td>\n",
       "      <td>0.053931</td>\n",
       "    </tr>\n",
       "    <tr>\n",
       "      <th>75%</th>\n",
       "      <td>0.094585</td>\n",
       "      <td>-1.358253</td>\n",
       "      <td>0.094585</td>\n",
       "      <td>0.094256</td>\n",
       "      <td>0.091097</td>\n",
       "    </tr>\n",
       "    <tr>\n",
       "      <th>max</th>\n",
       "      <td>0.328391</td>\n",
       "      <td>-0.113550</td>\n",
       "      <td>0.163780</td>\n",
       "      <td>0.297313</td>\n",
       "      <td>0.195721</td>\n",
       "    </tr>\n",
       "  </tbody>\n",
       "</table>\n",
       "</div>"
      ],
      "text/plain": [
       "       Item_Visibility  Item_Visibility_log  Item_Visibility_cap  \\\n",
       "count      8523.000000          8523.000000          8523.000000   \n",
       "mean          0.066132                 -inf             0.064353   \n",
       "std           0.051598                  NaN             0.046606   \n",
       "min           0.000000                 -inf             0.000000   \n",
       "25%           0.026989            -2.612308             0.026989   \n",
       "50%           0.053931            -1.920051             0.053931   \n",
       "75%           0.094585            -1.358253             0.094585   \n",
       "max           0.328391            -0.113550             0.163780   \n",
       "\n",
       "       Item_Visibility_prob  Item_Visibility_poss  \n",
       "count           8523.000000           8523.000000  \n",
       "mean               0.065684              0.062907  \n",
       "std                0.050586              0.045753  \n",
       "min                0.000000              0.000000  \n",
       "25%                0.026989              0.026989  \n",
       "50%                0.053931              0.053931  \n",
       "75%                0.094256              0.091097  \n",
       "max                0.297313              0.195721  "
      ]
     },
     "execution_count": 42,
     "metadata": {},
     "output_type": "execute_result"
    }
   ],
   "source": [
    "new_df.describe()"
   ]
  },
  {
   "cell_type": "markdown",
   "id": "cd2d0a56",
   "metadata": {},
   "source": [
    "You Can see the the difference after using various techniques to fix the outliers. One can see that using log is off the list , then depending on ones understanding of the data, we can pick the one that worked best from the remaining.\n",
    "\n",
    "### There are other ways to detect and fix outliers not treated here."
   ]
  }
 ],
 "metadata": {
  "kernelspec": {
   "display_name": "Python 3 (ipykernel)",
   "language": "python",
   "name": "python3"
  },
  "language_info": {
   "codemirror_mode": {
    "name": "ipython",
    "version": 3
   },
   "file_extension": ".py",
   "mimetype": "text/x-python",
   "name": "python",
   "nbconvert_exporter": "python",
   "pygments_lexer": "ipython3",
   "version": "3.8.12"
  }
 },
 "nbformat": 4,
 "nbformat_minor": 5
}
